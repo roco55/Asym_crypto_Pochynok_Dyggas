{
 "cells": [
  {
   "cell_type": "markdown",
   "metadata": {},
   "source": [
    "# Лабораторна робота 1 з \"Асиметричних криптосистем та протоколів\"\n",
    "## Тема: Побудова тестів для перевірки якості випадкових та псевдовипадкових послідовностей.\n",
    "\n",
    "**Виконали**\\\n",
    "Дигас Богдан, ФІ-03\\\n",
    "Починок Юрій, ФІ-03"
   ]
  },
  {
   "cell_type": "markdown",
   "metadata": {},
   "source": [
    "## Additional functional\n"
   ]
  },
  {
   "cell_type": "code",
   "execution_count": 57,
   "metadata": {},
   "outputs": [],
   "source": [
    "import random as rand\n",
    "import numpy as np\n",
    "import scipy"
   ]
  },
  {
   "cell_type": "code",
   "execution_count": 58,
   "metadata": {},
   "outputs": [],
   "source": [
    "def bin_to_dec(bin_n):\n",
    "    dec_n = 0\n",
    "    res = 0\n",
    "    for i in range(len(bin_n)):\n",
    "        res = bin_n[len(bin_n) - i - 1] * 2 ** i\n",
    "        dec_n += res\n",
    "    return dec_n\n",
    "\n",
    "def bin_add(a, b):\n",
    "    len_a = len(a)\n",
    "    result = [0]*32\n",
    "    carry = 0\n",
    "    for i in range(len_a):\n",
    "        result[len_a - i - 1] = a[len_a - i - 1] + b[len_a - i - 1] + carry\n",
    "        carry = int(result[len_a - i - 1] / 2)\n",
    "        result[len_a - i - 1] = result[len_a - i - 1] % 2\n",
    "    return result\n",
    "\n",
    "\n",
    "def bin_mul(a,b):\n",
    "    len_a = len(a)\n",
    "    res_add = [0]*32\n",
    "    for i in range(len_a):\n",
    "        res_mul = [0]*32\n",
    "        for j in range(len_a-i):\n",
    "            res_mul[len_a-1-i-j] = a[len_a-1-i] & b[len_a-1-j]\n",
    "        res_add = bin_add(res_add, res_mul)\n",
    "        res_add\n",
    "    return res_add\n",
    "\n",
    "def generate_bit_seq(n):\n",
    "    seq = [0]*n\n",
    "    for i in range(n):\n",
    "        seq[i] = rand.randint(0, 1)\n",
    "    return seq\n",
    "\n",
    "def bits_to_bytes(x):\n",
    "    length = int((len(x)+7)/8)\n",
    "    result = [0]*length\n",
    "    x = [str(a) for a in x]\n",
    "    for i in range(length):\n",
    "        result[i] = ''.join((x[8*i : 8*(i+1)]))\n",
    "    return result\n",
    "\n"
   ]
  },
  {
   "cell_type": "markdown",
   "metadata": {},
   "source": [
    "## Вбудований генератор"
   ]
  },
  {
   "cell_type": "code",
   "execution_count": 59,
   "metadata": {},
   "outputs": [],
   "source": [
    "def built_in_randomizer(n):\n",
    "    return(generate_bit_seq(n))"
   ]
  },
  {
   "cell_type": "markdown",
   "metadata": {},
   "source": [
    "## Lehmer low/high\n",
    "\n"
   ]
  },
  {
   "cell_type": "markdown",
   "metadata": {},
   "source": [
    "### Define constants $a, c, x_0, m, \\alpha$"
   ]
  },
  {
   "cell_type": "code",
   "execution_count": 60,
   "metadata": {},
   "outputs": [],
   "source": [
    "#constants\n",
    "a = [0, 0, 0, 0, 0, 0, 0, 0, 0, 0, 0, 0, 0, 0, 0, 1, 0, 0, 0, 0, 0, 0, 0, 0, 0, 0, 0, 0, 0, 0, 0, 1]\n",
    "c = [0, 0, 0, 0, 0, 0, 0, 0, 0, 0, 0, 0, 0, 0, 0, 0, 0, 0, 0, 0, 0, 0, 0, 0, 0, 1, 1, 1, 0, 1, 1, 1]\n",
    "x0 = [0, 0, 0, 0, 0, 0, 0, 0, 0, 0, 0, 0, 0, 0, 0, 0, 0, 0, 0, 0, 0, 0, 0, 0, 0, 0, 0, 0, 0, 0, 0, 1]\n",
    "m = [1, 0, 0, 0, 0, 0, 0, 0, 0, 0, 0, 0, 0, 0, 0, 0, 0, 0, 0, 0, 0, 0, 0, 0, 0, 0, 0, 0, 0, 0, 0, 0, 0]\n",
    "alpha = 0.05 # Точність"
   ]
  },
  {
   "cell_type": "code",
   "execution_count": 61,
   "metadata": {},
   "outputs": [],
   "source": [
    "def lehmer_low(x0,n):\n",
    "    res = [0]*8\n",
    "    length = 8\n",
    "    result =[0]*n\n",
    "    for i in range(n):\n",
    "        x0 = bin_add((bin_mul(a,x0)),c)\n",
    "        for j in range(length):\n",
    "            res[j] = x0[32-length+j]\n",
    "        result[i] = f'{(bin_to_dec(res)%256):08b}'\n",
    "\n",
    "    return result\n",
    "\n",
    "def lehmer_high(x0,n):\n",
    "    res = [0]*8\n",
    "    result =[0]*n\n",
    "    result[0] = f'{(bin_to_dec(res)):08b}'\n",
    "    length = 8\n",
    "    for i in range(1, n):\n",
    "        x0 = bin_add((bin_mul(a,x0)),c)\n",
    "        for j in range(length):\n",
    "            res[j] = x0[j]\n",
    "        result[i] = f'{(bin_to_dec(res)%256):08b}'\n",
    "    \n",
    "    return result\n"
   ]
  },
  {
   "cell_type": "markdown",
   "metadata": {},
   "source": [
    "## L20\n"
   ]
  },
  {
   "cell_type": "code",
   "execution_count": 62,
   "metadata": {},
   "outputs": [],
   "source": [
    "def L20(n):\n",
    "    seq = generate_bit_seq(20)\n",
    "    result = [0]*n\n",
    "    for i in range(20):\n",
    "        result[i] = seq[i]\n",
    "    for i in range(20,n):\n",
    "        result[i] = result[i-3]^result[i-5]^result[i-9]^result[i-20]\n",
    "    return result"
   ]
  },
  {
   "cell_type": "markdown",
   "metadata": {},
   "source": [
    "## L89"
   ]
  },
  {
   "cell_type": "code",
   "execution_count": 63,
   "metadata": {},
   "outputs": [],
   "source": [
    "def L89(n):\n",
    "    seq = generate_bit_seq(89)\n",
    "    result = [0]*n\n",
    "    for i in range(89):\n",
    "        result[i] = seq[i]\n",
    "    for i in range(89,n):\n",
    "        result[i] = result[i-38]^result[i-89]\n",
    "    return result"
   ]
  },
  {
   "cell_type": "markdown",
   "metadata": {},
   "source": [
    "## Geffe"
   ]
  },
  {
   "cell_type": "code",
   "execution_count": 64,
   "metadata": {},
   "outputs": [],
   "source": [
    "def L11(n):\n",
    "    seq = generate_bit_seq(11)\n",
    "    result = [0]*n\n",
    "    for i in range(11):\n",
    "        result[i] = seq[i]\n",
    "    for i in range(11,n):\n",
    "        result[i] = result[i-11]^result[i-9]\n",
    "    return result\n",
    "\n",
    "def L9(n):\n",
    "    seq = generate_bit_seq(9)\n",
    "    result = [0]*n\n",
    "    for i in range(9):\n",
    "        result[i] = seq[i]\n",
    "    for i in range(9,n):\n",
    "        result[i] = result[i-9]^result[i-8]^result[i-6]^result[i-5]\n",
    "    return result\n",
    "\n",
    "def L10(n):\n",
    "    seq = generate_bit_seq(10)\n",
    "    result = [0]*n\n",
    "    for i in range(10):\n",
    "        result[i] = seq[i]\n",
    "    for i in range(10,n):\n",
    "        result[i] = result[i-10]^result[i-7]\n",
    "    return result\n",
    "\n",
    "def geffe(n):\n",
    "    result = [0]*n\n",
    "    x = L11(n)\n",
    "    y = L9(n)\n",
    "    s = L10(n)\n",
    "    for i in range(n):\n",
    "        result[i]=s[i]&x[i]^(1^s[i])&y[i]\n",
    "    return result\n"
   ]
  },
  {
   "cell_type": "markdown",
   "metadata": {},
   "source": [
    "## Бібліотекар"
   ]
  },
  {
   "cell_type": "code",
   "execution_count": 65,
   "metadata": {},
   "outputs": [],
   "source": [
    "import io\n",
    "\n",
    "def Librarian(n):\n",
    "    file = io.open(\"book-war-and-peace.txt\", mode='r', encoding='utf-8')\n",
    "    text = file.read()\n",
    "    clean_text = \"\"\n",
    "    for i in text:\n",
    "        if ord(i) < 256:\n",
    "            clean_text += i\n",
    "    \n",
    "    print(\"The text was already clean\" if len(clean_text) == len(text) else \"The text wasn't clean, we cleaned \" + str(len(text) - len(clean_text)) + \" symbols\")\n",
    "    \n",
    "    max_bytes = len(clean_text)\n",
    "    if n > max_bytes:\n",
    "        print(\"Sorry, the maximum bytes here is: \", max_bytes, \", please try again.\")\n",
    "        return 1\n",
    "    \n",
    "    result = [0]*n\n",
    "    for i in range(n):\n",
    "        result[i] = f'{(ord(clean_text[i])):08b}'\n",
    "    \n",
    "    return result\n"
   ]
  },
  {
   "cell_type": "markdown",
   "metadata": {},
   "source": [
    "## Вольфрам"
   ]
  },
  {
   "cell_type": "code",
   "execution_count": 66,
   "metadata": {},
   "outputs": [],
   "source": [
    "def cycle_shift_l(n, n_bits, shift):\n",
    "    shift = shift % n_bits\n",
    "    return ((n << shift) | (n >> (n_bits - shift))) % 2**n_bits\n",
    "\n",
    "def cycle_shift_r(n, n_bits, shift):\n",
    "    shift = shift % n_bits\n",
    "    return ((n >> shift) | (n << (n_bits - shift))) % 2**n_bits\n",
    "\n",
    "    \n",
    "\n",
    "def Wolfram(n):\n",
    "    r = np.uint32(rand.randint(0, 2**32-1))\n",
    "    result = [0]*n\n",
    "\n",
    "    for i in range(n):\n",
    "        result[i] = r % 2\n",
    "        r = cycle_shift_l(r, 32, 1) ^ (r | cycle_shift_r(r, 32, 1))\n",
    "    return result"
   ]
  },
  {
   "cell_type": "markdown",
   "metadata": {},
   "source": [
    "## BM"
   ]
  },
  {
   "cell_type": "code",
   "execution_count": 67,
   "metadata": {},
   "outputs": [],
   "source": [
    "p1 = int(\"CEA42B987C44FA642D80AD9F51F10457690DEF10C83D0BC1BCEE12FC3B6093E3\",16)\n",
    "a1 = int(\"5B88C41246790891C095E2878880342E88C79974303BD0400B090FE38A688356\",16)\n",
    "q1 = \"675215CC3E227D3216C056CFA8F8822BB486F788641E85E0DE77097E1DB049F1\"\n",
    "\n",
    "def BM(n):\n",
    "    comparing_number = (p1-1)/2\n",
    "    t = rand.randrange(0,a1-1)\n",
    "    result = [0]*n\n",
    "    for i in range(n):\n",
    "        t = pow(a1,t,p1)\n",
    "        if(t<comparing_number):\n",
    "            result[i]=1\n",
    "    return result"
   ]
  },
  {
   "cell_type": "markdown",
   "metadata": {},
   "source": [
    "## BM bytes"
   ]
  },
  {
   "cell_type": "code",
   "execution_count": 68,
   "metadata": {},
   "outputs": [],
   "source": [
    "p1 = int(\"CEA42B987C44FA642D80AD9F51F10457690DEF10C83D0BC1BCEE12FC3B6093E3\",16)\n",
    "a1 = int(\"5B88C41246790891C095E2878880342E88C79974303BD0400B090FE38A688356\",16)\n",
    "q1 = \"675215CC3E227D3216C056CFA8F8822BB486F788641E85E0DE77097E1DB049F1\"\n",
    "\n",
    "def BM_bytes(n):\n",
    "    t = rand.randrange(0,a1-1)\n",
    "    result = [0]*n \n",
    "    for i in range(n):\n",
    "        t = pow(a1,t,p1)\n",
    "        result[i]=f'{(t*256 //(p1-1)):08b}'\n",
    "    return result"
   ]
  },
  {
   "cell_type": "markdown",
   "metadata": {},
   "source": [
    "## BBS"
   ]
  },
  {
   "cell_type": "code",
   "execution_count": 69,
   "metadata": {},
   "outputs": [],
   "source": [
    "p2 = int(\"D5BBB96D30086EC484EBA3D7F9CAEB07\",16)\n",
    "q2 = int(\"425D2B9BFDB25B9CF6C416CC6E37B59C1F\",16)\n",
    "n2 = p2*q2\n",
    "def bbs(n):\n",
    "    r = int(rand.randrange(2,n2))\n",
    "    result = [0]*n\n",
    "    for i in range(n):\n",
    "        r = pow(r,2,n2)\n",
    "        result[i] = r%2\n",
    "    return result\n"
   ]
  },
  {
   "cell_type": "markdown",
   "metadata": {},
   "source": [
    "## BBS bytes"
   ]
  },
  {
   "cell_type": "code",
   "execution_count": 70,
   "metadata": {},
   "outputs": [],
   "source": [
    "p3 = int(\"D5BBB96D30086EC484EBA3D7F9CAEB07\",16)\n",
    "q3 = int(\"425D2B9BFDB25B9CF6C416CC6E37B59C1F\",16)\n",
    "n3 = p3*q3\n",
    "def bbs_bytes(n):\n",
    "    r = int(rand.randrange(2,n3))\n",
    "    result = [0]*n\n",
    "    for i in range(n):\n",
    "        r = pow(r,2,n3)\n",
    "        result[i] = f'{(r%256):08b}'\n",
    "    return result"
   ]
  },
  {
   "cell_type": "markdown",
   "metadata": {},
   "source": [
    "## Analysis\n"
   ]
  },
  {
   "cell_type": "code",
   "execution_count": 71,
   "metadata": {},
   "outputs": [],
   "source": [
    "#Критерій перевірки рівноімовірності знаків\n",
    "\n",
    "def test1(x):\n",
    "    freq = {}\n",
    "    for i in x:\n",
    "        if i in freq:\n",
    "            freq[i] += 1\n",
    "        else:\n",
    "            freq[i] = 1\n",
    "\n",
    "    length = len(x)/len(freq)\n",
    "\n",
    "    xi = 0\n",
    "    for i in freq:\n",
    "        xi = xi + (freq[i]-length)**2/length\n",
    "    #use scipy\n",
    "    xi_alpha = scipy.stats.chi2.ppf(1 - alpha, 2**8 - 1)\n",
    "    #return true/false\n",
    "    print(\"\\nActual Xi^2 = \", xi, \"\\nXi^2 boundary = \", xi_alpha)\n",
    "    return (xi <= xi_alpha)\n"
   ]
  },
  {
   "cell_type": "code",
   "execution_count": 72,
   "metadata": {},
   "outputs": [],
   "source": [
    "#Критерій перевірки незалежності знаків\n",
    "def test2(x):\n",
    "    pairs = np.zeros((2**8, 2**8), dtype=int)\n",
    "    sum = 0\n",
    "    for i in range(0, len(x), 2):\n",
    "        pairs[int(x[i],2)][int(x[i+1],2)] = pairs[int(x[i],2)][int(x[i+1],2)] + 1\n",
    "    for i in range(2**8):\n",
    "        for j in range(2**8):\n",
    "            dilnuk = np.sum(pairs[i,:])*np.sum(pairs[:,j])\n",
    "            # print(dilnuk)\n",
    "            if dilnuk != 0:\n",
    "                sum += (pairs[i,j]**2)/dilnuk\n",
    "    xi = (len(x)/2)*(sum-1)\n",
    "\n",
    "    #use scipy\n",
    "    xi_alpha = scipy.stats.chi2.ppf(1 - alpha, (2**8 - 1)**2)\n",
    "    #return true/false\n",
    "    print(\"\\nActual Xi^2 = \", xi, \"\\nXi^2 boundary = \", xi_alpha)\n",
    "    return (xi <= xi_alpha)\n",
    "\n",
    "\n"
   ]
  },
  {
   "cell_type": "code",
   "execution_count": 73,
   "metadata": {},
   "outputs": [],
   "source": [
    "#Критерій перевірки однорідності двійкової послідовності\n",
    "def test3(x):\n",
    "    sum = 0   \n",
    "    r = 200\n",
    "    pairs = np.zeros((2**8, r), dtype=int)\n",
    "    #розбиття на інтервали\n",
    "    for j in range(0, r):\n",
    "        for i in range(0, len(x) // r):\n",
    "            c = int(x[r*j + i],2)\n",
    "            pairs[c, j] += 1\n",
    "    #хі квадрат\n",
    "    for i in range(2**8):\n",
    "        for j in range(r):\n",
    "            dilnuk = np.sum(pairs[i,:])*np.sum(pairs[:,j])\n",
    "            if dilnuk != 0:\n",
    "                sum += (pairs[i,j]**2)/dilnuk\n",
    "    xi = (len(x))*(sum-1)\n",
    "    #use scipy\n",
    "    xi_alpha = scipy.stats.chi2.ppf(1 - alpha, (2**8-1) * (r-1))\n",
    "    #return true/false\n",
    "    print(\"\\nActual Xi^2 = \", xi, \"\\nXi^2 boundary = \", xi_alpha)\n",
    "    return (xi <= xi_alpha)\n"
   ]
  },
  {
   "cell_type": "markdown",
   "metadata": {},
   "source": [
    "## Тестування"
   ]
  },
  {
   "cell_type": "code",
   "execution_count": 74,
   "metadata": {},
   "outputs": [],
   "source": [
    "def test_bits(thing):\n",
    "    print(\"Критерій перевірки рівноімовірності знаків: \", test1(bits_to_bytes(thing)))\n",
    "    print(\"Критерій перевірки незалежності знаків: \", test2(bits_to_bytes(thing)))\n",
    "    print(\"Критерій перевірки однорідності двійкової послідовності: \", test3(bits_to_bytes(thing)))\n",
    "    \n",
    "def test_bytes(thing):\n",
    "    print(\"Критерій перевірки рівноімовірності знаків: \", test1(thing))\n",
    "    print(\"Критерій перевірки незалежності знаків: \", test2(thing))\n",
    "    print(\"Критерій перевірки однорідності двійкової послідовності: \", test3(thing))"
   ]
  },
  {
   "cell_type": "markdown",
   "metadata": {},
   "source": [
    "### Built-in-RNG\n",
    "\n",
    "<a id='1'></a>"
   ]
  },
  {
   "cell_type": "code",
   "execution_count": 87,
   "metadata": {},
   "outputs": [
    {
     "name": "stdout",
     "output_type": "stream",
     "text": [
      "\n",
      "Actual Xi^2 =  287.00211199999995 \n",
      "Xi^2 boundary =  293.2478350807012\n",
      "Критерій перевірки рівноімовірності знаків:  True\n",
      "\n",
      "Actual Xi^2 =  64668.11375076592 \n",
      "Xi^2 boundary =  65619.30929906295\n",
      "Критерій перевірки незалежності знаків:  True\n",
      "\n",
      "Actual Xi^2 =  51538.317767167886 \n",
      "Xi^2 boundary =  51270.14372803514\n",
      "Критерій перевірки однорідності двійкової послідовності:  False\n"
     ]
    }
   ],
   "source": [
    "thing = built_in_randomizer(1000000)\n",
    "\n",
    "test_bits(thing)"
   ]
  },
  {
   "cell_type": "markdown",
   "metadata": {},
   "source": [
    "### LehmerLow\n",
    "<a id='2'></a>"
   ]
  },
  {
   "cell_type": "code",
   "execution_count": 89,
   "metadata": {},
   "outputs": [
    {
     "name": "stdout",
     "output_type": "stream",
     "text": [
      "\n",
      "Actual Xi^2 =  0.1059839999999993 \n",
      "Xi^2 boundary =  293.2478350807012\n",
      "Критерій перевірки рівноімовірності знаків:  True\n",
      "\n",
      "Actual Xi^2 =  7937500.0 \n",
      "Xi^2 boundary =  65619.30929906295\n",
      "Критерій перевірки незалежності знаків:  False\n",
      "\n",
      "Actual Xi^2 =  5168.473546097924 \n",
      "Xi^2 boundary =  51270.14372803514\n",
      "Критерій перевірки однорідності двійкової послідовності:  True\n"
     ]
    }
   ],
   "source": [
    "thing = lehmer_low(x0, 125000)\n",
    "\n",
    "test_bytes(thing)"
   ]
  },
  {
   "cell_type": "markdown",
   "metadata": {},
   "source": [
    "### LehmerHigh\n",
    "<a id='3'></a>"
   ]
  },
  {
   "cell_type": "code",
   "execution_count": 77,
   "metadata": {},
   "outputs": [
    {
     "name": "stdout",
     "output_type": "stream",
     "text": [
      "\n",
      "Actual Xi^2 =  77.86444799999995 \n",
      "Xi^2 boundary =  293.2478350807012\n",
      "Критерій перевірки рівноімовірності знаків:  True\n",
      "\n",
      "Actual Xi^2 =  64762.25240825007 \n",
      "Xi^2 boundary =  65619.30929906295\n",
      "Критерій перевірки незалежності знаків:  True\n",
      "\n",
      "Actual Xi^2 =  49905.512376565486 \n",
      "Xi^2 boundary =  51270.14372803514\n",
      "Критерій перевірки однорідності двійкової послідовності:  True\n"
     ]
    }
   ],
   "source": [
    "thing = lehmer_high(x0, 125000)\n",
    "\n",
    "test_bytes(thing)"
   ]
  },
  {
   "cell_type": "markdown",
   "metadata": {},
   "source": [
    "### L20\n",
    "<a id='4'></a>"
   ]
  },
  {
   "cell_type": "code",
   "execution_count": 78,
   "metadata": {},
   "outputs": [
    {
     "name": "stdout",
     "output_type": "stream",
     "text": [
      "\n",
      "Actual Xi^2 =  11.868671999999986 \n",
      "Xi^2 boundary =  293.2478350807012\n",
      "Критерій перевірки рівноімовірності знаків:  True\n",
      "\n",
      "Actual Xi^2 =  34081.10739511927 \n",
      "Xi^2 boundary =  65619.30929906295\n",
      "Критерій перевірки незалежності знаків:  True\n",
      "\n",
      "Actual Xi^2 =  44448.090320104995 \n",
      "Xi^2 boundary =  51270.14372803514\n",
      "Критерій перевірки однорідності двійкової послідовності:  True\n"
     ]
    }
   ],
   "source": [
    "thing = L20(8000000)\n",
    "\n",
    "test_bits(thing)"
   ]
  },
  {
   "cell_type": "markdown",
   "metadata": {},
   "source": [
    "### L89\n",
    "<a id='5'></a>"
   ]
  },
  {
   "cell_type": "code",
   "execution_count": 90,
   "metadata": {},
   "outputs": [
    {
     "name": "stdout",
     "output_type": "stream",
     "text": [
      "\n",
      "Actual Xi^2 =  244.54707200000027 \n",
      "Xi^2 boundary =  293.2478350807012\n",
      "Критерій перевірки рівноімовірності знаків:  True\n",
      "\n",
      "Actual Xi^2 =  65554.09058668338 \n",
      "Xi^2 boundary =  65619.30929906295\n",
      "Критерій перевірки незалежності знаків:  True\n",
      "\n",
      "Actual Xi^2 =  49550.40668277072 \n",
      "Xi^2 boundary =  51270.14372803514\n",
      "Критерій перевірки однорідності двійкової послідовності:  True\n"
     ]
    }
   ],
   "source": [
    "thing = L89(1000000)\n",
    "\n",
    "test_bits(thing)"
   ]
  },
  {
   "cell_type": "markdown",
   "metadata": {},
   "source": [
    "### Geffe\n",
    "<a id='6'></a>"
   ]
  },
  {
   "cell_type": "code",
   "execution_count": 80,
   "metadata": {},
   "outputs": [
    {
     "name": "stdout",
     "output_type": "stream",
     "text": [
      "\n",
      "Actual Xi^2 =  226.9383680000002 \n",
      "Xi^2 boundary =  293.2478350807012\n",
      "Критерій перевірки рівноімовірності знаків:  True\n",
      "\n",
      "Actual Xi^2 =  72847.10686852735 \n",
      "Xi^2 boundary =  65619.30929906295\n",
      "Критерій перевірки незалежності знаків:  False\n",
      "\n",
      "Actual Xi^2 =  48599.3604790114 \n",
      "Xi^2 boundary =  51270.14372803514\n",
      "Критерій перевірки однорідності двійкової послідовності:  True\n"
     ]
    }
   ],
   "source": [
    "thing = geffe(1000000)\n",
    "\n",
    "test_bits(thing)"
   ]
  },
  {
   "cell_type": "markdown",
   "metadata": {},
   "source": [
    "### Wolfram\n",
    "<a id='7'></a>"
   ]
  },
  {
   "cell_type": "code",
   "execution_count": 81,
   "metadata": {},
   "outputs": [
    {
     "name": "stdout",
     "output_type": "stream",
     "text": [
      "\n",
      "Actual Xi^2 =  2145.0306560000017 \n",
      "Xi^2 boundary =  293.2478350807012\n",
      "Критерій перевірки рівноімовірності знаків:  False\n",
      "\n",
      "Actual Xi^2 =  594595.8761155948 \n",
      "Xi^2 boundary =  65619.30929906295\n",
      "Критерій перевірки незалежності знаків:  False\n",
      "\n",
      "Actual Xi^2 =  46005.040252522056 \n",
      "Xi^2 boundary =  51270.14372803514\n",
      "Критерій перевірки однорідності двійкової послідовності:  True\n"
     ]
    }
   ],
   "source": [
    "thing = Wolfram(8000000)\n",
    "\n",
    "test_bits(thing)"
   ]
  },
  {
   "cell_type": "markdown",
   "metadata": {},
   "source": [
    "### Librarian\n",
    "<a id='8'></a>"
   ]
  },
  {
   "cell_type": "code",
   "execution_count": 82,
   "metadata": {},
   "outputs": [
    {
     "name": "stdout",
     "output_type": "stream",
     "text": [
      "The text was already clean\n",
      "\n",
      "Actual Xi^2 =  449348.0596479999 \n",
      "Xi^2 boundary =  293.2478350807012\n",
      "Критерій перевірки рівноімовірності знаків:  False\n",
      "\n",
      "Actual Xi^2 =  164600.9022484695 \n",
      "Xi^2 boundary =  65619.30929906295\n",
      "Критерій перевірки незалежності знаків:  False\n",
      "\n",
      "Actual Xi^2 =  15495.404867367473 \n",
      "Xi^2 boundary =  51270.14372803514\n",
      "Критерій перевірки однорідності двійкової послідовності:  True\n"
     ]
    }
   ],
   "source": [
    "thing = Librarian(125000)\n",
    "\n",
    "test_bytes(thing)"
   ]
  },
  {
   "cell_type": "markdown",
   "metadata": {},
   "source": [
    "### BM-Bits\n",
    "<a id='9'></a>"
   ]
  },
  {
   "cell_type": "code",
   "execution_count": 83,
   "metadata": {},
   "outputs": [
    {
     "name": "stdout",
     "output_type": "stream",
     "text": [
      "\n",
      "Actual Xi^2 =  223.32108799999997 \n",
      "Xi^2 boundary =  293.2478350807012\n",
      "Критерій перевірки рівноімовірності знаків:  True\n",
      "\n",
      "Actual Xi^2 =  65047.980993821584 \n",
      "Xi^2 boundary =  65619.30929906295\n",
      "Критерій перевірки незалежності знаків:  True\n",
      "\n",
      "Actual Xi^2 =  44989.90924586233 \n",
      "Xi^2 boundary =  51270.14372803514\n",
      "Критерій перевірки однорідності двійкової послідовності:  True\n"
     ]
    }
   ],
   "source": [
    "thing = BM(8000000)\n",
    "\n",
    "test_bits(thing)"
   ]
  },
  {
   "cell_type": "markdown",
   "metadata": {},
   "source": [
    "### BM-Bytes\n",
    "<a id='10'></a>"
   ]
  },
  {
   "cell_type": "code",
   "execution_count": 84,
   "metadata": {},
   "outputs": [
    {
     "name": "stdout",
     "output_type": "stream",
     "text": [
      "\n",
      "Actual Xi^2 =  283.7678080000002 \n",
      "Xi^2 boundary =  293.2478350807012\n",
      "Критерій перевірки рівноімовірності знаків:  True\n",
      "\n",
      "Actual Xi^2 =  64887.06440666425 \n",
      "Xi^2 boundary =  65619.30929906295\n",
      "Критерій перевірки незалежності знаків:  True\n",
      "\n",
      "Actual Xi^2 =  50322.63518926855 \n",
      "Xi^2 boundary =  51270.14372803514\n",
      "Критерій перевірки однорідності двійкової послідовності:  True\n"
     ]
    }
   ],
   "source": [
    "thing = BM_bytes(250000)\n",
    "\n",
    "test_bytes(thing)"
   ]
  },
  {
   "cell_type": "markdown",
   "metadata": {},
   "source": [
    "### BBS-Bits\n",
    "<a id='11'></a>"
   ]
  },
  {
   "cell_type": "code",
   "execution_count": 85,
   "metadata": {},
   "outputs": [
    {
     "name": "stdout",
     "output_type": "stream",
     "text": [
      "\n",
      "Actual Xi^2 =  299.40889600000014 \n",
      "Xi^2 boundary =  293.2478350807012\n",
      "Критерій перевірки рівноімовірності знаків:  False\n",
      "\n",
      "Actual Xi^2 =  65084.611848969245 \n",
      "Xi^2 boundary =  65619.30929906295\n",
      "Критерій перевірки незалежності знаків:  True\n",
      "\n",
      "Actual Xi^2 =  49463.446322613316 \n",
      "Xi^2 boundary =  51270.14372803514\n",
      "Критерій перевірки однорідності двійкової послідовності:  True\n"
     ]
    }
   ],
   "source": [
    "thing = bbs(1000000)\n",
    "\n",
    "test_bits(thing)"
   ]
  },
  {
   "cell_type": "markdown",
   "metadata": {},
   "source": [
    "### BBS-Bytes\n",
    "<a id='12'></a>"
   ]
  },
  {
   "cell_type": "code",
   "execution_count": 86,
   "metadata": {},
   "outputs": [
    {
     "name": "stdout",
     "output_type": "stream",
     "text": [
      "\n",
      "Actual Xi^2 =  221.4292480000001 \n",
      "Xi^2 boundary =  293.2478350807012\n",
      "Критерій перевірки рівноімовірності знаків:  True\n",
      "\n",
      "Actual Xi^2 =  65110.76714383768 \n",
      "Xi^2 boundary =  65619.30929906295\n",
      "Критерій перевірки незалежності знаків:  True\n",
      "\n",
      "Actual Xi^2 =  49995.47888281081 \n",
      "Xi^2 boundary =  51270.14372803514\n",
      "Критерій перевірки однорідності двійкової послідовності:  True\n"
     ]
    }
   ],
   "source": [
    "thing = bbs_bytes(125000)\n",
    "\n",
    "test_bytes(thing)"
   ]
  },
  {
   "cell_type": "markdown",
   "metadata": {},
   "source": [
    "## Результати в табличній формі"
   ]
  },
  {
   "cell_type": "markdown",
   "metadata": {},
   "source": [
    "| Генератор | Рівноімовірність | Незалежність | Однорідність | $\\chi^2$ / $\\chi^2_{1-\\alpha}$|\n",
    "| :-: | :-: | :-: | :-: | :-: |\n",
    "| Built-in-RNG | $\\checkmark$ | $\\checkmark$ | $\\checkmark$ | <a href='#1'>Result</a> |\n",
    "| LehmerLow | $\\checkmark$ | $\\times$ | $\\checkmark$ | <a href='#2'>Result</a> | \n",
    "| LehmerHigh | $\\checkmark$ | $\\checkmark$ | $\\checkmark$ | <a href='#3'>Result</a> | \n",
    "| L20 | $\\checkmark$ | $\\checkmark$ | $\\checkmark$ | <a href='#4'>Result</a> | \n",
    "| L89 | $\\checkmark$ | $\\checkmark$ | $\\checkmark$ | <a href='#5'>Result</a> | \n",
    "| Geffe | $\\checkmark$ | $\\times$ | $\\checkmark$ | <a href='#6'>Result</a> | \n",
    "| Wolfram | $\\times$ | $\\times$ | $\\checkmark$ |  <a href='#7'>Result</a>| \n",
    "| Librarian | $\\times$ | $\\times$ | $\\checkmark$ |  <a href='#8'>Result</a>| \n",
    "| BM | $\\checkmark$ | $\\checkmark$ | $\\checkmark$ |  <a href='#9'>Result</a>| \n",
    "| BM_bytes | $\\checkmark$ | $\\checkmark$ | $\\checkmark$ |  <a href='#10'>Result</a>| \n",
    "| BBS | $\\checkmark$ | $\\checkmark$ | $\\checkmark$ | <a href='#11'>Result</a>|\n",
    "| BBS_bytes | $\\checkmark$ | $\\checkmark$ | $\\checkmark$ |  <a href='#12'>Result</a>| "
   ]
  },
  {
   "cell_type": "markdown",
   "metadata": {},
   "source": [
    "## Висновок\n",
    "\n",
    "- **Мета:** Розібратися з різноманітними генераторами випадкових чисел, дослідити хід їх роботи, проаналізувати їхні властивості та оцінити їх якість\n",
    "- **Хід роботи:** З допомогою методички написання генераторів та тестів не заставляло докладати особливих зусиль та прибігати до дослідження сторонніх джерел, так як ми просто напряму слідували методичним вказівкам. Проблеми виникли з генератором \"Бібліотекар\", так як вибраний текст французькою містив символ який не влізав в кодування utf-8, через що псувалась однорідність. Цей недолік виправлявся \"очисткою\" тексту, або вибором простого англомовного тексту (ми зробили обидва). \n",
    "- **Результати:** Явно не варто використовувати генератори \"Вольфрам\" та \"Бібліотекар\". Щодо інших, варто звертати увагу на обраховані статистичні дані. Будьте обережні з середовищами на комп'ютері, а то простий акт завантажування scipy може знести вам голову."
   ]
  }
 ],
 "metadata": {
  "kernelspec": {
   "display_name": "Python 3",
   "language": "python",
   "name": "python3"
  },
  "language_info": {
   "codemirror_mode": {
    "name": "ipython",
    "version": 3
   },
   "file_extension": ".py",
   "mimetype": "text/x-python",
   "name": "python",
   "nbconvert_exporter": "python",
   "pygments_lexer": "ipython3",
   "version": "3.11.4"
  },
  "orig_nbformat": 4
 },
 "nbformat": 4,
 "nbformat_minor": 2
}
