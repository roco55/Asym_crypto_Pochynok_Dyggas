{
 "cells": [
  {
   "cell_type": "markdown",
   "metadata": {},
   "source": [
    "# Лабораторна робота 3 з \"Асиметричних криптосистем та протоколів\"\n",
    "## Тема: Криптосистема Рабіна; Атака на протокол доведення знання без розголошення\n",
    "\n",
    "**Виконали**\\\n",
    "Дигас Богдан, ФІ-03\\\n",
    "Починок Юрій, ФІ-03"
   ]
  },
  {
   "cell_type": "markdown",
   "metadata": {},
   "source": [
    "## Підключаємо бібліотеки"
   ]
  },
  {
   "cell_type": "code",
   "execution_count": 2286,
   "metadata": {},
   "outputs": [],
   "source": [
    "import random\n",
    "rand = random.SystemRandom()\n",
    "from sympy.ntheory import jacobi_symbol, legendre_symbol\n",
    "import math"
   ]
  },
  {
   "cell_type": "markdown",
   "metadata": {},
   "source": [
    "## Вибираємо бітову довжину $p$ і $q$ - дільників нашого публічного ключа"
   ]
  },
  {
   "cell_type": "code",
   "execution_count": 2287,
   "metadata": {},
   "outputs": [],
   "source": [
    "bit_length = 256"
   ]
  },
  {
   "cell_type": "markdown",
   "metadata": {},
   "source": [
    "## Допоміжні функції"
   ]
  },
  {
   "cell_type": "markdown",
   "metadata": {},
   "source": [
    "### Перевірка на простоту, перетворення числа у бінарному представленні на десяткове та розширений алгоритм Евкліда"
   ]
  },
  {
   "cell_type": "code",
   "execution_count": 2288,
   "metadata": {},
   "outputs": [],
   "source": [
    "\n",
    "def decomposing_number(n, a):\n",
    "    exp = n - 1\n",
    "    while not exp & 1:  # while exp is even\n",
    "        exp >>= 1  # divide by 2\n",
    "    if pow(a, exp, n) == 1:\n",
    "        return True  # number is composite\n",
    "    while exp < n - 1:\n",
    "        if pow(a, exp, n) == n - 1:\n",
    "            return True  # number is composite\n",
    "        exp <<= 1  # multiply by 2\n",
    "    return False  # number is probably prime\n",
    "\n",
    "\n",
    "def miller_rabbin_test(n, k=20):\n",
    "    for i in range(k):\n",
    "        a = rand.randrange(1, n - 1)\n",
    "        if not decomposing_number(n, a):\n",
    "            return False  # number is composite\n",
    "    return True  # number is probably prime\n",
    "\n",
    "def bin_to_dec(bin_n):\n",
    "    dec_n = 0\n",
    "    res = 0\n",
    "    for i in range(len(bin_n)):\n",
    "        res = bin_n[len(bin_n) - i - 1] * 2 ** i\n",
    "        dec_n += res\n",
    "    return dec_n\n",
    "\n",
    "def extended_gcd(a, b): \n",
    "    if a == 0 : \n",
    "        return b,0,1       \n",
    "    gcd,x1,y1 = extended_gcd(b%a, a) \n",
    "     \n",
    "    x = y1 - (b//a) * x1 \n",
    "    y = x1 \n",
    "     \n",
    "    return gcd,x,y "
   ]
  },
  {
   "cell_type": "markdown",
   "metadata": {},
   "source": [
    "### Генерація випадкових чисел"
   ]
  },
  {
   "cell_type": "code",
   "execution_count": 2289,
   "metadata": {},
   "outputs": [],
   "source": [
    "def generate_bit_seq(n):\n",
    "    seq = [0]*n\n",
    "    for i in range(n):\n",
    "        seq[i] = rand.randint(0, 1)\n",
    "    return seq\n",
    "\n",
    "\n",
    "def L20(n):\n",
    "    seq = generate_bit_seq(20)\n",
    "    result = [0]*n\n",
    "    for i in range(20):\n",
    "        result[i] = seq[i]\n",
    "    for i in range(20,n):\n",
    "        result[i] = result[i-3]^result[i-5]^result[i-9]^result[i-20]\n",
    "    return result"
   ]
  },
  {
   "cell_type": "markdown",
   "metadata": {},
   "source": [
    "### Генерація простого числа"
   ]
  },
  {
   "cell_type": "code",
   "execution_count": 2290,
   "metadata": {},
   "outputs": [],
   "source": [
    "def generate_prime_number(x):\n",
    "    res = [1,0,0]\n",
    "    while(miller_rabbin_test(bin_to_dec(res)) == False):\n",
    "        res = L20(x)\n",
    "    return res"
   ]
  },
  {
   "cell_type": "markdown",
   "metadata": {},
   "source": [
    "### Генерація простих чисел Блюма"
   ]
  },
  {
   "cell_type": "code",
   "execution_count": 2291,
   "metadata": {},
   "outputs": [],
   "source": [
    "def generate_blum_primes(n):\n",
    "    p = bin_to_dec(generate_prime_number(n))\n",
    "    while((p-3) % 4 != 0):\n",
    "        p = bin_to_dec(generate_prime_number(n))\n",
    "    \n",
    "    q = bin_to_dec(generate_prime_number(n))\n",
    "    while((q-3) % 4 != 0):\n",
    "        q = bin_to_dec(generate_prime_number(n))\n",
    "        \n",
    "    return p, q"
   ]
  },
  {
   "cell_type": "markdown",
   "metadata": {},
   "source": [
    "### Швидке обчислення квадратного кореня за Блюма $(p, q = 4k + 3, k \\in \\mathrm{Z})$"
   ]
  },
  {
   "cell_type": "code",
   "execution_count": 2292,
   "metadata": {},
   "outputs": [],
   "source": [
    "def fast_square_blum(y, p, q): # x^2 = y(mod n), n = p*q, p & q = 4k + 3\n",
    "    n = p*q\n",
    "    s_1 = pow(y, (p+1)//4, p) # '//' is for it to be int, not float\n",
    "    # print(\"(p+1)//4) = \", (p+1)%4)                                                         # TO DO: MAKE ROOTS WORK\n",
    "    s_2 = pow(y, (q+1)//4, q)\n",
    "    # print(\"(q+1)//4) = \", (q+1)%4)\n",
    "    _, u, v = extended_gcd(p, q)\n",
    "    # print(\"u =\", u, \"v =\", v)\n",
    "    return (u*p*s_2 + v*q*s_1) % n, (u*p*s_2 - v*q*s_1) % n, ((-1)*u*p*s_2 + v*q*s_1) % n, ((-1)*u*p*s_2 - v*q*s_1) % n         # ++, +-, -+, --"
   ]
  },
  {
   "cell_type": "code",
   "execution_count": 2293,
   "metadata": {},
   "outputs": [],
   "source": [
    "# Перевірка на уважність)))))))))))\n",
    "\n",
    "# x = 4\n",
    "# test_roots = fast_square_blum(x, 19, 11)\n",
    "# print(test_roots)\n",
    "# for root in test_roots:\n",
    "#     print(pow(root, 2, 11*19))"
   ]
  },
  {
   "cell_type": "markdown",
   "metadata": {},
   "source": [
    "### Форматування та видалення форматування повідомлення"
   ]
  },
  {
   "cell_type": "code",
   "execution_count": 2294,
   "metadata": {},
   "outputs": [],
   "source": [
    "def format(m,n):\n",
    "    l = math.ceil((len(bin(n))-2)/8)\n",
    "    if(math.ceil((len(bin(m))-2)/8)<(l-10)):\n",
    "        # print(l, math.ceil((len(bin(m))-2)/8))\n",
    "        r = rand.randrange(0, 2**64)                         # TO DO: make r random\n",
    "        x = 255*2**(8*(l-2)) + m*2**64 + r\n",
    "        # print(\"Passed the condition\")\n",
    "        return x\n",
    "    else:\n",
    "        return m\n",
    "    \n",
    "def unformat(m,n):\n",
    "    l = len(bin(n))-2\n",
    "    #print(l)\n",
    "    m = bin(m)\n",
    "    #print(m,len(m))\n",
    "    x=''\n",
    "    #print(l)\n",
    "    for i in range(10,(len(m)-64)):\n",
    "        x+=(m[i])\n",
    "    return int(x,2)"
   ]
  },
  {
   "cell_type": "code",
   "execution_count": 2295,
   "metadata": {},
   "outputs": [],
   "source": [
    "# Перевірка на уважність)))))))))))\n",
    "\n",
    "#p, q = generate_blum_primes(bit_length)\n",
    "# n = p*q\n",
    "# M = 7532235123452342552455574234234556324546554673185648762345534656545234523452346234623452345234523452345234522345234562346236564\n",
    "# f = format(M, n)\n",
    "# print(bin(M))\n",
    "# print(bin(f))\n",
    "# # print(n)\n",
    "# uf = unformat(f, n)\n",
    "# print(uf)\n"
   ]
  },
  {
   "cell_type": "markdown",
   "metadata": {},
   "source": [
    "## Прописуємо інтерфейс користувача"
   ]
  },
  {
   "cell_type": "code",
   "execution_count": 2296,
   "metadata": {},
   "outputs": [],
   "source": [
    "class User:\n",
    "    \n",
    "    __p = None      # private key, key pair (p,q)\n",
    "    __q = None\n",
    "    __public_n = None\n",
    "    __k = None\n",
    "\n",
    "    def __init__(self):\n",
    "        self.__p, self.__q = generate_blum_primes(bit_length)\n",
    "        self.__public_n = self.__p*self.__q\n",
    "    \n",
    "    def get_public_key(self):\n",
    "        return self.__public_n\n",
    "    \n",
    "    def Rabin_decrypt(self, C):\n",
    "        y, c_1, c_2 = C\n",
    "        roots = fast_square_blum(y, self.__p, self.__q)\n",
    "        for root in roots:\n",
    "            root_c_1 = root % 2\n",
    "            root_c_2 = int(jacobi_symbol(root, self.__public_n) == 1)\n",
    "            # print(root, root_c_1, jacobi_symbol(root, self.__public_n))\n",
    "            if(root_c_1 == c_1 and root_c_2 == c_2):\n",
    "                return unformat(root, self.__public_n)      # Returning M\n",
    "        print(\"If you got to this point, there are no useful roots and something went horribly wrong\")\n",
    "        \n",
    "    def Rabin_sign(self, M):\n",
    "        while True:         # reformat until we satisfy the condition\n",
    "            x = format(M, self.__public_n)\n",
    "            print(\"Formatting while signing\")\n",
    "            if (jacobi_symbol(x, self.__p) == 1 and jacobi_symbol(x, self.__q) == 1):   # condition: (x, p) == (x, q) == 1 \n",
    "                break\n",
    "        # At this point the condition should be satisfied\n",
    "        \n",
    "        roots = fast_square_blum(x, self.__p, self.__q)\n",
    "        return M, roots[rand.randrange(0, 3)] # Return the message and the random root as a pair (M[essage], S[ign])\n",
    "        "
   ]
  },
  {
   "cell_type": "markdown",
   "metadata": {},
   "source": [
    "## Прописуємо загальний інтерфейс роботи з користувачем"
   ]
  },
  {
   "cell_type": "code",
   "execution_count": 2297,
   "metadata": {},
   "outputs": [],
   "source": [
    "def Rabin_encrypt(M, n):\n",
    "    x = format(M, n)\n",
    "    y = pow(x, 2, n)    # y = x^2 mod n\n",
    "    c_1 = x % 2\n",
    "    c_2 = int(jacobi_symbol(x,n) == 1)\n",
    "    return (y, c_1, c_2)\n",
    "\n",
    "# Example: Rabin_encrypt(x, User.get_public_key())\n",
    "\n",
    "def Rabin_verify(M, S, n):\n",
    "    supposed_M = pow(S, 2, n)\n",
    "    return M == unformat(supposed_M, n)"
   ]
  },
  {
   "cell_type": "markdown",
   "metadata": {},
   "source": [
    "## Тестуємо функціонал"
   ]
  },
  {
   "cell_type": "code",
   "execution_count": 2298,
   "metadata": {},
   "outputs": [
    {
     "name": "stdout",
     "output_type": "stream",
     "text": [
      "512\n",
      "Formatting while signing\n",
      "Formatting while signing\n",
      "Formatting while signing\n",
      "Formatting while signing\n",
      "Formatting while signing\n",
      "Formatting while signing\n",
      "Formatting while signing\n",
      "Formatting while signing\n",
      "Formatting while signing\n",
      "Formatting while signing\n",
      "True\n"
     ]
    }
   ],
   "source": [
    "A = User()\n",
    "M = 512\n",
    "C = Rabin_encrypt(M, A.get_public_key())\n",
    "new_M = A.Rabin_decrypt(C)\n",
    "print(new_M)\n",
    "\n",
    "_, S = A.Rabin_sign(M)\n",
    "print(Rabin_verify(M, S, A.get_public_key()))"
   ]
  },
  {
   "cell_type": "markdown",
   "metadata": {},
   "source": [
    "## Атака на протокол доведення знання розкладу числа на прості множники"
   ]
  },
  {
   "cell_type": "code",
   "execution_count": 2299,
   "metadata": {},
   "outputs": [
    {
     "name": "stdout",
     "output_type": "stream",
     "text": [
      "134509248488998597621112777396682268682548211453221682292910053974140568300668480048256736347733396104181670204599486150547832074625687029076303425869563543970304403827682665993910545104641466884583757467103602038379278507276613017276006856425751762884416344420963232756232629990053416906573736693212772007739\n",
      "0\n",
      "16484357618053843951079708010486303084541482588737202871851058266173657509442317352024327038121299864811192559254794701106100075946438037018321762527172063938268078670195936794017472319805715888023648713571591191344248617471671603251189698842695895862343419464618093965303656309624354353339984961562552132622985097025047260747429066862572133442430125006985625008834959504179005665460487605259379083431049219626231029292038141591033909549184285042575124425849172279807194359606578341125926272306589382662475244072668113903172473943873204333086630878734348264186892269996232411004888131400802852328155124106042946261737\n"
     ]
    }
   ],
   "source": [
    "import requests\n",
    "\n",
    "session = requests.Session()\n",
    "\n",
    "server_n = int(session.get(f'http://asymcryptwebservice.appspot.com/znp/serverKey').json()[\"modulus\"], 16)\n",
    "while True:\n",
    "    t = rand.randrange(0, server_n)\n",
    "    y = pow(t, 2, server_n)\n",
    "\n",
    "    # Кидаємо його серваку\n",
    "    r = session.get(f'http://asymcryptwebservice.appspot.com/znp/challenge?y={hex(y)[2:]}')\n",
    "\n",
    "    server_z = int(r.json()[\"root\"], 16)\n",
    "    if(t != server_z and t != (-1)*server_z):\n",
    "        divisor, _, _ = extended_gcd(t + server_z, server_n)\n",
    "        if(divisor == 1):\n",
    "            continue\n",
    "        break\n",
    "print(divisor)\n",
    "print(server_n % divisor)\n",
    "print(server_n)"
   ]
  }
 ],
 "metadata": {
  "kernelspec": {
   "display_name": "Python 3",
   "language": "python",
   "name": "python3"
  },
  "language_info": {
   "codemirror_mode": {
    "name": "ipython",
    "version": 3
   },
   "file_extension": ".py",
   "mimetype": "text/x-python",
   "name": "python",
   "nbconvert_exporter": "python",
   "pygments_lexer": "ipython3",
   "version": "3.11.4"
  }
 },
 "nbformat": 4,
 "nbformat_minor": 2
}
