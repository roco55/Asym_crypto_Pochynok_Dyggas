{
 "cells": [
  {
   "cell_type": "markdown",
   "metadata": {},
   "source": [
    "# Лабораторна робота 3 з \"Асиметричних криптосистем та протоколів\"\n",
    "## Тема: Криптосистема Рабіна; Атака на протокол доведення знання без розголошення\n",
    "\n",
    "**Виконали**\\\n",
    "Дигас Богдан, ФІ-03\\\n",
    "Починок Юрій, ФІ-03"
   ]
  },
  {
   "cell_type": "code",
   "execution_count": null,
   "metadata": {},
   "outputs": [],
   "source": [
    "import random\n",
    "rand = random.SystemRandom()"
   ]
  },
  {
   "cell_type": "markdown",
   "metadata": {},
   "source": [
    "### Допоміжні функції"
   ]
  },
  {
   "cell_type": "code",
   "execution_count": null,
   "metadata": {},
   "outputs": [],
   "source": [
    "def decomposing_number(n, a):\n",
    "    exp = n - 1\n",
    "    while not exp & 1:  # while exp is even\n",
    "        exp >>= 1  # divide by 2\n",
    "    if pow(a, exp, n) == 1:\n",
    "        return True  # number is composite\n",
    "    while exp < n - 1:\n",
    "        if pow(a, exp, n) == n - 1:\n",
    "            return True  # number is composite\n",
    "        exp <<= 1  # multiply by 2\n",
    "    return False  # number is probably prime\n",
    "\n",
    "\n",
    "def miller_rabbin_test(n, k=20):\n",
    "    for i in range(k):\n",
    "        a = rand.randrange(1, n - 1)\n",
    "        if not decomposing_number(n, a):\n",
    "            return False  # number is composite\n",
    "    return True  # number is probably prime\n",
    "\n",
    "def bin_to_dec(bin_n):\n",
    "    dec_n = 0\n",
    "    res = 0\n",
    "    for i in range(len(bin_n)):\n",
    "        res = bin_n[len(bin_n) - i - 1] * 2 ** i\n",
    "        dec_n += res\n",
    "    return dec_n"
   ]
  },
  {
   "cell_type": "code",
   "execution_count": null,
   "metadata": {},
   "outputs": [],
   "source": [
    "def generate_bit_seq(n):\n",
    "    seq = [0]*n\n",
    "    for i in range(n):\n",
    "        seq[i] = rand.randint(0, 1)\n",
    "    return seq\n",
    "\n",
    "\n",
    "def L20(n):\n",
    "    seq = generate_bit_seq(20)\n",
    "    result = [0]*n\n",
    "    for i in range(20):\n",
    "        result[i] = seq[i]\n",
    "    for i in range(20,n):\n",
    "        result[i] = result[i-3]^result[i-5]^result[i-9]^result[i-20]\n",
    "    return result"
   ]
  },
  {
   "cell_type": "code",
   "execution_count": null,
   "metadata": {},
   "outputs": [],
   "source": [
    "def generate_prime_number(x):\n",
    "    res = [1,0,0]\n",
    "    while(miller_rabbin_test(bin_to_dec(res)) == False):\n",
    "        res = L20(x)\n",
    "    return res"
   ]
  }
 ],
 "metadata": {
  "language_info": {
   "name": "python"
  }
 },
 "nbformat": 4,
 "nbformat_minor": 2
}
