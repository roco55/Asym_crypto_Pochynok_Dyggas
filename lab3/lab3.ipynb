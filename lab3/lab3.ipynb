{
 "cells": [
  {
   "cell_type": "markdown",
   "metadata": {},
   "source": [
    "# Лабораторна робота 3 з \"Асиметричних криптосистем та протоколів\"\n",
    "## Тема: Криптосистема Рабіна; Атака на протокол доведення знання без розголошення\n",
    "\n",
    "**Виконали**\\\n",
    "Дигас Богдан, ФІ-03\\\n",
    "Починок Юрій, ФІ-03"
   ]
  },
  {
   "cell_type": "markdown",
   "metadata": {},
   "source": [
    "## Підключаємо бібліотеки"
   ]
  },
  {
   "cell_type": "code",
   "execution_count": 24,
   "metadata": {},
   "outputs": [],
   "source": [
    "import random\n",
    "rand = random.SystemRandom()\n",
    "from sympy.ntheory import jacobi_symbol, legendre_symbol\n",
    "import math"
   ]
  },
  {
   "cell_type": "markdown",
   "metadata": {},
   "source": [
    "## bit length = $256$"
   ]
  },
  {
   "cell_type": "code",
   "execution_count": null,
   "metadata": {},
   "outputs": [],
   "source": [
    "global bit_length = 256"
   ]
  },
  {
   "cell_type": "markdown",
   "metadata": {},
   "source": [
    "## Допоміжні функції"
   ]
  },
  {
   "cell_type": "code",
   "execution_count": 25,
   "metadata": {},
   "outputs": [],
   "source": [
    "\n",
    "def decomposing_number(n, a):\n",
    "    exp = n - 1\n",
    "    while not exp & 1:  # while exp is even\n",
    "        exp >>= 1  # divide by 2\n",
    "    if pow(a, exp, n) == 1:\n",
    "        return True  # number is composite\n",
    "    while exp < n - 1:\n",
    "        if pow(a, exp, n) == n - 1:\n",
    "            return True  # number is composite\n",
    "        exp <<= 1  # multiply by 2\n",
    "    return False  # number is probably prime\n",
    "\n",
    "\n",
    "def miller_rabbin_test(n, k=20):\n",
    "    for i in range(k):\n",
    "        a = rand.randrange(1, n - 1)\n",
    "        if not decomposing_number(n, a):\n",
    "            return False  # number is composite\n",
    "    return True  # number is probably prime\n",
    "\n",
    "def bin_to_dec(bin_n):\n",
    "    dec_n = 0\n",
    "    res = 0\n",
    "    for i in range(len(bin_n)):\n",
    "        res = bin_n[len(bin_n) - i - 1] * 2 ** i\n",
    "        dec_n += res\n",
    "    return dec_n\n",
    "\n",
    "def extended_gcd(a, b): \n",
    "    if a == 0 : \n",
    "        return b,0,1       \n",
    "    gcd,x1,y1 = extended_gcd(b%a, a) \n",
    "     \n",
    "    x = y1 - (b//a) * x1 \n",
    "    y = x1 \n",
    "     \n",
    "    return gcd,x,y "
   ]
  },
  {
   "cell_type": "code",
   "execution_count": 26,
   "metadata": {},
   "outputs": [],
   "source": [
    "def generate_bit_seq(n):\n",
    "    seq = [0]*n\n",
    "    for i in range(n):\n",
    "        seq[i] = rand.randint(0, 1)\n",
    "    return seq\n",
    "\n",
    "\n",
    "def L20(n):\n",
    "    seq = generate_bit_seq(20)\n",
    "    result = [0]*n\n",
    "    for i in range(20):\n",
    "        result[i] = seq[i]\n",
    "    for i in range(20,n):\n",
    "        result[i] = result[i-3]^result[i-5]^result[i-9]^result[i-20]\n",
    "    return result"
   ]
  },
  {
   "cell_type": "code",
   "execution_count": 27,
   "metadata": {},
   "outputs": [],
   "source": [
    "def generate_prime_number(x):\n",
    "    res = [1,0,0]\n",
    "    while(miller_rabbin_test(bin_to_dec(res)) == False):\n",
    "        res = L20(x)\n",
    "    return res"
   ]
  },
  {
   "cell_type": "code",
   "execution_count": 28,
   "metadata": {},
   "outputs": [],
   "source": [
    "def generate_blum_primes(n):\n",
    "    p = bin_to_dec(generate_prime_number(n))\n",
    "    while((p-3) % 4 != 0):\n",
    "        p = bin_to_dec(generate_prime_number(n))\n",
    "    \n",
    "    q = bin_to_dec(generate_prime_number(n))\n",
    "    while((q-3) % 4 != 0):\n",
    "        q = bin_to_dec(generate_prime_number(n))\n",
    "        \n",
    "    return p, q"
   ]
  },
  {
   "cell_type": "code",
   "execution_count": 29,
   "metadata": {},
   "outputs": [],
   "source": [
    "def fast_square_blum(y, p, q): # x^2 = y(mod n), n = p*q, p & q = 4k + 3\n",
    "    s_1 = pow(y,(p+1)/4,p)\n",
    "    s_2 = pow(y,(q+1)/4,q)\n",
    "    _, u, v = extended_gcd(p, q)\n",
    "    return u*p*s_1 + v*q*s_2, u*p*s_1 - v*q*s_2, (-1)*u*p*s_1 + v*q*s_2, (-1)*u*p*s_1 - v*q*s_2         # ++, +-, -+, --"
   ]
  },
  {
   "cell_type": "code",
   "execution_count": null,
   "metadata": {},
   "outputs": [],
   "source": [
    "def format(m,n):\n",
    "    l = math.ceil((len(bin(n))-2)/8)\n",
    "    if(math.ceil((len(bin(m))-2)/8)<l-10):\n",
    "        r = 2**64-1\n",
    "        x = 255*2**(8*(l-8)) + m*2**64 + r\n",
    "        return x\n",
    "    \n",
    "def unformat(m,n):\n",
    "    l = len(bin(n))-2\n",
    "    print(l)\n",
    "    m = bin(m)\n",
    "    print(m,len(m))\n",
    "    x=''\n",
    "    print(l)\n",
    "    for i in range(10,(len(m)-64)):\n",
    "        x+=(m[i])\n",
    "    return int(x,2)"
   ]
  },
  {
   "cell_type": "markdown",
   "metadata": {},
   "source": [
    "## Прописуємо інтерфейс користувача"
   ]
  },
  {
   "cell_type": "code",
   "execution_count": null,
   "metadata": {},
   "outputs": [],
   "source": [
    "class User:\n",
    "    \n",
    "    __key_pair = None\n",
    "    \n",
    "    __k = None\n",
    "\n",
    "    def __init__(self):\n",
    "        __key_pair = generate_blum_primes\n",
    "        self.public_n = result[0]\n",
    "        self.public_e = result[1]\n",
    "        self.__private_key = result[2]\n",
    "        \n",
    "    \n",
    "    def RSA_decrypt(self, C):\n",
    "        \n",
    "    def RSA_sign(self, M):\n",
    "        \n",
    "    \n",
    "    def Send_Key(self, e_1, n_1):\n",
    "        \n",
    "    \n",
    "    def Receive_Key(self, k_1, S_1, e, n):\n",
    "        "
   ]
  }
 ],
 "metadata": {
  "kernelspec": {
   "display_name": "Python 3",
   "language": "python",
   "name": "python3"
  },
  "language_info": {
   "codemirror_mode": {
    "name": "ipython",
    "version": 3
   },
   "file_extension": ".py",
   "mimetype": "text/x-python",
   "name": "python",
   "nbconvert_exporter": "python",
   "pygments_lexer": "ipython3",
   "version": "3.11.4"
  }
 },
 "nbformat": 4,
 "nbformat_minor": 2
}
