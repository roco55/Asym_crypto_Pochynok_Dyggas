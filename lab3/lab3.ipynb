{
 "cells": [
  {
   "cell_type": "markdown",
   "metadata": {},
   "source": [
    "# Лабораторна робота 3 з \"Асиметричних криптосистем та протоколів\"\n",
    "## Тема: Криптосистема Рабіна; Атака на протокол доведення знання без розголошення\n",
    "\n",
    "**Виконали**\\\n",
    "Дигас Богдан, ФІ-03\\\n",
    "Починок Юрій, ФІ-03"
   ]
  },
  {
   "cell_type": "markdown",
   "metadata": {},
   "source": [
    "## Підключаємо бібліотеки"
   ]
  },
  {
   "cell_type": "code",
   "execution_count": 1672,
   "metadata": {},
   "outputs": [],
   "source": [
    "import random\n",
    "rand = random.SystemRandom()\n",
    "from sympy.ntheory import jacobi_symbol, legendre_symbol\n",
    "import math"
   ]
  },
  {
   "cell_type": "markdown",
   "metadata": {},
   "source": [
    "## Вибираємо бітову довжину $p$ і $q$ - дільників нашого публічного ключа"
   ]
  },
  {
   "cell_type": "code",
   "execution_count": 1673,
   "metadata": {},
   "outputs": [],
   "source": [
    "bit_length = 256"
   ]
  },
  {
   "cell_type": "markdown",
   "metadata": {},
   "source": [
    "## Допоміжні функції"
   ]
  },
  {
   "cell_type": "markdown",
   "metadata": {},
   "source": [
    "### Перевірка на простоту, перетворення числа у бінарному представленні на десяткове та розширений алгоритм Евкліда"
   ]
  },
  {
   "cell_type": "code",
   "execution_count": 1674,
   "metadata": {},
   "outputs": [],
   "source": [
    "\n",
    "def decomposing_number(n, a):\n",
    "    exp = n - 1\n",
    "    while not exp & 1:  # while exp is even\n",
    "        exp >>= 1  # divide by 2\n",
    "    if pow(a, exp, n) == 1:\n",
    "        return True  # number is composite\n",
    "    while exp < n - 1:\n",
    "        if pow(a, exp, n) == n - 1:\n",
    "            return True  # number is composite\n",
    "        exp <<= 1  # multiply by 2\n",
    "    return False  # number is probably prime\n",
    "\n",
    "\n",
    "def miller_rabbin_test(n, k=20):\n",
    "    for i in range(k):\n",
    "        a = rand.randrange(1, n - 1)\n",
    "        if not decomposing_number(n, a):\n",
    "            return False  # number is composite\n",
    "    return True  # number is probably prime\n",
    "\n",
    "def bin_to_dec(bin_n):\n",
    "    dec_n = 0\n",
    "    res = 0\n",
    "    for i in range(len(bin_n)):\n",
    "        res = bin_n[len(bin_n) - i - 1] * 2 ** i\n",
    "        dec_n += res\n",
    "    return dec_n\n",
    "\n",
    "def extended_gcd(a, b): \n",
    "    if a == 0 : \n",
    "        return b,0,1       \n",
    "    gcd,x1,y1 = extended_gcd(b%a, a) \n",
    "     \n",
    "    x = y1 - (b//a) * x1 \n",
    "    y = x1 \n",
    "     \n",
    "    return gcd,x,y "
   ]
  },
  {
   "cell_type": "markdown",
   "metadata": {},
   "source": [
    "### Генерація випадкових чисел"
   ]
  },
  {
   "cell_type": "code",
   "execution_count": 1675,
   "metadata": {},
   "outputs": [],
   "source": [
    "def generate_bit_seq(n):\n",
    "    seq = [0]*n\n",
    "    for i in range(n):\n",
    "        seq[i] = rand.randint(0, 1)\n",
    "    return seq\n",
    "\n",
    "\n",
    "def L20(n):\n",
    "    seq = generate_bit_seq(20)\n",
    "    result = [0]*n\n",
    "    for i in range(20):\n",
    "        result[i] = seq[i]\n",
    "    for i in range(20,n):\n",
    "        result[i] = result[i-3]^result[i-5]^result[i-9]^result[i-20]\n",
    "    return result"
   ]
  },
  {
   "cell_type": "markdown",
   "metadata": {},
   "source": [
    "### Генерація простого числа"
   ]
  },
  {
   "cell_type": "code",
   "execution_count": 1676,
   "metadata": {},
   "outputs": [],
   "source": [
    "def generate_prime_number(x):\n",
    "    res = [1,0,0]\n",
    "    while(miller_rabbin_test(bin_to_dec(res)) == False):\n",
    "        res = L20(x)\n",
    "    return res"
   ]
  },
  {
   "cell_type": "markdown",
   "metadata": {},
   "source": [
    "### Генерація простих чисел Блюма"
   ]
  },
  {
   "cell_type": "code",
   "execution_count": 1677,
   "metadata": {},
   "outputs": [],
   "source": [
    "def generate_blum_primes(n):\n",
    "    p = bin_to_dec(generate_prime_number(n))\n",
    "    while((p-3) % 4 != 0):\n",
    "        p = bin_to_dec(generate_prime_number(n))\n",
    "    \n",
    "    q = bin_to_dec(generate_prime_number(n))\n",
    "    while((q-3) % 4 != 0):\n",
    "        q = bin_to_dec(generate_prime_number(n))\n",
    "        \n",
    "    return p, q"
   ]
  },
  {
   "cell_type": "markdown",
   "metadata": {},
   "source": [
    "### Швидке обчислення квадратного кореня за Блюма $(p, q = 4k + 3, k \\in \\mathrm{Z})$"
   ]
  },
  {
   "cell_type": "code",
   "execution_count": 1678,
   "metadata": {},
   "outputs": [],
   "source": [
    "def fast_square_blum(y, p, q): # x^2 = y(mod n), n = p*q, p & q = 4k + 3\n",
    "    n = p*q\n",
    "    s_1 = pow(y, (p+1)//4, p) # '//' is for it to be int, not float\n",
    "    s_2 = pow(y, (q+1)//4, q)\n",
    "    _, u, v = extended_gcd(p, q)\n",
    "\n",
    "    return (u*p*s_2 + v*q*s_1) % n, (u*p*s_2 - v*q*s_1) % n, ((-1)*u*p*s_2 + v*q*s_1) % n, ((-1)*u*p*s_2 - v*q*s_1) % n         # ++, +-, -+, --\n",
    "\n",
    "def extended_fast_square_blum(y, p, q, b): # x^2 = y(mod n), n = p*q, p & q = 4k + 3\n",
    "    n = p*q\n",
    "    s_1 = pow(y, (p+1)//4, p) # '//' is for it to be int, not float\n",
    "    s_2 = pow(y, (q+1)//4, q)\n",
    "    _, u, v = extended_gcd(p, q)\n",
    "\n",
    "    return (b * pow(2, -1, p*q) + (u*p*s_2 + v*q*s_1)) % n, (b * pow(2, -1, p*q) + (u*p*s_2 - v*q*s_1)) % n, (b * pow(2, -1, p*q) + ((-1)*u*p*s_2 + v*q*s_1)) % n, (b * pow(2,-1,p*q) + ((-1)*u*p*s_2 - v*q*s_1)) % n         # ++, +-, -+, --"
   ]
  },
  {
   "cell_type": "code",
   "execution_count": 1679,
   "metadata": {},
   "outputs": [],
   "source": [
    "# Перевірка на уважність)))))))))))\n",
    "\n",
    "# x = 4\n",
    "# test_roots = fast_square_blum(x, 19, 11)\n",
    "# print(test_roots)\n",
    "# for root in test_roots:\n",
    "#     print(pow(root, 2, 11*19))"
   ]
  },
  {
   "cell_type": "markdown",
   "metadata": {},
   "source": [
    "### Форматування та видалення форматування повідомлення"
   ]
  },
  {
   "cell_type": "code",
   "execution_count": 1680,
   "metadata": {},
   "outputs": [],
   "source": [
    "def format(m,n):\n",
    "    l = math.ceil((len(bin(n))-2)/8)\n",
    "    if(math.ceil((len(bin(m))-2)/8)<(l-10)):\n",
    "        # print(l, math.ceil((len(bin(m))-2)/8))\n",
    "        r = rand.randrange(0, 2**64)                         # TO DO: make r random\n",
    "        x = 255*2**(8*(l-2)) + m*2**64 + r\n",
    "        # print(\"Passed the condition\")\n",
    "        return x\n",
    "    else:\n",
    "        return m\n",
    "    \n",
    "def unformat(m,n):\n",
    "    l = len(bin(n))-2\n",
    "    #print(l)\n",
    "    m = bin(m)\n",
    "    #print(m,len(m))\n",
    "    x=''\n",
    "    #print(l)\n",
    "    for i in range(10,(len(m)-64)):\n",
    "        x+=(m[i])\n",
    "    return int(x,2)"
   ]
  },
  {
   "cell_type": "code",
   "execution_count": 1681,
   "metadata": {},
   "outputs": [],
   "source": [
    "# Перевірка на уважність)))))))))))\n",
    "\n",
    "#p, q = generate_blum_primes(bit_length)\n",
    "# n = p*q\n",
    "# M = 7532235123452342552455574234234556324546554673185648762345534656545234523452346234623452345234523452345234522345234562346236564\n",
    "# f = format(M, n)\n",
    "# print(bin(M))\n",
    "# print(bin(f))\n",
    "# # print(n)\n",
    "# uf = unformat(f, n)\n",
    "# print(uf)\n"
   ]
  },
  {
   "cell_type": "markdown",
   "metadata": {},
   "source": [
    "## Прописуємо інтерфейс користувача"
   ]
  },
  {
   "cell_type": "code",
   "execution_count": 1682,
   "metadata": {},
   "outputs": [],
   "source": [
    "class User:\n",
    "    \n",
    "    __p = None      # private key, key pair (p,q)\n",
    "    __q = None\n",
    "    __public_n = None\n",
    "    __k = None\n",
    "\n",
    "    def __init__(self):\n",
    "        self.__p, self.__q = generate_blum_primes(bit_length)\n",
    "        self.__public_n = self.__p*self.__q\n",
    "        self.__public_b = rand.randrange(0,self.__public_n)\n",
    "    \n",
    "    def get_public_key(self):\n",
    "        return self.__public_n\n",
    "    \n",
    "    def get_public_b(self):\n",
    "        return self.__public_b\n",
    "    \n",
    "    def Rabin_decrypt(self, C):\n",
    "        y, c_1, c_2 = C\n",
    "        roots = fast_square_blum(y, self.__p, self.__q)\n",
    "        for root in roots:\n",
    "            root_c_1 = root % 2\n",
    "            root_c_2 = int(jacobi_symbol(root, self.__public_n) == 1)\n",
    "            # print(root, root_c_1, jacobi_symbol(root, self.__public_n))\n",
    "            if(root_c_1 == c_1 and root_c_2 == c_2):\n",
    "                return unformat(root, self.__public_n)      # Returning M\n",
    "        print(\"If you got to this point, there are no useful roots and something went horribly wrong\")\n",
    "\n",
    "    def extended_Rabin_decrypt(self,C):\n",
    "        y, c_1, c_2 = C\n",
    "        roots = extended_fast_square_blum(y + pow(self.__public_b, 2, self.__public_n) * pow(4, -1, self.__public_n), self.__p, self.__q, self.__public_b)\n",
    "        for root in roots:\n",
    "            temp = (root + self.__public_b * pow(2, -1, self.__public_n)) % self.__public_n\n",
    "            root_c_1 = temp % 2\n",
    "            root_c_2 = int(jacobi_symbol(temp, self.__public_n) == 1)\n",
    "            # print(root, root_c_1, jacobi_symbol(root, self.__public_n))\n",
    "            if(root_c_1 == c_1 and root_c_2 == c_2):\n",
    "                return unformat(root, self.__public_n)      # Returning M\n",
    "        print(\"If you got to this point, there are no useful roots and something went horribly wrong\")\n",
    "\n",
    "    def Rabin_sign(self, M):\n",
    "        while True:         # reformat until we satisfy the condition\n",
    "            x = format(M, self.__public_n)\n",
    "            print(\"Formatting while signing\")\n",
    "            if (jacobi_symbol(x, self.__p) == 1 and jacobi_symbol(x, self.__q) == 1):   # condition: (x, p) == (x, q) == 1 \n",
    "                break\n",
    "        # At this point the condition should be satisfied\n",
    "        \n",
    "        roots = fast_square_blum(x, self.__p, self.__q)\n",
    "        return M, roots[rand.randrange(0, 3)] # Return the message and the random root as a pair (M[essage], S[ign])\n",
    "        "
   ]
  },
  {
   "cell_type": "markdown",
   "metadata": {},
   "source": [
    "## Прописуємо загальний інтерфейс роботи з користувачем"
   ]
  },
  {
   "cell_type": "code",
   "execution_count": 1683,
   "metadata": {},
   "outputs": [],
   "source": [
    "def Rabin_encrypt(M, n):\n",
    "    x = format(M, n)\n",
    "    y = pow(x, 2, n)    # y = x^2 mod n\n",
    "    c_1 = x % 2\n",
    "    c_2 = int(jacobi_symbol(x,n) == 1)\n",
    "    return (y, c_1, c_2)\n",
    "\n",
    "def extended_Rabin_encrypt(M, n, b):\n",
    "    x = format(M, n)\n",
    "    y = (x * (x + b)) % n \n",
    "    temp = (x + b * pow(2, -1, n)) % n\n",
    "    c1 = temp % 2\n",
    "    c2 = int(jacobi_symbol(temp, n) == 1)\n",
    "    return (y, c1, c2)\n",
    "\n",
    "# Example: Rabin_encrypt(x, User.get_public_key())\n",
    "\n",
    "def Rabin_verify(M, S, n):\n",
    "    supposed_M = pow(S, 2, n)\n",
    "    return M == unformat(supposed_M, n)"
   ]
  },
  {
   "cell_type": "markdown",
   "metadata": {},
   "source": [
    "# Тестуємо функціонал"
   ]
  },
  {
   "cell_type": "code",
   "execution_count": 1684,
   "metadata": {},
   "outputs": [
    {
     "name": "stdout",
     "output_type": "stream",
     "text": [
      "Formatting while signing\n",
      "Formatting while signing\n",
      "Formatting while signing\n",
      "Formatting while signing\n"
     ]
    }
   ],
   "source": [
    "A = User()\n",
    "M = 512\n",
    "_, S = A.Rabin_sign(M)"
   ]
  },
  {
   "cell_type": "markdown",
   "metadata": {},
   "source": [
    "## Отримання параметрів серверу\n"
   ]
  },
  {
   "cell_type": "code",
   "execution_count": 1685,
   "metadata": {},
   "outputs": [
    {
     "name": "stdout",
     "output_type": "stream",
     "text": [
      "server n = 10990558271658167885587046760628534927948993016345966833680237536052902893019905717903038870626933652716943326847636824968233542347723324491707205377857469\n",
      "our    n = 1177779039705609060959588756876068968889772292921707858278302120981399142920787342420647386877276695661766717424181089171565750110416711324907242995065881\n",
      "server b = 4648487611276730320467473451356653713128768678126915586867288873815767117522985994953049151432674647388608229029776629562701696994113932009073298610653835\n"
     ]
    }
   ],
   "source": [
    "import requests\n",
    "\n",
    "session = requests.Session()\n",
    "\n",
    "res = session.get(f'http://asymcryptwebservice.appspot.com/rabin/serverKey?keySize={512}')\n",
    "server_n = int(res.json()[\"modulus\"], 16)\n",
    "server_b = int(res.json()[\"b\"], 16)\n",
    "print(\"server n =\", server_n)\n",
    "print(\"our    n =\", A.get_public_key())\n",
    "print(\"server b =\", server_b)"
   ]
  },
  {
   "cell_type": "markdown",
   "metadata": {},
   "source": [
    "## Перевірка розкодування"
   ]
  },
  {
   "cell_type": "code",
   "execution_count": 1686,
   "metadata": {},
   "outputs": [
    {
     "name": "stdout",
     "output_type": "stream",
     "text": [
      "server C = 475629001812951956496756612187078966424731971009629359188703014517959293985586677428215492004985564413578988740682329471794310015147716466733802527980419\n",
      "server c1 = 1\n",
      "server c2 = 0\n",
      "512\n"
     ]
    }
   ],
   "source": [
    "encrypt = session.get(f'http://asymcryptwebservice.appspot.com/rabin/encrypt?modulus={hex(A.get_public_key())[2:]}&b={hex(0)[2:]}&message={hex(M)[2:]}&type=BYTES')\n",
    "server_C = int(encrypt.json()[\"cipherText\"], 16)\n",
    "server_c1 = encrypt.json()[\"parity\"]\n",
    "server_c2 = encrypt.json()[\"jacobiSymbol\"]\n",
    "print(\"server C =\", server_C)\n",
    "print(\"server c1 =\", server_c1)\n",
    "print(\"server c2 =\", server_c2)\n",
    "C = (server_C, server_c1, server_c2)\n",
    "print(A.Rabin_decrypt(C))\n",
    "\n"
   ]
  },
  {
   "cell_type": "markdown",
   "metadata": {},
   "source": [
    "## Перевірка кодування"
   ]
  },
  {
   "cell_type": "code",
   "execution_count": 1687,
   "metadata": {},
   "outputs": [
    {
     "name": "stdout",
     "output_type": "stream",
     "text": [
      "0b10111010101011111101111001111011101101011100011100111010011100110010100010110111101001101010011110011101010010110100110011001110010100110101001001100111111100101101011101010100010000000000010011000001101010010010010011001011110001110111111010100100010111111011111110110001011110010101011001110010100000001010010110001010011010001010011010000001100111111110101000110100001001011100001110111110111110011000010001010101001011001001001101110101101011011011111110001111010110000110111001101011100110000010001101101011 0 1\n",
      "M = 0200\n",
      "<Response [200]>\n"
     ]
    }
   ],
   "source": [
    "y, c1, c2 = extended_Rabin_encrypt(M, server_n, server_b)\n",
    "print(bin(y), c1, c2)\n",
    "reply = session.get(f'http://asymcryptwebservice.appspot.com/rabin/decrypt?cipherText={hex(y)[2:]}&expectedType=BYTES&parity={c1}&jacobiSymbol={c2}')\n",
    "answer = reply.json()[\"message\"]\n",
    "print(\"M =\", answer)\n",
    "\n",
    "print(reply)"
   ]
  },
  {
   "cell_type": "markdown",
   "metadata": {},
   "source": [
    "## Перевірка підпису"
   ]
  },
  {
   "cell_type": "code",
   "execution_count": 1688,
   "metadata": {},
   "outputs": [
    {
     "name": "stdout",
     "output_type": "stream",
     "text": [
      "True\n"
     ]
    }
   ],
   "source": [
    "server_sign = int(session.get(f'http://asymcryptwebservice.appspot.com/rabin/sign?message={hex(M)[2:]}&type=BYTES').json()[\"signature\"], 16)\n",
    "print(Rabin_verify(M, server_sign, server_n))"
   ]
  },
  {
   "cell_type": "markdown",
   "metadata": {},
   "source": [
    "## Сервер перевіряє підпис"
   ]
  },
  {
   "cell_type": "code",
   "execution_count": 1689,
   "metadata": {},
   "outputs": [
    {
     "name": "stdout",
     "output_type": "stream",
     "text": [
      "True\n"
     ]
    }
   ],
   "source": [
    "answer = session.get(f'http://asymcryptwebservice.appspot.com/rabin/verify?message={hex(M)[2:]}&type=BYTES&signature={hex(S)[2:]}&modulus={hex(A.get_public_key())[2:]}')\n",
    "print(answer.json()[\"verified\"])"
   ]
  },
  {
   "cell_type": "markdown",
   "metadata": {},
   "source": [
    "## Атака на протокол доведення знання розкладу числа на прості множники"
   ]
  },
  {
   "cell_type": "code",
   "execution_count": 1690,
   "metadata": {},
   "outputs": [
    {
     "name": "stdout",
     "output_type": "stream",
     "text": [
      "divisor = 179102217701772968485510173372166290586709198675413490873715019649384241809502874754493842249043360660814284688785447381985043604476286730643472089109814947303028571411009818570125611950155705593318806574481622013046820791883878536984128329719708202024442630666316901539622632724252382198077662193856841243323\n",
      "server_n = 25743661803896111824767844794142091779168029239772376332589035022916355612308088776756632416629500987561717333701972838998608651379818006996857513882744247628074574500549503160540767438049885983832547953787122855694518447222803792561222049439314209705375643833837949659923730255564461348140838637289398399077079699463800076755044083050665826082595747789184020220296478046689117325874900729152389344147169085621048732673261114873284362825105772699222587849066250383323862754887747291547155420836706515506014170724511446694360012346058439574825420884788274122817634522965177679420502575287872573977994988306476657292633\n"
     ]
    }
   ],
   "source": [
    "server_n_attack = int(session.get(f'http://asymcryptwebservice.appspot.com/znp/serverKey').json()[\"modulus\"], 16)\n",
    "while True:\n",
    "    t = rand.randrange(0, server_n_attack)\n",
    "    y = pow(t, 2, server_n_attack)\n",
    "\n",
    "    # Кидаємо його серваку\n",
    "    r = session.get(f'http://asymcryptwebservice.appspot.com/znp/challenge?y={hex(y)[2:]}')\n",
    "\n",
    "    server_z = int(r.json()[\"root\"], 16)\n",
    "    if(t != server_z and t != (-1)*server_z):\n",
    "        divisor, _, _ = extended_gcd(t + server_z, server_n_attack)\n",
    "        if (divisor == 1 or divisor == server_n_attack):\n",
    "            continue\n",
    "        break\n",
    "print(\"divisor =\", divisor)\n",
    "print(\"server_n =\", server_n_attack)"
   ]
  },
  {
   "cell_type": "markdown",
   "metadata": {},
   "source": []
  }
 ],
 "metadata": {
  "kernelspec": {
   "display_name": "Python 3",
   "language": "python",
   "name": "python3"
  },
  "language_info": {
   "codemirror_mode": {
    "name": "ipython",
    "version": 3
   },
   "file_extension": ".py",
   "mimetype": "text/x-python",
   "name": "python",
   "nbconvert_exporter": "python",
   "pygments_lexer": "ipython3",
   "version": "3.11.4"
  }
 },
 "nbformat": 4,
 "nbformat_minor": 2
}
