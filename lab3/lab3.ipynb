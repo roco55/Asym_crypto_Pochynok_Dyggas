{
 "cells": [
  {
   "cell_type": "markdown",
   "metadata": {},
   "source": [
    "# Лабораторна робота 3 з \"Асиметричних криптосистем та протоколів\"\n",
    "## Тема: Криптосистема Рабіна; Атака на протокол доведення знання без розголошення\n",
    "\n",
    "**Виконали**\\\n",
    "Дигас Богдан, ФІ-03\\\n",
    "Починок Юрій, ФІ-03"
   ]
  },
  {
   "cell_type": "code",
   "execution_count": null,
   "metadata": {},
   "outputs": [],
   "source": []
  }
 ],
 "metadata": {
  "language_info": {
   "name": "python"
  }
 },
 "nbformat": 4,
 "nbformat_minor": 2
}
