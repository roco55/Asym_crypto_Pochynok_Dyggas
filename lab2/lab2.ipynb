{
 "cells": [
  {
   "cell_type": "markdown",
   "metadata": {},
   "source": [
    "# Лабораторна робота 2 з \"Асиметричних криптосистем та протоколів\"\n",
    "## Тема: Вивчення криптосистеми RSA та алгоритму електронного підпису; ознайомлення з методами генерації параметрів для асиметричних криптосистем\n",
    "\n",
    "**Виконали**\\\n",
    "Дигас Богдан, ФІ-03\\\n",
    "Починок Юрій, ФІ-03"
   ]
  },
  {
   "cell_type": "code",
   "execution_count": 229,
   "metadata": {},
   "outputs": [],
   "source": [
    "import random\n",
    "import math\n",
    "import numpy as np\n",
    "rand = random.SystemRandom()"
   ]
  },
  {
   "cell_type": "markdown",
   "metadata": {},
   "source": [
    "## Miller-Rabin test"
   ]
  },
  {
   "cell_type": "code",
   "execution_count": 230,
   "metadata": {},
   "outputs": [],
   "source": [
    "\n",
    "def decomposing_number(n, a):\n",
    "    exp = n - 1\n",
    "    while not exp & 1:  # while exp is even\n",
    "        exp >>= 1  # divide by 2\n",
    "    if pow(a, exp, n) == 1:\n",
    "        return True  # number is composite\n",
    "    while exp < n - 1:\n",
    "        if pow(a, exp, n) == n - 1:\n",
    "            return True  # number is composite\n",
    "        exp <<= 1  # multiply by 2\n",
    "    return False  # number is probably prime\n",
    "\n",
    "\n",
    "def miller_rabbin_test(n, k=20):\n",
    "    for i in range(k):\n",
    "        a = rand.randrange(1, n - 1)\n",
    "        if not decomposing_number(n, a):\n",
    "            return False  # number is composite\n",
    "    return True  # number is probably prime\n",
    "\n",
    "def bin_to_dec(bin_n):\n",
    "    dec_n = 0\n",
    "    res = 0\n",
    "    for i in range(len(bin_n)):\n",
    "        res = bin_n[len(bin_n) - i - 1] * 2 ** i\n",
    "        dec_n += res\n",
    "    return dec_n\n"
   ]
  },
  {
   "cell_type": "markdown",
   "metadata": {},
   "source": [
    "## Prime number generation"
   ]
  },
  {
   "cell_type": "code",
   "execution_count": 231,
   "metadata": {},
   "outputs": [],
   "source": [
    "def generate_bit_seq(n):\n",
    "    seq = [0]*n\n",
    "    for i in range(n):\n",
    "        seq[i] = rand.randint(0, 1)\n",
    "    return seq\n",
    "\n",
    "\n",
    "def L20(n):\n",
    "    seq = generate_bit_seq(20)\n",
    "    result = [0]*n\n",
    "    for i in range(20):\n",
    "        result[i] = seq[i]\n",
    "    for i in range(20,n):\n",
    "        result[i] = result[i-3]^result[i-5]^result[i-9]^result[i-20]\n",
    "    return result\n"
   ]
  },
  {
   "cell_type": "code",
   "execution_count": 232,
   "metadata": {},
   "outputs": [],
   "source": [
    "def generate_prime_number(x):\n",
    "    res = [1,0,0]\n",
    "    while(miller_rabbin_test(bin_to_dec(res)) == False):\n",
    "        res = L20(x)\n",
    "    return res"
   ]
  },
  {
   "cell_type": "markdown",
   "metadata": {},
   "source": [
    "## Better prime number generation 2*k*p+1"
   ]
  },
  {
   "cell_type": "code",
   "execution_count": 234,
   "metadata": {},
   "outputs": [],
   "source": [
    "def generate_better_prime_numbers(n):\n",
    "    p = bin_to_dec(generate_prime_number(n))\n",
    "    q = bin_to_dec(generate_prime_number(n))\n",
    "    \n",
    "    i = 1\n",
    "    while(miller_rabbin_test(2*p*i + 1) == False):\n",
    "        i = i + 1   \n",
    "\n",
    "    better_p = 2*p*i + 1\n",
    "    \n",
    "    j = 1\n",
    "    while(miller_rabbin_test(2*q*j + 1) == False):\n",
    "        j = j + 1\n",
    "\n",
    "    better_q = 2*q*j + 1\n",
    "    \n",
    "    return better_p, better_q"
   ]
  },
  {
   "cell_type": "markdown",
   "metadata": {},
   "source": [
    "## Initialization "
   ]
  },
  {
   "cell_type": "code",
   "execution_count": 235,
   "metadata": {},
   "outputs": [],
   "source": [
    "def RSA_gen_constants():\n",
    "    p,q = generate_better_prime_numbers(256)\n",
    "    e = 2**16 + 1\n",
    "    n = p*q\n",
    "    phi_n = (p-1)*(q-1)\n",
    "    d = pow(e,-1,phi_n)\n",
    "    \n",
    "    return p,q,n,e,d"
   ]
  },
  {
   "cell_type": "markdown",
   "metadata": {},
   "source": [
    "## User and his parameters"
   ]
  },
  {
   "cell_type": "code",
   "execution_count": 236,
   "metadata": {},
   "outputs": [],
   "source": [
    "class User:\n",
    "    \n",
    "    __private_key = None\n",
    "    __key_pair = None\n",
    "    \n",
    "    __k = None\n",
    "\n",
    "    def __init__(self):\n",
    "        result = RSA_gen_constants()\n",
    "        self.__key_pair = result[0], result[1]\n",
    "        self.public_n = result[2]\n",
    "        self.public_e = result[3]\n",
    "        self.__private_key = result[4]\n",
    "        \n",
    "    def show(self):\n",
    "        print(self.__key_pair, self.public_n, self.public_e, self.__private_key, sep = \"\\n\")\n",
    "        \n",
    "    \n",
    "    def RSA_decrypt(self, C):\n",
    "        res = pow(C, self.__private_key, self.public_n)\n",
    "        return res\n",
    "    \n",
    "    def RSA_sign(self, M):\n",
    "        res = pow(M, self.__private_key, self.public_n)\n",
    "        return res\n",
    "    \n",
    "    def Send_Key(self, e_1, n_1):\n",
    "        while(self.public_n > n_1):\n",
    "            print(\"Regenerating keys\")\n",
    "            print(self.public_n,\" && \", n_1)\n",
    "            result = RSA_gen_constants()\n",
    "            self.__key_pair = result[0], result[1]\n",
    "            self.public_n = result[2]\n",
    "            self.public_e = result[3]\n",
    "            self.__private_key = result[4]\n",
    "        \n",
    "        k = random.randint(1, self.public_n-1)\n",
    "        print(\"initial k, \", hex(k))\n",
    "        S = pow(k, self.__private_key, self.public_n)\n",
    "        S_1 = pow(S, e_1, n_1)\n",
    "        k_1 = pow(k, e_1, n_1)\n",
    "        \n",
    "        return k_1, S_1\n",
    "    \n",
    "    def Receive_Key(self, k_1, S_1, e, n):\n",
    "        k = pow(k_1, self.__private_key, self.public_n)\n",
    "        S = pow(S_1, self.__private_key, self.public_n)\n",
    "        \n",
    "        if k == pow(S, e, n):\n",
    "            __k = k\n",
    "            print(\"k is authentic, \", hex(k))\n",
    "        else:\n",
    "            print(\"k is not authentic, try again\")"
   ]
  },
  {
   "cell_type": "markdown",
   "metadata": {},
   "source": [
    "## User initialization"
   ]
  },
  {
   "cell_type": "code",
   "execution_count": 237,
   "metadata": {},
   "outputs": [],
   "source": [
    "A = User()\n",
    "B = User()\n",
    "\n",
    "def RSA_encrypt(m,e,n):\n",
    "    res = pow(m,e,n)\n",
    "    return res\n",
    "\n",
    "def RSA_verify(S, M, e, n):\n",
    "    res = pow(S,e,n)\n",
    "    return res == M"
   ]
  },
  {
   "cell_type": "code",
   "execution_count": 272,
   "metadata": {},
   "outputs": [
    {
     "name": "stdout",
     "output_type": "stream",
     "text": [
      "Public n:  15115333322066772450441067451048002723717561506171604432016060143914893447974168884928991232487149882623226484531945047705152132156719173897180589227786310817\n",
      "Public e:  65537\n"
     ]
    }
   ],
   "source": [
    "print(\"Public n: \", A.public_n)\n",
    "print(\"Public e: \", A.public_e)"
   ]
  },
  {
   "cell_type": "markdown",
   "metadata": {},
   "source": [
    "## Next corresponding functions are working with http://asymcryptwebservice.appspot.com/?section=rsa website and were created to check their corectness"
   ]
  },
  {
   "cell_type": "markdown",
   "metadata": {},
   "source": [
    "## Server Key"
   ]
  },
  {
   "cell_type": "code",
   "execution_count": 259,
   "metadata": {},
   "outputs": [],
   "source": [
    "server_key = int(\"8C9B7B4ADF8D45CF4CB63183681109D2D38B0941F6C04971FD3C0BC55CD99647\", 16)\n",
    "server_e = 2**16+1"
   ]
  },
  {
   "cell_type": "markdown",
   "metadata": {},
   "source": [
    "## Encryption"
   ]
  },
  {
   "cell_type": "code",
   "execution_count": 240,
   "metadata": {},
   "outputs": [
    {
     "name": "stdout",
     "output_type": "stream",
     "text": [
      "0x14152bc92aaf35739d56c41679dabf19cfc123c8bce86e6a4b4b5e6330bd46fe4b49aa01a6efb6caf70d1d769460a1238ef382671da72b795414fa5927bc31ce363d\n",
      "0x10001\n",
      "0x40aa16f4b83ec117d98791751a04c63037e7eda0f4ca4629e700f3997e01118\n"
     ]
    }
   ],
   "source": [
    "M = int(\"12345\", 16)\n",
    "print(\"Public n: \",hex(A.public_n))\n",
    "print(\"Public e: \",hex(A.public_e))\n",
    "print(\"Decrypted M: \",hex(RSA_encrypt(M,server_e,server_key)))"
   ]
  },
  {
   "cell_type": "markdown",
   "metadata": {},
   "source": [
    "## Decryption"
   ]
  },
  {
   "cell_type": "code",
   "execution_count": 241,
   "metadata": {},
   "outputs": [
    {
     "name": "stdout",
     "output_type": "stream",
     "text": [
      "0x11300296ca1f8491ce38eb8f8777f71f43ecf057f77333ec96cbbfacd11918201d346c96b2f24f23da60f22bdd0d85cf76edbae750dcda4709b6790a26fb6b9bff41\n"
     ]
    }
   ],
   "source": [
    "C = int(\"028CA31431ED51576FFA245A3E3A044287233FDFD2C292D15FA7FDAEC4F001D0BDE8B684084CA914FE6B878A01C00DE0AC4AC1E227982C91D5B7E62036D49D5C9106\", 16)\n",
    "print(\"Encrypted M: \", hex(A.RSA_decrypt(C)))"
   ]
  },
  {
   "cell_type": "markdown",
   "metadata": {},
   "source": [
    "## Signature"
   ]
  },
  {
   "cell_type": "code",
   "execution_count": 264,
   "metadata": {},
   "outputs": [
    {
     "name": "stdout",
     "output_type": "stream",
     "text": [
      "True\n"
     ]
    }
   ],
   "source": [
    "M = int(\"12345\", 16)\n",
    "server_S = int(\"36880956AD2EDC33F2C8B731AA6823556FDE2F007A261824908F61144D10D1FC\",16)\n",
    "print(\"Verification (True/False): \",RSA_verify(server_S, M, server_e, server_key))"
   ]
  },
  {
   "cell_type": "markdown",
   "metadata": {},
   "source": [
    "## Verification"
   ]
  },
  {
   "cell_type": "code",
   "execution_count": 243,
   "metadata": {},
   "outputs": [
    {
     "name": "stdout",
     "output_type": "stream",
     "text": [
      "0x2adb328def2857f8a4ef0d0237734f0674d191a21e1847c3188dad4b80e32f6afe65c7458d9c65ecdc4adfab8b77bd781eb55b46a0583ce93b42e822148243225b7\n",
      "0x14152bc92aaf35739d56c41679dabf19cfc123c8bce86e6a4b4b5e6330bd46fe4b49aa01a6efb6caf70d1d769460a1238ef382671da72b795414fa5927bc31ce363d\n",
      "0x10001\n"
     ]
    }
   ],
   "source": [
    "M = int(\"1234\", 16)\n",
    "print(hex(A.RSA_sign(M)))\n",
    "print(hex(A.public_n))\n",
    "print(hex(A.public_e))\n",
    "# result is presented on the website"
   ]
  },
  {
   "cell_type": "markdown",
   "metadata": {},
   "source": [
    "## Send key\n"
   ]
  },
  {
   "cell_type": "code",
   "execution_count": 260,
   "metadata": {},
   "outputs": [
    {
     "name": "stdout",
     "output_type": "stream",
     "text": [
      "0x4675a62425ad54847f38856b4cd386dd6dbe0eb36f48e0f52dbea598ec1c4d45374699b5db9f7240dd7cf53883d54c1c5ff59a66533244a3c7852990ef4aafb14a1\n",
      "0x10001\n"
     ]
    }
   ],
   "source": [
    "print(hex(A.public_n))\n",
    "print(hex(A.public_e))"
   ]
  },
  {
   "cell_type": "code",
   "execution_count": 267,
   "metadata": {},
   "outputs": [
    {
     "name": "stdout",
     "output_type": "stream",
     "text": [
      "k is authentic,  0x5bad7deb572049f3\n"
     ]
    }
   ],
   "source": [
    "server_encrypted_key = int(\"01D46C75E2CF703ACB160AE5615901A31409C708BB76E09FF4FF6E29EEBA497F6C2DE29E8D3F7D8193967DDDEACB0764F18D044E40C1E44C16DFEB5CE36C9CF2CF39\", 16)\n",
    "server_encrypted_signature = int(\"488AF41BAB8BD994803C9557808BD8723A9CB4E46109D15B88D8D05A83460EFABB5554453C0BD5C4E6E9AB440C00F2181ABF770664578965A99EEF5DF98C0D1F37\",16)\n",
    "A.Receive_Key(server_encrypted_key,server_encrypted_signature, A.public_e, server_key)"
   ]
  },
  {
   "cell_type": "markdown",
   "metadata": {},
   "source": [
    "## Recieve Key"
   ]
  },
  {
   "cell_type": "markdown",
   "metadata": {},
   "source": [
    "### для роботи даної функції потрібно збільшити модуль сервера з яким ми спілкуємось, а бо ж зменшити ключ абонента, що робиться трохи вище"
   ]
  },
  {
   "cell_type": "code",
   "execution_count": 268,
   "metadata": {},
   "outputs": [
    {
     "name": "stdout",
     "output_type": "stream",
     "text": [
      "initial k,  0x1d329d00ec9a74f59e1cd2cbf5cb6246848709bf912c7ce8b37769d1e4aaec14e04e59e1d5cd6a0cfa64c4e4f515313b1932043a33128dc17bd1291ba5f6010b2ce\n",
      "0x40c7ba3430d60eddb6b2384ca9ceb60fb214295a6d008d6bcbe72988d4d7859ae63c937c9759dcf3e4d3292249b9cafff485486b4fb21293a2cdd56a0eed398778fb4af036e24a69d5e9f8621d96cac986a2caace823426f35f82ebff245db1542e2a96d7680cce89ca826f8690cfeaf1bbee520ae807ab4e92bacd45ac7e8f7\n",
      "0x68fba1793983c8adcca06d6ff3098addb61a12e115f4d9286f4cc32e268fdb7609fedb717526f57acfa35dfc53dd196b84858a6116843858364c4665a03035008ac64de399517011f40d7c73886f6fb1996885a0519725c51666198a0e0439d078defe62bb3b01df1d1680fd36ab22eac9f3ae4e3936c17422228c5be522645e\n",
      "0x4675a62425ad54847f38856b4cd386dd6dbe0eb36f48e0f52dbea598ec1c4d45374699b5db9f7240dd7cf53883d54c1c5ff59a66533244a3c7852990ef4aafb14a1\n",
      "0x10001\n"
     ]
    }
   ],
   "source": [
    "server_key = int(\"87AE7AEB5B6DB02F738224DC2CB927132FC7E0D2ED094EFBCE540B4622053BE77E36B33C72904CE80E5493607681BF6EF7DBE5A3994B045059CD81DBF7EEA2D82AC260E6B1840CCFCD429850EA453BEC595A7B74DBFFD65F26EAF7EFCA4DA6238F80AFE8D2F2372523B44C1F1F97505FA3D0ACD1715DD5BCEB45C475B9FDF693\", 16)\n",
    "server_e = 2**16+1\n",
    "k_1, s_1 = A.Send_Key(server_e, server_key)\n",
    "print(hex(k_1))\n",
    "print(hex(s_1))\n",
    "print(hex(A.public_n))\n",
    "print(hex(A.public_e))\n",
    "# result is presented on the website"
   ]
  },
  {
   "cell_type": "markdown",
   "metadata": {},
   "source": [
    "## Conclusion"
   ]
  },
  {
   "cell_type": "markdown",
   "metadata": {},
   "source": [
    "По ходу виконання роботи не виникало значних труднощів.\n",
    "\n",
    "Опрацювання алгоритмів і логіки працювання RSA були цікавими в реалізації й на невеликих числах, як виявилось достатньо швидким.\n",
    "\n",
    "Алгоритм устворення *кращих* простих чисел виявився досить непердбачуваним так як $k$ у формулі $2kp+1$ могло досягати великих значень й збільшувати нове просте число майже вдвічі. (за кількістю бітів)\n",
    "\n",
    "Лабораторна робота була не складною але цікавою, RSA ефективним і повідомлення захищеними :)"
   ]
  }
 ],
 "metadata": {
  "kernelspec": {
   "display_name": "Python 3",
   "language": "python",
   "name": "python3"
  },
  "language_info": {
   "codemirror_mode": {
    "name": "ipython",
    "version": 3
   },
   "file_extension": ".py",
   "mimetype": "text/x-python",
   "name": "python",
   "nbconvert_exporter": "python",
   "pygments_lexer": "ipython3",
   "version": "3.10.10"
  }
 },
 "nbformat": 4,
 "nbformat_minor": 2
}
