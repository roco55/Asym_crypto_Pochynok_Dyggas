{
 "cells": [
  {
   "cell_type": "markdown",
   "metadata": {},
   "source": [
    "# Лабораторна робота 2 з \"Асиметричних криптосистем та протоколів\"\n",
    "## Тема: Вивчення криптосистеми RSA та алгоритму електронного підпису; ознайомлення з методами генерації параметрів для асиметричних криптосистем\n",
    "\n",
    "**Виконали**\\\n",
    "Дигас Богдан, ФІ-03\\\n",
    "Починок Юрій, ФІ-03"
   ]
  },
  {
   "cell_type": "code",
   "execution_count": 777,
   "metadata": {},
   "outputs": [],
   "source": [
    "import random\n",
    "import math\n",
    "import numpy as np\n",
    "rand = random.SystemRandom()"
   ]
  },
  {
   "cell_type": "code",
   "execution_count": 778,
   "metadata": {},
   "outputs": [],
   "source": [
    "\n",
    "def decomposing_number(n, a):\n",
    "    exp = n - 1\n",
    "    while not exp & 1:  # while exp is even\n",
    "        exp >>= 1  # divide by 2\n",
    "    if pow(a, exp, n) == 1:\n",
    "        return True  # number is composite\n",
    "    while exp < n - 1:\n",
    "        if pow(a, exp, n) == n - 1:\n",
    "            return True  # number is composite\n",
    "        exp <<= 1  # multiply by 2\n",
    "    return False  # number is probably prime\n",
    "\n",
    "\n",
    "def miller_rabbin_test(n, k=20):\n",
    "    for i in range(k):\n",
    "        a = rand.randrange(1, n - 1)\n",
    "        if not decomposing_number(n, a):\n",
    "            return False  # number is composite\n",
    "    return True  # number is probably prime\n",
    "\n",
    "def bin_to_dec(bin_n):\n",
    "    dec_n = 0\n",
    "    res = 0\n",
    "    for i in range(len(bin_n)):\n",
    "        res = bin_n[len(bin_n) - i - 1] * 2 ** i\n",
    "        dec_n += res\n",
    "    return dec_n\n"
   ]
  },
  {
   "cell_type": "code",
   "execution_count": 779,
   "metadata": {},
   "outputs": [],
   "source": [
    "def generate_bit_seq(n):\n",
    "    seq = [0]*n\n",
    "    for i in range(n):\n",
    "        seq[i] = rand.randint(0, 1)\n",
    "    return seq\n",
    "\n",
    "\n",
    "def L20(n):\n",
    "    seq = generate_bit_seq(20)\n",
    "    result = [0]*n\n",
    "    for i in range(20):\n",
    "        result[i] = seq[i]\n",
    "    for i in range(20,n):\n",
    "        result[i] = result[i-3]^result[i-5]^result[i-9]^result[i-20]\n",
    "    return result\n"
   ]
  },
  {
   "cell_type": "code",
   "execution_count": 780,
   "metadata": {},
   "outputs": [],
   "source": [
    "def generate_prime_number(x):\n",
    "    res = [1,0,0]\n",
    "    while(miller_rabbin_test(bin_to_dec(res)) == False):\n",
    "        res = L20(x)\n",
    "    return res"
   ]
  },
  {
   "cell_type": "code",
   "execution_count": 781,
   "metadata": {},
   "outputs": [
    {
     "name": "stdout",
     "output_type": "stream",
     "text": [
      "[1, 0, 1, 1, 0, 1, 0, 0, 1, 0, 0, 1, 0, 0, 1, 0, 1, 0, 0, 1, 0, 1, 0, 0, 0, 0, 1, 0, 0, 1, 1, 0, 1, 1, 0, 1, 0, 1, 1, 0, 0, 1, 0, 1, 0, 0, 0, 1, 1, 1, 1, 1, 0, 1, 0, 0, 1, 0, 1, 0, 1, 1, 1, 1, 1, 1, 0, 0, 1, 1, 1, 1, 0, 0, 1, 1, 0, 0, 1, 0, 1, 0, 1, 0, 0, 1, 0, 0, 0, 0, 0, 0, 0, 0, 0, 1, 0, 0, 0, 0, 0, 0, 1, 0, 1, 0, 0, 0, 0, 1, 0, 1, 1, 1, 0, 0, 0, 1, 0, 0, 0, 1, 1, 0, 0, 1, 0, 1, 1, 1, 1, 1, 1, 1, 1, 0, 1, 0, 0, 1, 1, 1, 1, 0, 0, 0, 1, 0, 0, 1, 0, 1, 0, 1, 1, 1, 1, 1, 1, 1, 0, 1, 0, 0, 1, 1, 1, 0, 0, 1, 0, 0, 1, 0, 1, 1, 1, 1, 1, 1, 0, 0, 0, 0, 1, 0, 0, 0, 1, 0, 0, 1, 1, 0, 0, 0, 0, 1, 1, 1, 0, 0, 0, 1, 0, 0, 0, 1, 1, 0, 1, 0, 1, 0, 0, 0, 1, 1, 1, 1, 1, 1, 0, 1, 0, 0, 1, 0, 1, 0, 0, 0, 0, 1, 0, 1, 0, 0, 1, 1, 0, 0, 0, 0, 0, 0, 1, 1, 0, 1, 1, 1, 0, 0, 0, 1]\n"
     ]
    }
   ],
   "source": [
    "res = generate_prime_number(256)\n",
    "print(res)"
   ]
  },
  {
   "cell_type": "code",
   "execution_count": 782,
   "metadata": {},
   "outputs": [],
   "source": [
    "def generate_better_prime_numbers(n):\n",
    "    p = bin_to_dec(generate_prime_number(n))\n",
    "    q = bin_to_dec(generate_prime_number(n))\n",
    "    \n",
    "    i = 1\n",
    "    while(miller_rabbin_test(2*p*i + 1) == False):\n",
    "        i = i + 1\n",
    "\n",
    "    better_p = 2*p*i + 1\n",
    "    \n",
    "    j = 1\n",
    "    while(miller_rabbin_test(2*q*j + 1) == False):\n",
    "        j = j + 1\n",
    "\n",
    "    better_q = 2*q*j + 1\n",
    "    \n",
    "    return better_p, better_q"
   ]
  },
  {
   "cell_type": "code",
   "execution_count": 783,
   "metadata": {},
   "outputs": [],
   "source": [
    "def RSA_gen_constants():\n",
    "    p,q = generate_better_prime_numbers(256)\n",
    "    e = 2**16 + 1\n",
    "    n = p*q\n",
    "    phi_n = (p-1)*(q-1)\n",
    "    d = pow(e,-1,phi_n)\n",
    "    \n",
    "    return p,q,n,e,d"
   ]
  },
  {
   "cell_type": "code",
   "execution_count": 784,
   "metadata": {},
   "outputs": [],
   "source": [
    "class User:\n",
    "    \n",
    "    __private_key = None\n",
    "    __key_pair = None\n",
    "    \n",
    "    __k = None\n",
    "\n",
    "    def __init__(self):\n",
    "        result = RSA_gen_constants()\n",
    "        self.__key_pair = result[0], result[1]\n",
    "        self.public_n = result[2]\n",
    "        self.public_e = result[3]\n",
    "        self.__private_key = result[4]\n",
    "        \n",
    "    \n",
    "    def RSA_decrypt(self, C):\n",
    "        res = pow(C, self.__private_key, self.public_n)\n",
    "        return res\n",
    "    \n",
    "    def RSA_sign(self, M):\n",
    "        res = pow(M, self.__private_key, self.public_n)\n",
    "        return res\n",
    "    \n",
    "    def Send_Key(self, e_1, n_1):\n",
    "        while(self.public_n > n_1):\n",
    "            print(\"Regenerating keys\")\n",
    "            print(self.public_n,\" && \", n_1)\n",
    "            result = RSA_gen_constants()\n",
    "            self.__key_pair = result[0], result[1]\n",
    "            self.public_n = result[2]\n",
    "            self.public_e = result[3]\n",
    "            self.__private_key = result[4]\n",
    "        \n",
    "        k = random.randint(1, self.public_n-1)\n",
    "        print(\"initial k, \", hex(k))\n",
    "        S = pow(k, self.__private_key, self.public_n)\n",
    "        S_1 = pow(S, e_1, n_1)\n",
    "        k_1 = pow(k, e_1, n_1)\n",
    "        \n",
    "        return k_1, S_1\n",
    "    \n",
    "    def Receive_Key(self, k_1, S_1, e, n):\n",
    "        k = pow(k_1, self.__private_key, self.public_n)\n",
    "        S = pow(S_1, self.__private_key, self.public_n)\n",
    "        \n",
    "        if k == pow(S, e, n):\n",
    "            __k = k\n",
    "            print(\"k is authentic, \", hex(k))\n",
    "        else:\n",
    "            print(\"k is not authentic, try again\")"
   ]
  },
  {
   "cell_type": "code",
   "execution_count": 785,
   "metadata": {},
   "outputs": [],
   "source": [
    "A = User()\n",
    "B = User()\n",
    "\n",
    "def RSA_encrypt(m,e,n):\n",
    "    res = pow(m,e,n)\n",
    "    return res\n",
    "\n",
    "def RSA_verify(S, M, e, n):\n",
    "    res = pow(S,e,n)\n",
    "    return res == M\n"
   ]
  },
  {
   "cell_type": "code",
   "execution_count": 786,
   "metadata": {},
   "outputs": [
    {
     "name": "stdout",
     "output_type": "stream",
     "text": [
      "0x8b41386cc56ada854fea1921cec47551132e11c13961a166bf50bd0e0d9d81d8bb09a4951bae43dd66130e669927a18754ae6a92bee4e69f930d1202f32ead87d07b\n"
     ]
    }
   ],
   "source": [
    "print(hex(A.public_n))"
   ]
  },
  {
   "cell_type": "markdown",
   "metadata": {},
   "source": [
    "## Server Key"
   ]
  },
  {
   "cell_type": "code",
   "execution_count": 787,
   "metadata": {},
   "outputs": [],
   "source": [
    "server_key = int(\"C2C686510DBB7E57A11C92322603919B959CC5DC5C535D812B28D376860C66EF\", 16)\n",
    "server_e = 2**16+1"
   ]
  },
  {
   "cell_type": "markdown",
   "metadata": {},
   "source": [
    "## Encryption"
   ]
  },
  {
   "cell_type": "code",
   "execution_count": 788,
   "metadata": {},
   "outputs": [
    {
     "name": "stdout",
     "output_type": "stream",
     "text": [
      "0x8b41386cc56ada854fea1921cec47551132e11c13961a166bf50bd0e0d9d81d8bb09a4951bae43dd66130e669927a18754ae6a92bee4e69f930d1202f32ead87d07b\n",
      "0x10001\n",
      "0x7ebfa24c5ddea29e9b9bf95157229da6526ac76e46f4983ba0e6820f3edf0241cbd4ade8448fd6f073930a2b2e01fdda54ab8e970b6b840ab6daaec914b67c6c843b\n"
     ]
    }
   ],
   "source": [
    "M = int(\"07B4F868685AB20081\", 16)\n",
    "print(hex(A.public_n))\n",
    "print(hex(A.public_e))\n",
    "print(hex(A.RSA_decrypt(M)))"
   ]
  },
  {
   "cell_type": "markdown",
   "metadata": {},
   "source": [
    "## Decryption"
   ]
  },
  {
   "cell_type": "code",
   "execution_count": 789,
   "metadata": {},
   "outputs": [
    {
     "name": "stdout",
     "output_type": "stream",
     "text": [
      "0x7ebfa24c5ddea29e9b9bf95157229da6526ac76e46f4983ba0e6820f3edf0241cbd4ade8448fd6f073930a2b2e01fdda54ab8e970b6b840ab6daaec914b67c6c843b\n"
     ]
    }
   ],
   "source": [
    "C = int(\"07B4F868685AB20081\", 16)\n",
    "print(hex(A.RSA_decrypt(C)))"
   ]
  },
  {
   "cell_type": "markdown",
   "metadata": {},
   "source": [
    "## Signature"
   ]
  },
  {
   "cell_type": "code",
   "execution_count": 790,
   "metadata": {},
   "outputs": [
    {
     "name": "stdout",
     "output_type": "stream",
     "text": [
      "False\n"
     ]
    }
   ],
   "source": [
    "M = int(\"07B4F868685AB20081\", 16)\n",
    "server_S = int(\"496CC7A5A8631A8279F2F15ABAE40CABAD9937CB8D97027783E914423EC7B191\",16)\n",
    "print(RSA_verify(server_S, M, server_e, server_key))"
   ]
  },
  {
   "cell_type": "markdown",
   "metadata": {},
   "source": [
    "## Verification"
   ]
  },
  {
   "cell_type": "code",
   "execution_count": 791,
   "metadata": {},
   "outputs": [
    {
     "name": "stdout",
     "output_type": "stream",
     "text": [
      "0x7ebfa24c5ddea29e9b9bf95157229da6526ac76e46f4983ba0e6820f3edf0241cbd4ade8448fd6f073930a2b2e01fdda54ab8e970b6b840ab6daaec914b67c6c843b\n",
      "0x8b41386cc56ada854fea1921cec47551132e11c13961a166bf50bd0e0d9d81d8bb09a4951bae43dd66130e669927a18754ae6a92bee4e69f930d1202f32ead87d07b\n",
      "0x10001\n"
     ]
    }
   ],
   "source": [
    "M = int(\"07B4F868685AB20081\", 16)\n",
    "print(hex(A.RSA_sign(M)))\n",
    "print(hex(A.public_n))\n",
    "print(hex(A.public_e))"
   ]
  },
  {
   "cell_type": "markdown",
   "metadata": {},
   "source": [
    "## Send key\n"
   ]
  },
  {
   "cell_type": "code",
   "execution_count": 792,
   "metadata": {},
   "outputs": [
    {
     "name": "stdout",
     "output_type": "stream",
     "text": [
      "0x8b41386cc56ada854fea1921cec47551132e11c13961a166bf50bd0e0d9d81d8bb09a4951bae43dd66130e669927a18754ae6a92bee4e69f930d1202f32ead87d07b\n",
      "0x10001\n",
      "k is not authentic, try again\n"
     ]
    }
   ],
   "source": [
    "print(hex(A.public_n))\n",
    "print(hex(A.public_e))\n",
    "server_encrypted_key = int(\"0217CC65496F8DABBC92DC8998D8B0B085E91BDCBB9B922E33F3503C43BF3515736458E3E9AF5AEF5D35EA479007C0511347A8936AAFE73EED6F43AE09DA4BF589D3\", 16)\n",
    "server_encrypted_signature = int(\"06201BA559CF89A44A019C9F9A8DFA8C1B8EF3052368DE1EAC66EEBCC4F1F54198D02D8C81F0B9E5C814CA2E2B353171BF09E2D1ADDB95AB4F765B2E089C395FD5D8\",16)\n",
    "A.Receive_Key(server_encrypted_key,server_encrypted_signature, A.public_e, server_key)"
   ]
  },
  {
   "cell_type": "markdown",
   "metadata": {},
   "source": [
    "## Recieve Key"
   ]
  },
  {
   "cell_type": "code",
   "execution_count": 794,
   "metadata": {},
   "outputs": [
    {
     "name": "stdout",
     "output_type": "stream",
     "text": [
      "initial k,  0xa3470535770d1db08ad24ff3881987a6417602cb19288dafff58c8ae041c2a7691295f8a2380a7d697d6fe8cf7a12a0611e23c4f53680c8dcdc5e54b16be5345718\n",
      "0x57f928399dfc58ad45293c1d2b9b3747340a95534ca0c448c041fee95537010cf937549d7c940f15482320ab838b726bdeb0c3b8e451545a93e03ea4325e421ff864253f1a3520be2e82cc052804889b5375cc246b4c664da94cc8b721e700deafd0f61f1fc492f8861fd3754ff0ad2b00ddbc2104c6c0dffff3953f70b225f4\n",
      "0x99fe0e3f93858dbf7be46429dd8b6556114b57d2ea7fbf7a7d51d2ed208d477eb199fc2d266ead9bb3a7ff96b6b0adf91e721155e2f00d08f7269a917658c6091d4fac2bf26eae2c57a401508130dcc5e2670ab45c4220e685f5c401f7e6fe7458f7d7093537fef65911160a820dda3b4c96ac49ab850aa7d8de30f3d96bc93c\n",
      "0x1358de1db5ecbe0813acecb0c9ba63c2a3c2025e6b37b55c4133541576d9af099fb49e0c34faa1babd2fbc6f7ec5ab39c1b734d2a4671354707f008e4f544d5dbfb5\n",
      "0x10001\n"
     ]
    }
   ],
   "source": [
    "server_key = int(\"A11EF05C3B5AA7B0F8DF0047D6817BD46F10D47CA89EB22D6312672E04A32E650A7F15313F5ACA38ECA784DE2E38FE20B873EF9063065A93292D7DBD33B4BBFAA9D6AD7B97F1DDE3B5D9CB8E6606872660CF6A64EC73AED9AFD2FE13EDAACE13F3BC5365467F550C017F696E2F1A213F855B139A9F1C93AD92542A654E4D1297\", 16)\n",
    "server_e = 2**16+1\n",
    "k_1, s_1 = A.Send_Key(server_e, server_key)\n",
    "print(hex(k_1))\n",
    "print(hex(s_1))\n",
    "print(hex(A.public_n))\n",
    "print(hex(A.public_e))"
   ]
  }
 ],
 "metadata": {
  "kernelspec": {
   "display_name": "Python 3",
   "language": "python",
   "name": "python3"
  },
  "language_info": {
   "codemirror_mode": {
    "name": "ipython",
    "version": 3
   },
   "file_extension": ".py",
   "mimetype": "text/x-python",
   "name": "python",
   "nbconvert_exporter": "python",
   "pygments_lexer": "ipython3",
   "version": "3.11.4"
  }
 },
 "nbformat": 4,
 "nbformat_minor": 2
}
