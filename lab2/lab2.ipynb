{
 "cells": [
  {
   "cell_type": "markdown",
   "metadata": {},
   "source": [
    "# Лабораторна робота 2 з \"Асиметричних криптосистем та протоколів\"\n",
    "## Тема: Вивчення криптосистеми RSA та алгоритму електронного підпису; ознайомлення з методами генерації параметрів для асиметричних криптосистем\n",
    "\n",
    "**Виконали**\\\n",
    "Дигас Богдан, ФІ-03\\\n",
    "Починок Юрій, ФІ-03"
   ]
  },
  {
   "cell_type": "code",
   "execution_count": 136,
   "metadata": {},
   "outputs": [],
   "source": [
    "import random\n",
    "rand = random.SystemRandom()"
   ]
  },
  {
   "cell_type": "code",
   "execution_count": 137,
   "metadata": {},
   "outputs": [],
   "source": [
    "\n",
    "def decomposing_number(n, a):\n",
    "    exp = n - 1\n",
    "    while not exp & 1:  # while exp is even\n",
    "        exp >>= 1  # divide by 2\n",
    "    if pow(a, exp, n) == 1:\n",
    "        return True  # number is composite\n",
    "    while exp < n - 1:\n",
    "        if pow(a, exp, n) == n - 1:\n",
    "            return True  # number is composite\n",
    "        exp <<= 1  # multiply by 2\n",
    "    return False  # number is probably prime\n",
    "\n",
    "\n",
    "def miller_rabbin_test(n, k=20):\n",
    "    for i in range(k):\n",
    "        a = rand.randrange(1, n - 1)\n",
    "        if not decomposing_number(n, a):\n",
    "            return False  # number is composite\n",
    "    return True  # number is probably prime\n",
    "\n",
    "def bin_to_dec(bin_n):\n",
    "    dec_n = 0\n",
    "    res = 0\n",
    "    for i in range(len(bin_n)):\n",
    "        res = bin_n[len(bin_n) - i - 1] * 2 ** i\n",
    "        dec_n += res\n",
    "    return dec_n\n"
   ]
  },
  {
   "cell_type": "code",
   "execution_count": 138,
   "metadata": {},
   "outputs": [],
   "source": [
    "def generate_bit_seq(n):\n",
    "    seq = [0]*n\n",
    "    for i in range(n):\n",
    "        seq[i] = rand.randint(0, 1)\n",
    "    return seq\n",
    "\n",
    "\n",
    "def L20(n):\n",
    "    seq = generate_bit_seq(20)\n",
    "    result = [0]*n\n",
    "    for i in range(20):\n",
    "        result[i] = seq[i]\n",
    "    for i in range(20,n):\n",
    "        result[i] = result[i-3]^result[i-5]^result[i-9]^result[i-20]\n",
    "    return result"
   ]
  },
  {
   "cell_type": "code",
   "execution_count": 139,
   "metadata": {},
   "outputs": [],
   "source": [
    "def generate_prime_number(x):\n",
    "    res = [1,0,0]\n",
    "    while(miller_rabbin_test(bin_to_dec(res)) == False):\n",
    "        res = L20(x)\n",
    "    return res"
   ]
  },
  {
   "cell_type": "code",
   "execution_count": 140,
   "metadata": {},
   "outputs": [
    {
     "name": "stdout",
     "output_type": "stream",
     "text": [
      "[1, 0, 0, 1, 1, 1, 0, 0, 1, 0, 1, 1, 1, 0, 1, 1, 1, 0, 0, 0, 1, 0, 0, 1, 0, 1, 1, 0, 1, 0, 0, 1, 0, 1, 1, 0, 1, 0, 1, 0, 0, 0, 1, 1, 0, 1, 0, 0, 1, 0, 1, 1, 1, 1, 1, 0, 1, 1, 0, 1, 0, 0, 0, 0, 1, 0, 1, 1, 0, 0, 0, 0, 0, 0, 1, 1, 0, 0, 1, 0, 1, 1, 0, 1, 1, 1, 1, 1, 0, 1, 1, 1, 1, 0, 0, 0, 0, 1, 0, 1, 1, 0, 0, 0, 0, 0, 0, 1, 1, 0, 0, 0, 0, 1, 0, 0, 0, 0, 1, 1, 1, 1, 0, 0, 0, 1, 1, 0, 1, 0, 0, 0, 0, 0, 1, 1, 0, 0, 0, 0, 0, 1, 0, 1, 0, 1, 1, 0, 1, 1, 0, 0, 0, 1, 1, 0, 1, 0, 0, 0, 0, 0, 1, 0, 0, 1, 1, 1, 0, 0, 0, 0, 1, 1, 0, 0, 1, 1, 1, 1, 1, 1, 0, 0, 0, 1, 1, 0, 0, 0, 0, 1, 1, 1, 0, 0, 1, 0, 0, 0, 0, 1, 1, 0, 1, 1, 0, 0, 1, 1, 0, 1, 0, 1, 1, 0, 1, 0, 0, 0, 1, 0, 0, 0, 1, 1, 0, 1, 0, 1, 0, 1, 0, 0, 0, 0, 1, 0, 1, 1, 0, 0, 1, 1, 0, 1, 1, 1, 1, 0, 0, 0, 0, 1, 1, 1]\n"
     ]
    }
   ],
   "source": [
    "res = generate_prime_number(256)\n",
    "print(res)"
   ]
  },
  {
   "cell_type": "code",
   "execution_count": 141,
   "metadata": {},
   "outputs": [],
   "source": [
    "def generate_better_prime_numbers(n):\n",
    "    p = bin_to_dec(generate_prime_number(n))\n",
    "    q = bin_to_dec(generate_prime_number(n))\n",
    "    \n",
    "    i = 1\n",
    "    while(miller_rabbin_test(2*p*i + 1) == False):\n",
    "        i = i + 1\n",
    "\n",
    "    better_p = 2*p*i + 1\n",
    "    \n",
    "    j = 1\n",
    "    while(miller_rabbin_test(2*q*j + 1) == False):\n",
    "        j = j + 1\n",
    "\n",
    "    better_q = 2*q*j + 1\n",
    "    \n",
    "    return better_p, better_q"
   ]
  },
  {
   "cell_type": "code",
   "execution_count": 142,
   "metadata": {},
   "outputs": [],
   "source": [
    "def RSA_gen_constants():\n",
    "    p,q = generate_better_prime_numbers(256)\n",
    "    e = 2**16 + 1\n",
    "    n = p*q\n",
    "    phi_n = (p-1)*(q-1)\n",
    "    d = pow(e,-1,phi_n)\n",
    "    \n",
    "    return p,q,n,e,d"
   ]
  },
  {
   "cell_type": "code",
   "execution_count": 143,
   "metadata": {},
   "outputs": [],
   "source": [
    "class User:\n",
    "    \n",
    "    __private_key = None\n",
    "    __key_pair = None\n",
    "    \n",
    "    __k = None\n",
    "\n",
    "    def __init__(self):\n",
    "        result = RSA_gen_constants()\n",
    "        self.__key_pair = result[0], result[1]\n",
    "        self.public_n = result[2]\n",
    "        self.public_e = result[3]\n",
    "        self.__private_key = result[4]\n",
    "        \n",
    "    \n",
    "    def RSA_decrypt(self, C):\n",
    "        res = pow(C, self.__private_key, self.public_n)\n",
    "        return res\n",
    "    \n",
    "    def RSA_sign(self, M):\n",
    "        res = pow(M, self.__private_key, self.public_n)\n",
    "        return res\n",
    "    \n",
    "    def Send_Key(self, e_1, n_1):\n",
    "        while(self.public_n > n_1):\n",
    "            print(\"Regenerating keys\")\n",
    "            print(self.public_n,\" && \", n_1)\n",
    "            result = RSA_gen_constants()\n",
    "            self.__key_pair = result[0], result[1]\n",
    "            self.public_n = result[2]\n",
    "            self.public_e = result[3]\n",
    "            self.__private_key = result[4]\n",
    "        \n",
    "        k = random.randint(1, self.public_n-1)\n",
    "        print(\"initial k, \", hex(k))\n",
    "        S = pow(k, self.__private_key, self.public_n)\n",
    "        S_1 = pow(S, e_1, n_1)\n",
    "        k_1 = pow(k, e_1, n_1)\n",
    "        \n",
    "        return k_1, S_1\n",
    "    \n",
    "    def Receive_Key(self, k_1, S_1, e, n):\n",
    "        k = pow(k_1, self.__private_key, self.public_n)\n",
    "        S = pow(S_1, self.__private_key, self.public_n)\n",
    "        \n",
    "        if k == pow(S, e, n):\n",
    "            __k = k\n",
    "            print(\"k is authentic, \", hex(k))\n",
    "        else:\n",
    "            print(\"k is not authentic, try again\", hex(k))"
   ]
  },
  {
   "cell_type": "code",
   "execution_count": 144,
   "metadata": {},
   "outputs": [],
   "source": [
    "A = User()\n",
    "B = User()\n",
    "\n",
    "def RSA_encrypt(m,e,n):\n",
    "    res = pow(m,e,n)\n",
    "    return res\n",
    "\n",
    "def RSA_verify(S, M, e, n):\n",
    "    res = pow(S,e,n)\n",
    "    return res == M\n"
   ]
  },
  {
   "cell_type": "code",
   "execution_count": 145,
   "metadata": {},
   "outputs": [
    {
     "name": "stdout",
     "output_type": "stream",
     "text": [
      "0x7c77ede886abef195f2792b86dd4cfe3f87511d4602d12366f0fcac172ee09472b1631ba15133ead59cf154e99744f7bbe4cf4dfd49892a10b4332170e9357fc3d59\n"
     ]
    }
   ],
   "source": [
    "print(hex(A.public_n))"
   ]
  },
  {
   "cell_type": "markdown",
   "metadata": {},
   "source": [
    "## Server Key"
   ]
  },
  {
   "cell_type": "code",
   "execution_count": 146,
   "metadata": {},
   "outputs": [],
   "source": [
    "server_key = int(\"A50E89F2E5BB9EE223D6D793584A035708E19079C9AC9D6778A97AF2E4F8D44B\", 16)\n",
    "server_e = 2**16+1"
   ]
  },
  {
   "cell_type": "markdown",
   "metadata": {},
   "source": [
    "## Encryption"
   ]
  },
  {
   "cell_type": "code",
   "execution_count": 147,
   "metadata": {},
   "outputs": [
    {
     "name": "stdout",
     "output_type": "stream",
     "text": [
      "0x7c77ede886abef195f2792b86dd4cfe3f87511d4602d12366f0fcac172ee09472b1631ba15133ead59cf154e99744f7bbe4cf4dfd49892a10b4332170e9357fc3d59\n",
      "0x10001\n",
      "0x24676dec62c0bddc092bd1f89024ec0f2a2ee0fceb7df41bc4169578b16cad1a\n"
     ]
    }
   ],
   "source": [
    "M = int(\"1234\", 16)\n",
    "print(hex(A.public_n))\n",
    "print(hex(A.public_e))\n",
    "print(hex(RSA_encrypt(M, server_e, server_key)))"
   ]
  },
  {
   "cell_type": "markdown",
   "metadata": {},
   "source": [
    "## Decryption"
   ]
  },
  {
   "cell_type": "code",
   "execution_count": 148,
   "metadata": {},
   "outputs": [
    {
     "name": "stdout",
     "output_type": "stream",
     "text": [
      "0x61aabba0e33df4e95bdb28ee2b559ec41cb4b56f948d32d3aefe9f6c8d4f6976b4c48784657bd25d1133fcb4f7dd5386eedf07548e6254349deef47c4cbec88bdcef\n"
     ]
    }
   ],
   "source": [
    "C = int(\"016912CBD39A37DD58FE1A1043D486EAF6BE\", 16)\n",
    "print(hex(A.RSA_decrypt(C)))"
   ]
  },
  {
   "cell_type": "markdown",
   "metadata": {},
   "source": [
    "## Signature"
   ]
  },
  {
   "cell_type": "code",
   "execution_count": 149,
   "metadata": {},
   "outputs": [
    {
     "name": "stdout",
     "output_type": "stream",
     "text": [
      "True\n"
     ]
    }
   ],
   "source": [
    "M = int(\"12345\", 16)\n",
    "server_S = int(\"58E8A4BF4029D91D14362C9352FADBE39B287ED108D7BC7E76A437895C4B4130\",16)\n",
    "print(RSA_verify(server_S, M, server_e, server_key))"
   ]
  },
  {
   "cell_type": "markdown",
   "metadata": {},
   "source": [
    "## Verification"
   ]
  },
  {
   "cell_type": "code",
   "execution_count": 150,
   "metadata": {},
   "outputs": [
    {
     "name": "stdout",
     "output_type": "stream",
     "text": [
      "0x5b85c85817b647fadf34fd3101dc5d3774bdafcd17979cf65a187172fdbf5348b41e80149fd1d157c3698bdac9fc8e6350fd2dc1ccffb58b675f5ebb048bdb45d204\n",
      "0x7c77ede886abef195f2792b86dd4cfe3f87511d4602d12366f0fcac172ee09472b1631ba15133ead59cf154e99744f7bbe4cf4dfd49892a10b4332170e9357fc3d59\n",
      "0x10001\n"
     ]
    }
   ],
   "source": [
    "M = int(\"12345\", 16)\n",
    "print(hex(A.RSA_sign(M)))\n",
    "print(hex(A.public_n))\n",
    "print(hex(A.public_e))"
   ]
  },
  {
   "cell_type": "markdown",
   "metadata": {},
   "source": [
    "## Send key\n"
   ]
  },
  {
   "cell_type": "code",
   "execution_count": 155,
   "metadata": {},
   "outputs": [
    {
     "name": "stdout",
     "output_type": "stream",
     "text": [
      "0x6c65000b3dc3dc4451604f007c4bb9a612b95951d2ad17744f11511213f0f53ef52711fc03fd129b7db016f26e1ddf4ce90b728102d648f6035791be8c12335eab7\n",
      "0x10001\n",
      "k is authentic,  0x28323ff8155b3a4d\n"
     ]
    }
   ],
   "source": [
    "server_key = int(\"82020B15F140019B0DC1D29AD49C3E49F20E40B528C86334877E6FBBC8C599A7\", 16)\n",
    "print(hex(A.public_n))\n",
    "print(hex(A.public_e))\n",
    "server_encrypted_key = int(\"0585244AC40EB85C5FEEA7B985282C3736393B52D79C0FCD3011F58C8E5469A7C984BE7359CABF484928EDB134D5224A1414A99FA5DFF0AF9305F599EA1E39B01645\", 16)\n",
    "server_encrypted_signature = int(\"020CE94F4FB9C991E2F263F7E595AE113F0B6FD5FC34680B97C7FFADC374B1EBECEF8C84C3947E9C48D3A13AAA7490419D3EFC8430C3E4565B4F267E1CB2C581F421\",16)\n",
    "A.Receive_Key(server_encrypted_key,server_encrypted_signature, A.public_e, server_key)"
   ]
  },
  {
   "cell_type": "markdown",
   "metadata": {},
   "source": [
    "## Recieve Key"
   ]
  },
  {
   "cell_type": "code",
   "execution_count": 152,
   "metadata": {},
   "outputs": [
    {
     "name": "stdout",
     "output_type": "stream",
     "text": [
      "Regenerating keys\n",
      "427225444340735124973392889413858760089933841370237088119032649711097469281035223310652514163229708224867230047331708141029464315927838777357751766217695968601  &&  7125059423474485796427780114108710069718823953327767324525465666096242746697807717781752420222338123161243304063446945822845567401467684540227569499079179\n",
      "Regenerating keys\n",
      "21749537016226742375351305454095702556508912389802923034129480232333154268396878118224043711339543599679351112866759229865827631696109045499855783420810039681  &&  7125059423474485796427780114108710069718823953327767324525465666096242746697807717781752420222338123161243304063446945822845567401467684540227569499079179\n",
      "Regenerating keys\n",
      "3440534774324554428483524805940501273160135305291357236840515783468302802394317931614931390492900723808153830831720975690292382104409106918607497940646769337  &&  7125059423474485796427780114108710069718823953327767324525465666096242746697807717781752420222338123161243304063446945822845567401467684540227569499079179\n",
      "Regenerating keys\n",
      "9060025044824908113256675078570349692183476363032764325660238221838268482987941965531872438777121311249752020589734468419542046745012475112618242777378155307  &&  7125059423474485796427780114108710069718823953327767324525465666096242746697807717781752420222338123161243304063446945822845567401467684540227569499079179\n",
      "Regenerating keys\n",
      "138182132716421895950514965719519244655830063997379198324554055462420268155926452324759675175971613421162033525748861898704778758716851910069898666685692237269  &&  7125059423474485796427780114108710069718823953327767324525465666096242746697807717781752420222338123161243304063446945822845567401467684540227569499079179\n",
      "Regenerating keys\n",
      "42248761954776595904869690813947674788072988377433164225150383090066080654918082165210684658077973701747964149330675976383407218167774175660454979571119821171  &&  7125059423474485796427780114108710069718823953327767324525465666096242746697807717781752420222338123161243304063446945822845567401467684540227569499079179\n",
      "Regenerating keys\n",
      "1603071482966188024497475295364690028796983428274253503651061464875420801290808074896437450762249314909977462247086339642881825197758345370122855302899289481  &&  7125059423474485796427780114108710069718823953327767324525465666096242746697807717781752420222338123161243304063446945822845567401467684540227569499079179\n",
      "Regenerating keys\n",
      "1665275359852394626417771849438921341005560680224453001180995207024364286559462714227820131233423587819774968133083784058416914539607956301223898187832626897  &&  7125059423474485796427780114108710069718823953327767324525465666096242746697807717781752420222338123161243304063446945822845567401467684540227569499079179\n",
      "Regenerating keys\n",
      "16041985139714393934397569504186557176112855298959594336651244150773543880623215287396461933334691160502188901212830656456269138394275236665486511944964609739  &&  7125059423474485796427780114108710069718823953327767324525465666096242746697807717781752420222338123161243304063446945822845567401467684540227569499079179\n",
      "Regenerating keys\n",
      "73271195504677885498672259787630668882693106654987345704349944442033076035057004038616762132693164702983455392383559220001531661569051133641297076085302947533  &&  7125059423474485796427780114108710069718823953327767324525465666096242746697807717781752420222338123161243304063446945822845567401467684540227569499079179\n",
      "Regenerating keys\n",
      "875408089785506465845393506001391670473554186754217081435893084967097147328654550404112630637194944309789189789498231270183336523260484682041284212136751431353  &&  7125059423474485796427780114108710069718823953327767324525465666096242746697807717781752420222338123161243304063446945822845567401467684540227569499079179\n",
      "Regenerating keys\n",
      "19222521718501554507381874490145933519590997890146919026876242924018546829741638717198394038183418200056798751474373545695891960494916193163746137203597725383  &&  7125059423474485796427780114108710069718823953327767324525465666096242746697807717781752420222338123161243304063446945822845567401467684540227569499079179\n",
      "Regenerating keys\n",
      "27457514006030494402418533020290557404578470495030225999912110887251542304457362161228677759902532317285462982344594677665621453601645905692311050413296372457  &&  7125059423474485796427780114108710069718823953327767324525465666096242746697807717781752420222338123161243304063446945822845567401467684540227569499079179\n",
      "Regenerating keys\n",
      "43776845956547778824776868828237552620620211977149080285013695759854123892306577736538843300303953448032785276156998764186681008408170815391951420749866606983  &&  7125059423474485796427780114108710069718823953327767324525465666096242746697807717781752420222338123161243304063446945822845567401467684540227569499079179\n",
      "Regenerating keys\n",
      "634768947970060939449513982956969966465306023673441992549937489713621162685379846555947544106406016543246934254911666491450719270675086131216476726589544042449  &&  7125059423474485796427780114108710069718823953327767324525465666096242746697807717781752420222338123161243304063446945822845567401467684540227569499079179\n",
      "Regenerating keys\n",
      "2574928165125541291096776354615346978856450385233711798183014023043173910888226160612670526021605394807294195227800926712669120739828268043462695173024628669  &&  7125059423474485796427780114108710069718823953327767324525465666096242746697807717781752420222338123161243304063446945822845567401467684540227569499079179\n",
      "Regenerating keys\n",
      "9937074073873559115460835354870922247697099664327036867099064316860602923936002093621728275399754658532887050417291824478221079770342178986509331213031255539  &&  7125059423474485796427780114108710069718823953327767324525465666096242746697807717781752420222338123161243304063446945822845567401467684540227569499079179\n",
      "Regenerating keys\n",
      "1770705475039514440138712203637106949138909070709253409166648139557753141116172654674149460756794850591910133339667554900529535127946264790532807953858958697  &&  7125059423474485796427780114108710069718823953327767324525465666096242746697807717781752420222338123161243304063446945822845567401467684540227569499079179\n",
      "Regenerating keys\n",
      "1204550846558242588335851163425808511179677564297820936803780072332949968028830948784176409203842142929063934464128616442264078998805597212763437658655022461221  &&  7125059423474485796427780114108710069718823953327767324525465666096242746697807717781752420222338123161243304063446945822845567401467684540227569499079179\n",
      "Regenerating keys\n",
      "11075069794644186429702950811378192168216014539821240189892410645286395881510933764345628784831203879066601895162090665215606963169979861075220808752149822471  &&  7125059423474485796427780114108710069718823953327767324525465666096242746697807717781752420222338123161243304063446945822845567401467684540227569499079179\n",
      "Regenerating keys\n",
      "859590278172902673525370806488092842577240762228087695163595879879023447204320576148227471526733101662699339470491281568175774807748337521621509029150418309  &&  7125059423474485796427780114108710069718823953327767324525465666096242746697807717781752420222338123161243304063446945822845567401467684540227569499079179\n",
      "Regenerating keys\n",
      "2217915768195930745608992772253104923869446835160328610764032564553506040205141766871953836842428537929723977386376346479724622601319491306772226260947463847  &&  7125059423474485796427780114108710069718823953327767324525465666096242746697807717781752420222338123161243304063446945822845567401467684540227569499079179\n",
      "Regenerating keys\n",
      "23253329034237113886290277756436717198003140586777592688462661913140451180426497654429874973463668467846197223103751384918292828244540404987634460109655370423  &&  7125059423474485796427780114108710069718823953327767324525465666096242746697807717781752420222338123161243304063446945822845567401467684540227569499079179\n"
     ]
    },
    {
     "ename": "KeyboardInterrupt",
     "evalue": "",
     "output_type": "error",
     "traceback": [
      "\u001b[1;31m---------------------------------------------------------------------------\u001b[0m",
      "\u001b[1;31mKeyboardInterrupt\u001b[0m                         Traceback (most recent call last)",
      "\u001b[1;32mc:\\Users\\dyggas\\Documents\\asymcrypto\\Asym_crypto_Pochynok_Dyggas\\lab2\\lab2.ipynb Cell 25\u001b[0m line \u001b[0;36m3\n\u001b[0;32m      <a href='vscode-notebook-cell:/c%3A/Users/dyggas/Documents/asymcrypto/Asym_crypto_Pochynok_Dyggas/lab2/lab2.ipynb#X33sZmlsZQ%3D%3D?line=0'>1</a>\u001b[0m server_key \u001b[39m=\u001b[39m \u001b[39mint\u001b[39m(\u001b[39m\"\u001b[39m\u001b[39m880A90A3D37D5349E5C2C76ABF19A6D9F9357007F7A43F4C4F1FDC8FA178144939F69ED731E68E06176184E1E6B6AB5662E8A2564965CCBB90250E955FED820B\u001b[39m\u001b[39m\"\u001b[39m, \u001b[39m16\u001b[39m)\n\u001b[0;32m      <a href='vscode-notebook-cell:/c%3A/Users/dyggas/Documents/asymcrypto/Asym_crypto_Pochynok_Dyggas/lab2/lab2.ipynb#X33sZmlsZQ%3D%3D?line=1'>2</a>\u001b[0m server_e \u001b[39m=\u001b[39m \u001b[39m2\u001b[39m\u001b[39m*\u001b[39m\u001b[39m*\u001b[39m\u001b[39m16\u001b[39m\u001b[39m+\u001b[39m\u001b[39m1\u001b[39m\n\u001b[1;32m----> <a href='vscode-notebook-cell:/c%3A/Users/dyggas/Documents/asymcrypto/Asym_crypto_Pochynok_Dyggas/lab2/lab2.ipynb#X33sZmlsZQ%3D%3D?line=2'>3</a>\u001b[0m k_1, s_1 \u001b[39m=\u001b[39m A\u001b[39m.\u001b[39;49mSend_Key(server_e, server_key)\n\u001b[0;32m      <a href='vscode-notebook-cell:/c%3A/Users/dyggas/Documents/asymcrypto/Asym_crypto_Pochynok_Dyggas/lab2/lab2.ipynb#X33sZmlsZQ%3D%3D?line=3'>4</a>\u001b[0m \u001b[39mprint\u001b[39m(\u001b[39mhex\u001b[39m(k_1))\n\u001b[0;32m      <a href='vscode-notebook-cell:/c%3A/Users/dyggas/Documents/asymcrypto/Asym_crypto_Pochynok_Dyggas/lab2/lab2.ipynb#X33sZmlsZQ%3D%3D?line=4'>5</a>\u001b[0m \u001b[39mprint\u001b[39m(\u001b[39mhex\u001b[39m(s_1))\n",
      "\u001b[1;32mc:\\Users\\dyggas\\Documents\\asymcrypto\\Asym_crypto_Pochynok_Dyggas\\lab2\\lab2.ipynb Cell 25\u001b[0m line \u001b[0;36m2\n\u001b[0;32m     <a href='vscode-notebook-cell:/c%3A/Users/dyggas/Documents/asymcrypto/Asym_crypto_Pochynok_Dyggas/lab2/lab2.ipynb#X33sZmlsZQ%3D%3D?line=25'>26</a>\u001b[0m \u001b[39mprint\u001b[39m(\u001b[39m\"\u001b[39m\u001b[39mRegenerating keys\u001b[39m\u001b[39m\"\u001b[39m)\n\u001b[0;32m     <a href='vscode-notebook-cell:/c%3A/Users/dyggas/Documents/asymcrypto/Asym_crypto_Pochynok_Dyggas/lab2/lab2.ipynb#X33sZmlsZQ%3D%3D?line=26'>27</a>\u001b[0m \u001b[39mprint\u001b[39m(\u001b[39mself\u001b[39m\u001b[39m.\u001b[39mpublic_n,\u001b[39m\"\u001b[39m\u001b[39m && \u001b[39m\u001b[39m\"\u001b[39m, n_1)\n\u001b[1;32m---> <a href='vscode-notebook-cell:/c%3A/Users/dyggas/Documents/asymcrypto/Asym_crypto_Pochynok_Dyggas/lab2/lab2.ipynb#X33sZmlsZQ%3D%3D?line=27'>28</a>\u001b[0m result \u001b[39m=\u001b[39m RSA_gen_constants()\n\u001b[0;32m     <a href='vscode-notebook-cell:/c%3A/Users/dyggas/Documents/asymcrypto/Asym_crypto_Pochynok_Dyggas/lab2/lab2.ipynb#X33sZmlsZQ%3D%3D?line=28'>29</a>\u001b[0m \u001b[39mself\u001b[39m\u001b[39m.\u001b[39m__key_pair \u001b[39m=\u001b[39m result[\u001b[39m0\u001b[39m], result[\u001b[39m1\u001b[39m]\n\u001b[0;32m     <a href='vscode-notebook-cell:/c%3A/Users/dyggas/Documents/asymcrypto/Asym_crypto_Pochynok_Dyggas/lab2/lab2.ipynb#X33sZmlsZQ%3D%3D?line=29'>30</a>\u001b[0m \u001b[39mself\u001b[39m\u001b[39m.\u001b[39mpublic_n \u001b[39m=\u001b[39m result[\u001b[39m2\u001b[39m]\n",
      "\u001b[1;32mc:\\Users\\dyggas\\Documents\\asymcrypto\\Asym_crypto_Pochynok_Dyggas\\lab2\\lab2.ipynb Cell 25\u001b[0m line \u001b[0;36m2\n\u001b[0;32m      <a href='vscode-notebook-cell:/c%3A/Users/dyggas/Documents/asymcrypto/Asym_crypto_Pochynok_Dyggas/lab2/lab2.ipynb#X33sZmlsZQ%3D%3D?line=0'>1</a>\u001b[0m \u001b[39mdef\u001b[39;00m \u001b[39mRSA_gen_constants\u001b[39m():\n\u001b[1;32m----> <a href='vscode-notebook-cell:/c%3A/Users/dyggas/Documents/asymcrypto/Asym_crypto_Pochynok_Dyggas/lab2/lab2.ipynb#X33sZmlsZQ%3D%3D?line=1'>2</a>\u001b[0m     p,q \u001b[39m=\u001b[39m generate_better_prime_numbers(\u001b[39m256\u001b[39;49m)\n\u001b[0;32m      <a href='vscode-notebook-cell:/c%3A/Users/dyggas/Documents/asymcrypto/Asym_crypto_Pochynok_Dyggas/lab2/lab2.ipynb#X33sZmlsZQ%3D%3D?line=2'>3</a>\u001b[0m     e \u001b[39m=\u001b[39m \u001b[39m2\u001b[39m\u001b[39m*\u001b[39m\u001b[39m*\u001b[39m\u001b[39m16\u001b[39m \u001b[39m+\u001b[39m \u001b[39m1\u001b[39m\n\u001b[0;32m      <a href='vscode-notebook-cell:/c%3A/Users/dyggas/Documents/asymcrypto/Asym_crypto_Pochynok_Dyggas/lab2/lab2.ipynb#X33sZmlsZQ%3D%3D?line=3'>4</a>\u001b[0m     n \u001b[39m=\u001b[39m p\u001b[39m*\u001b[39mq\n",
      "\u001b[1;32mc:\\Users\\dyggas\\Documents\\asymcrypto\\Asym_crypto_Pochynok_Dyggas\\lab2\\lab2.ipynb Cell 25\u001b[0m line \u001b[0;36m6\n\u001b[0;32m      <a href='vscode-notebook-cell:/c%3A/Users/dyggas/Documents/asymcrypto/Asym_crypto_Pochynok_Dyggas/lab2/lab2.ipynb#X33sZmlsZQ%3D%3D?line=2'>3</a>\u001b[0m q \u001b[39m=\u001b[39m bin_to_dec(generate_prime_number(n))\n\u001b[0;32m      <a href='vscode-notebook-cell:/c%3A/Users/dyggas/Documents/asymcrypto/Asym_crypto_Pochynok_Dyggas/lab2/lab2.ipynb#X33sZmlsZQ%3D%3D?line=4'>5</a>\u001b[0m i \u001b[39m=\u001b[39m \u001b[39m1\u001b[39m\n\u001b[1;32m----> <a href='vscode-notebook-cell:/c%3A/Users/dyggas/Documents/asymcrypto/Asym_crypto_Pochynok_Dyggas/lab2/lab2.ipynb#X33sZmlsZQ%3D%3D?line=5'>6</a>\u001b[0m \u001b[39mwhile\u001b[39;00m(miller_rabbin_test(\u001b[39m2\u001b[39;49m\u001b[39m*\u001b[39;49mp\u001b[39m*\u001b[39;49mi \u001b[39m+\u001b[39;49m \u001b[39m1\u001b[39;49m) \u001b[39m==\u001b[39m \u001b[39mFalse\u001b[39;00m):\n\u001b[0;32m      <a href='vscode-notebook-cell:/c%3A/Users/dyggas/Documents/asymcrypto/Asym_crypto_Pochynok_Dyggas/lab2/lab2.ipynb#X33sZmlsZQ%3D%3D?line=6'>7</a>\u001b[0m     i \u001b[39m=\u001b[39m i \u001b[39m+\u001b[39m \u001b[39m1\u001b[39m\n\u001b[0;32m      <a href='vscode-notebook-cell:/c%3A/Users/dyggas/Documents/asymcrypto/Asym_crypto_Pochynok_Dyggas/lab2/lab2.ipynb#X33sZmlsZQ%3D%3D?line=8'>9</a>\u001b[0m better_p \u001b[39m=\u001b[39m \u001b[39m2\u001b[39m\u001b[39m*\u001b[39mp\u001b[39m*\u001b[39mi \u001b[39m+\u001b[39m \u001b[39m1\u001b[39m\n",
      "\u001b[1;32mc:\\Users\\dyggas\\Documents\\asymcrypto\\Asym_crypto_Pochynok_Dyggas\\lab2\\lab2.ipynb Cell 25\u001b[0m line \u001b[0;36m1\n\u001b[0;32m     <a href='vscode-notebook-cell:/c%3A/Users/dyggas/Documents/asymcrypto/Asym_crypto_Pochynok_Dyggas/lab2/lab2.ipynb#X33sZmlsZQ%3D%3D?line=14'>15</a>\u001b[0m \u001b[39mfor\u001b[39;00m i \u001b[39min\u001b[39;00m \u001b[39mrange\u001b[39m(k):\n\u001b[0;32m     <a href='vscode-notebook-cell:/c%3A/Users/dyggas/Documents/asymcrypto/Asym_crypto_Pochynok_Dyggas/lab2/lab2.ipynb#X33sZmlsZQ%3D%3D?line=15'>16</a>\u001b[0m     a \u001b[39m=\u001b[39m rand\u001b[39m.\u001b[39mrandrange(\u001b[39m1\u001b[39m, n \u001b[39m-\u001b[39m \u001b[39m1\u001b[39m)\n\u001b[1;32m---> <a href='vscode-notebook-cell:/c%3A/Users/dyggas/Documents/asymcrypto/Asym_crypto_Pochynok_Dyggas/lab2/lab2.ipynb#X33sZmlsZQ%3D%3D?line=16'>17</a>\u001b[0m     \u001b[39mif\u001b[39;00m \u001b[39mnot\u001b[39;00m decomposing_number(n, a):\n\u001b[0;32m     <a href='vscode-notebook-cell:/c%3A/Users/dyggas/Documents/asymcrypto/Asym_crypto_Pochynok_Dyggas/lab2/lab2.ipynb#X33sZmlsZQ%3D%3D?line=17'>18</a>\u001b[0m         \u001b[39mreturn\u001b[39;00m \u001b[39mFalse\u001b[39;00m  \u001b[39m# number is composite\u001b[39;00m\n\u001b[0;32m     <a href='vscode-notebook-cell:/c%3A/Users/dyggas/Documents/asymcrypto/Asym_crypto_Pochynok_Dyggas/lab2/lab2.ipynb#X33sZmlsZQ%3D%3D?line=18'>19</a>\u001b[0m \u001b[39mreturn\u001b[39;00m \u001b[39mTrue\u001b[39;00m\n",
      "\u001b[1;32mc:\\Users\\dyggas\\Documents\\asymcrypto\\Asym_crypto_Pochynok_Dyggas\\lab2\\lab2.ipynb Cell 25\u001b[0m line \u001b[0;36m7\n\u001b[0;32m      <a href='vscode-notebook-cell:/c%3A/Users/dyggas/Documents/asymcrypto/Asym_crypto_Pochynok_Dyggas/lab2/lab2.ipynb#X33sZmlsZQ%3D%3D?line=4'>5</a>\u001b[0m \u001b[39mif\u001b[39;00m \u001b[39mpow\u001b[39m(a, exp, n) \u001b[39m==\u001b[39m \u001b[39m1\u001b[39m:\n\u001b[0;32m      <a href='vscode-notebook-cell:/c%3A/Users/dyggas/Documents/asymcrypto/Asym_crypto_Pochynok_Dyggas/lab2/lab2.ipynb#X33sZmlsZQ%3D%3D?line=5'>6</a>\u001b[0m     \u001b[39mreturn\u001b[39;00m \u001b[39mTrue\u001b[39;00m  \u001b[39m# number is composite\u001b[39;00m\n\u001b[1;32m----> <a href='vscode-notebook-cell:/c%3A/Users/dyggas/Documents/asymcrypto/Asym_crypto_Pochynok_Dyggas/lab2/lab2.ipynb#X33sZmlsZQ%3D%3D?line=6'>7</a>\u001b[0m \u001b[39mwhile\u001b[39;00m exp \u001b[39m<\u001b[39m n \u001b[39m-\u001b[39m \u001b[39m1\u001b[39m:\n\u001b[0;32m      <a href='vscode-notebook-cell:/c%3A/Users/dyggas/Documents/asymcrypto/Asym_crypto_Pochynok_Dyggas/lab2/lab2.ipynb#X33sZmlsZQ%3D%3D?line=7'>8</a>\u001b[0m     \u001b[39mif\u001b[39;00m \u001b[39mpow\u001b[39m(a, exp, n) \u001b[39m==\u001b[39m n \u001b[39m-\u001b[39m \u001b[39m1\u001b[39m:\n\u001b[0;32m      <a href='vscode-notebook-cell:/c%3A/Users/dyggas/Documents/asymcrypto/Asym_crypto_Pochynok_Dyggas/lab2/lab2.ipynb#X33sZmlsZQ%3D%3D?line=8'>9</a>\u001b[0m         \u001b[39mreturn\u001b[39;00m \u001b[39mTrue\u001b[39;00m  \u001b[39m# number is composite\u001b[39;00m\n",
      "\u001b[1;31mKeyboardInterrupt\u001b[0m: "
     ]
    }
   ],
   "source": [
    "server_key = int(\"880A90A3D37D5349E5C2C76ABF19A6D9F9357007F7A43F4C4F1FDC8FA178144939F69ED731E68E06176184E1E6B6AB5662E8A2564965CCBB90250E955FED820B\", 16)\n",
    "server_e = 2**16+1\n",
    "k_1, s_1 = A.Send_Key(server_e, server_key)\n",
    "print(hex(k_1))\n",
    "print(hex(s_1))\n",
    "print(hex(A.public_n))\n",
    "print(hex(A.public_e))"
   ]
  }
 ],
 "metadata": {
  "kernelspec": {
   "display_name": "Python 3",
   "language": "python",
   "name": "python3"
  },
  "language_info": {
   "codemirror_mode": {
    "name": "ipython",
    "version": 3
   },
   "file_extension": ".py",
   "mimetype": "text/x-python",
   "name": "python",
   "nbconvert_exporter": "python",
   "pygments_lexer": "ipython3",
   "version": "3.11.4"
  }
 },
 "nbformat": 4,
 "nbformat_minor": 2
}
