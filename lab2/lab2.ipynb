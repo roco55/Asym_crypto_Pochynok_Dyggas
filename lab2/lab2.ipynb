{
 "cells": [
  {
   "cell_type": "markdown",
   "metadata": {},
   "source": [
    "# Лабораторна робота 2 з \"Асиметричних криптосистем та протоколів\"\n",
    "## Тема: Вивчення криптосистеми RSA та алгоритму електронного підпису; ознайомлення з методами генерації параметрів для асиметричних криптосистем\n",
    "\n",
    "**Виконали**\\\n",
    "Дигас Богдан, ФІ-03\\\n",
    "Починок Юрій, ФІ-03"
   ]
  },
  {
   "cell_type": "code",
   "execution_count": 233,
   "metadata": {},
   "outputs": [],
   "source": [
    "import random\n",
    "import math\n",
    "import numpy as np\n",
    "rand = random.SystemRandom()"
   ]
  },
  {
   "cell_type": "code",
   "execution_count": 234,
   "metadata": {},
   "outputs": [],
   "source": [
    "\n",
    "def decomposing_number(n, a):\n",
    "    exp = n - 1\n",
    "    while not exp & 1:  # while exp is even\n",
    "        exp >>= 1  # divide by 2\n",
    "    if pow(a, exp, n) == 1:\n",
    "        return True  # number is composite\n",
    "    while exp < n - 1:\n",
    "        if pow(a, exp, n) == n - 1:\n",
    "            return True  # number is composite\n",
    "        exp <<= 1  # multiply by 2\n",
    "    return False  # number is probably prime\n",
    "\n",
    "\n",
    "def miller_rabbin_test(n, k=20):\n",
    "    for i in range(k):\n",
    "        a = rand.randrange(1, n - 1)\n",
    "        if not decomposing_number(n, a):\n",
    "            return False  # number is composite\n",
    "    return True  # number is probably prime\n",
    "\n",
    "def bin_to_dec(bin_n):\n",
    "    dec_n = 0\n",
    "    res = 0\n",
    "    for i in range(len(bin_n)):\n",
    "        res = bin_n[len(bin_n) - i - 1] * 2 ** i\n",
    "        dec_n += res\n",
    "    return dec_n\n"
   ]
  },
  {
   "cell_type": "code",
   "execution_count": 235,
   "metadata": {},
   "outputs": [],
   "source": [
    "def generate_bit_seq(n):\n",
    "    seq = [0]*n\n",
    "    for i in range(n):\n",
    "        seq[i] = rand.randint(0, 1)\n",
    "    return seq\n",
    "\n",
    "\n",
    "def L20(n):\n",
    "    seq = generate_bit_seq(20)\n",
    "    result = [0]*n\n",
    "    for i in range(20):\n",
    "        result[i] = seq[i]\n",
    "    for i in range(20,n):\n",
    "        result[i] = result[i-3]^result[i-5]^result[i-9]^result[i-20]\n",
    "    return result\n"
   ]
  },
  {
   "cell_type": "code",
   "execution_count": 236,
   "metadata": {},
   "outputs": [],
   "source": [
    "def generate_prime_number(x):\n",
    "    res = [1,0,0]\n",
    "    while(miller_rabbin_test(bin_to_dec(res)) == False):\n",
    "        res = L20(x)\n",
    "    return res"
   ]
  },
  {
   "cell_type": "code",
   "execution_count": 237,
   "metadata": {},
   "outputs": [
    {
     "name": "stdout",
     "output_type": "stream",
     "text": [
      "[0, 1, 1, 0, 0, 1, 1, 0, 1, 0, 0, 0, 0, 0, 0, 0, 1, 0, 0, 0, 0, 0, 1, 0, 0, 1, 1, 1, 0, 1, 0, 0, 0, 0, 0, 1, 0, 0, 0, 0, 1, 0, 1, 1, 1, 1, 0, 1, 0, 1, 0, 1, 1, 1, 1, 0, 1, 0, 0, 0, 0, 0, 0, 0, 1, 0, 0, 0, 0, 0, 0, 1, 1, 0, 0, 1, 0, 1, 1, 0, 1, 0, 1, 0, 0, 0, 1, 0, 0, 0, 0, 1, 1, 0, 1, 1, 1, 1, 0, 0, 0, 0, 0, 1, 1, 1, 1, 1, 0, 0, 0, 0, 1, 1, 0, 1, 1, 0, 0, 1, 1, 0, 0, 0, 1, 1, 1, 0, 0, 1, 1, 1, 0, 1, 1, 1, 1, 1, 1, 0, 0, 0, 0, 0, 0, 0, 0, 1, 0, 1, 0, 1, 0, 1, 1, 1, 0, 0, 0, 1, 0, 0, 0, 1, 0, 0, 1, 1, 0, 0, 1, 0, 0, 0, 1, 1, 1, 1, 1, 0, 0, 0, 1, 1, 1, 0, 1, 0, 1, 0, 1, 1, 1, 1, 0, 0, 1, 1, 0, 0, 0, 0, 1, 1, 1, 0, 1, 0, 0, 0, 1, 1, 0, 1, 1, 0, 1, 0, 1, 1, 1, 0, 1, 0, 0, 1, 1, 0, 0, 0, 0, 1, 0, 1, 1, 1, 1, 1, 1, 1, 0, 0, 0, 0, 0, 0, 0, 1, 1, 0, 1, 0, 1, 1, 1, 1]\n"
     ]
    }
   ],
   "source": [
    "res = generate_prime_number(256)\n",
    "print(res)"
   ]
  },
  {
   "cell_type": "code",
   "execution_count": 238,
   "metadata": {},
   "outputs": [],
   "source": [
    "def generate_better_prime_numbers(n):\n",
    "    p = bin_to_dec(generate_prime_number(n))\n",
    "    q = bin_to_dec(generate_prime_number(n))\n",
    "    \n",
    "    i = 1\n",
    "    while(miller_rabbin_test(2*p*i + 1) == False):\n",
    "        i = i + 1\n",
    "\n",
    "    better_p = 2*p*i + 1\n",
    "    \n",
    "    j = 1\n",
    "    while(miller_rabbin_test(2*q*j + 1) == False):\n",
    "        j = j + 1\n",
    "\n",
    "    better_q = 2*q*j + 1\n",
    "    \n",
    "    return better_p, better_q"
   ]
  },
  {
   "cell_type": "code",
   "execution_count": 239,
   "metadata": {},
   "outputs": [],
   "source": [
    "def RSA_gen_constants():\n",
    "    p,q = generate_better_prime_numbers(32)\n",
    "    e = 2**16 + 1\n",
    "    n = p*q\n",
    "    phi_n = (p-1)*(q-1)\n",
    "    d = pow(e,-1,phi_n)\n",
    "    \n",
    "    return p,q,n,e,d"
   ]
  },
  {
   "cell_type": "code",
   "execution_count": 240,
   "metadata": {},
   "outputs": [],
   "source": [
    "class User:\n",
    "    \n",
    "    __private_key = None\n",
    "    __key_pair = None\n",
    "\n",
    "    def __init__(self):\n",
    "        result = RSA_gen_constants()\n",
    "        self.__key_pair = result[0], result[1]\n",
    "        self.public_key = result[2]\n",
    "        self.public_e = result[3]\n",
    "        self.__private_key = result[4]\n",
    "        \n",
    "    \n",
    "    def RSA_decrypt(self, C):\n",
    "        res = pow(C, self.__private_key, self.public_key)\n",
    "        return res\n",
    "    \n",
    "    def RSA_sign(self, M):\n",
    "        res = pow(M, self.__private, self.public_key)\n",
    "        return res\n"
   ]
  },
  {
   "cell_type": "code",
   "execution_count": 241,
   "metadata": {},
   "outputs": [],
   "source": [
    "A = User()\n",
    "B = User()\n",
    "\n",
    "def RSA_encrypt(m,e,n):\n",
    "    res = pow(m,e,n)\n",
    "    return res\n",
    "\n",
    "def RSA_verify(S, M, e, n):\n",
    "    res = pow(S,e,n)\n",
    "    return res == M\n"
   ]
  },
  {
   "cell_type": "code",
   "execution_count": 242,
   "metadata": {},
   "outputs": [
    {
     "name": "stdout",
     "output_type": "stream",
     "text": [
      "24\n"
     ]
    }
   ],
   "source": [
    "C = RSA_encrypt(24, A.public_e, A.public_key)\n",
    "M = A.RSA_decrypt(C)\n",
    "print(M)\n"
   ]
  }
 ],
 "metadata": {
  "kernelspec": {
   "display_name": "Python 3",
   "language": "python",
   "name": "python3"
  },
  "language_info": {
   "codemirror_mode": {
    "name": "ipython",
    "version": 3
   },
   "file_extension": ".py",
   "mimetype": "text/x-python",
   "name": "python",
   "nbconvert_exporter": "python",
   "pygments_lexer": "ipython3",
   "version": "3.11.4"
  }
 },
 "nbformat": 4,
 "nbformat_minor": 2
}
