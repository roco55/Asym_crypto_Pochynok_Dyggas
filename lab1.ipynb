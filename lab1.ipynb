{
 "cells": [
  {
   "cell_type": "markdown",
   "metadata": {},
   "source": [
    "## Additional functional\n"
   ]
  },
  {
   "cell_type": "code",
   "execution_count": 654,
   "metadata": {},
   "outputs": [],
   "source": [
    "import random as rand\n",
    "import numpy as np\n"
   ]
  },
  {
   "cell_type": "code",
   "execution_count": 655,
   "metadata": {},
   "outputs": [],
   "source": [
    "def bin_to_dec(bin_n):\n",
    "    dec_n = 0\n",
    "    res = 0\n",
    "    for i in range(len(bin_n)):\n",
    "        res = bin_n[len(bin_n) - i - 1] * 2 ** i\n",
    "        dec_n += res\n",
    "    return dec_n\n",
    "\n",
    "def bin_add(a, b):\n",
    "    len_a = len(a)\n",
    "    result = [0]*32\n",
    "    carry = 0\n",
    "    for i in range(len_a):\n",
    "        result[len_a - i - 1] = a[len_a - i - 1] + b[len_a - i - 1] + carry\n",
    "        carry = int(result[len_a - i - 1] / 2)\n",
    "        result[len_a - i - 1] = result[len_a - i - 1] % 2\n",
    "    return result\n",
    "\n",
    "\n",
    "def bin_mul(a,b):\n",
    "    len_a = len(a)\n",
    "    res_add = [0]*32\n",
    "    for i in range(len_a):\n",
    "        res_mul = [0]*32\n",
    "        for j in range(len_a-i):\n",
    "            res_mul[len_a-1-i-j] = a[len_a-1-i] & b[len_a-1-j]\n",
    "        res_add = bin_add(res_add, res_mul)\n",
    "        res_add\n",
    "    return res_add\n",
    "\n",
    "def generate_bit_seq(n):\n",
    "    seq = [0]*n\n",
    "    for i in range(n):\n",
    "        seq[i] = rand.randint(0, 1)\n",
    "    return seq\n",
    "\n",
    "def bits_to_bytes(x):\n",
    "    lenght = int((len(x)+7)/8)\n",
    "    result = [0]*lenght\n",
    "    x = [str(a) for a in x]\n",
    "    for i in range(lenght):\n",
    "        result[i] = ''.join((x[8*i : 8*(i+1)]))\n",
    "    return result\n",
    "\n"
   ]
  },
  {
   "cell_type": "markdown",
   "metadata": {},
   "source": [
    "## Вбудований генератор"
   ]
  },
  {
   "cell_type": "code",
   "execution_count": 656,
   "metadata": {},
   "outputs": [
    {
     "name": "stdout",
     "output_type": "stream",
     "text": [
      "[0, 0, 1, 0, 0, 0, 0, 0, 0, 0, 1, 1, 0, 0, 0, 0, 1, 0, 1, 0, 0, 0, 0, 0, 1, 1, 1, 1, 0, 0, 0, 1, 1, 0, 0, 1, 1, 0, 0, 0, 1, 1, 1, 0, 0, 1, 1, 1, 0, 0, 0, 0, 1, 1, 1, 0, 1, 1, 0, 1, 1, 0, 1, 1, 0, 1, 1, 0, 0, 1, 0, 0, 0, 0, 0, 0, 0, 1, 1, 0, 1, 0, 1, 0, 0, 1, 0, 0, 0, 1, 0, 0, 1, 1, 0, 0, 0, 1, 0, 1, 1, 1, 0, 1, 0, 1, 1, 0, 0, 0, 1, 1, 1, 1, 0, 0, 0, 1, 0, 0, 0, 0, 1, 0, 0, 1, 0, 0, 0, 1, 1, 0, 0, 0, 0, 1, 0, 0, 1, 0, 0, 0, 1, 0, 0, 1, 0, 0, 1, 0, 0, 0, 1, 1, 0, 1, 0, 1, 0, 0, 1, 1, 0, 1, 0, 0, 1, 1, 1, 1, 1, 1, 0, 0, 0, 1, 0, 1, 1, 0, 1, 0, 1, 1, 1, 0, 0, 0, 1, 0, 0, 1, 1, 1, 0, 0, 1, 0, 1, 0, 0, 0, 0, 0, 0, 1, 1, 0, 1, 1, 0, 0, 0, 1, 0, 0, 1, 0, 1, 1, 1, 1, 0, 1, 0, 1, 1, 0, 0, 1, 1, 0, 0, 0, 1, 0, 1, 0, 1, 0, 1, 1, 0, 0, 0, 1, 1, 0, 1, 1, 1, 1, 1, 1, 1, 1, 0, 1, 1, 0, 1, 1, 0, 1, 1, 1, 1, 0, 1, 0, 0, 0, 0, 0, 0, 0, 0, 1, 0, 0, 1, 1, 0, 0, 0, 0, 0, 1, 0, 1, 1, 0, 0, 1, 1, 1, 0, 1, 0, 0, 1, 0, 0, 0, 1, 1, 0, 1, 1, 1, 1, 1, 1, 0, 1, 1, 1, 0, 1, 1, 1, 0, 0, 1, 0, 0, 0, 0, 0, 1, 0, 1, 1, 1, 0, 0, 1, 0, 0, 1, 0, 1, 1, 1, 1, 1, 0, 0, 0, 0, 1, 0, 0, 1, 0, 0, 1, 1, 0, 0, 1, 1, 0, 1, 1, 0, 0, 0, 1, 0, 0, 1, 1, 0, 0, 0, 1, 0, 1, 0, 1, 1, 1, 1, 1, 1, 0, 1, 1, 1, 0, 0, 1, 1, 1, 1, 0, 1, 1, 0, 1, 1, 1, 0, 0, 0, 1, 1, 0, 0, 1, 0, 1, 0, 1, 0, 0, 0, 1, 1, 1, 1, 0, 0, 1, 1, 1, 0, 0, 0, 0, 0, 0, 0, 0, 0, 0, 0, 1, 1, 1, 1, 0, 0, 0, 0, 0, 1, 0, 1, 0, 0, 1, 1, 1, 0, 0, 1, 0, 0, 0, 1, 1, 1, 0, 1, 0, 1, 1, 1, 1, 0, 0, 0, 0, 1, 0, 0, 1, 1, 1, 0, 1, 0, 0, 1, 0, 1, 0, 0, 1, 0, 1, 1, 1, 0, 0, 1, 1, 1, 0, 0, 0, 0, 0, 0, 1, 1, 0, 0, 0, 0, 0, 0, 1, 0, 1, 1, 0, 1, 0, 0, 0, 0, 0, 1, 0, 1, 1, 1, 0, 0, 0, 0, 1, 0, 0, 1, 1, 0, 1, 0, 0, 0, 0, 0, 1, 0, 0, 0, 0, 0, 0, 0, 1, 0, 0, 0, 1, 0, 1, 1, 0, 1, 1, 0, 1, 0, 0, 1, 1, 1, 1, 1, 1, 0, 1, 0, 1, 1, 1, 0, 1, 0, 1, 1, 1, 1, 0, 1, 1, 1, 1, 1, 0, 0, 0, 1, 0, 0, 0, 1, 1, 1, 0, 1, 1, 0, 1, 0, 1, 0, 1, 1, 0, 0, 0, 0, 0, 0, 1, 0, 1, 0, 0, 0, 1, 0, 0, 0, 1, 0, 0, 0, 1, 1, 1, 0, 0, 1, 1, 0, 0, 0, 1, 1, 1, 1, 1, 1, 1, 1, 1, 0, 1, 1, 0, 1, 1, 0, 0, 0, 0, 0, 1, 0, 0, 1, 1, 1, 1, 0, 1, 1, 0, 1, 0, 0, 0, 1, 0, 1, 0, 0, 0, 0, 0, 0, 0, 0, 0, 1, 0, 1, 0, 0, 0, 1, 0, 1, 1, 0, 0, 1, 1, 1, 0, 0, 0, 1, 0, 1, 0, 0, 0, 1, 0, 1, 0, 1, 1, 0, 1, 1, 0, 0, 1, 1, 0, 0, 0, 0, 1, 1, 1, 1, 0, 1, 1, 1, 0, 0, 1, 1, 0, 1, 1, 1, 1, 1, 1, 0, 0, 0, 1, 1, 0, 0, 0, 1, 0, 1, 1, 1, 0, 0, 1, 1, 0, 0, 0, 1, 0, 1, 0, 0, 1, 1, 1, 0, 1, 0, 1, 1, 1, 1, 0, 1, 1, 0, 1, 1, 0, 1, 0, 1, 0, 0, 1, 1, 0, 0, 0, 0, 0, 0, 0, 0, 0, 1, 1, 1, 0, 1, 1, 0, 0, 0, 1, 1, 1, 0, 0, 1, 0, 0, 1, 1, 0, 1, 0, 0, 0, 1, 0, 0, 0, 0, 1, 0, 0, 1, 0, 1, 0, 0, 1, 0, 1, 1, 0, 1, 1, 0, 0, 1, 0, 0, 1, 1, 0, 1, 1, 1, 0, 1, 0, 1, 0, 0, 0, 0, 1, 0, 0, 0, 0, 0, 0, 1, 0, 1, 1, 0, 1, 0, 0, 0, 0, 1, 0, 1, 0, 0, 1, 1, 1, 1, 0, 0, 1, 0, 1, 0, 0, 1, 0, 0, 0, 1, 1, 1, 1, 0, 1, 0, 1, 1, 1, 1, 0, 0, 1, 1, 1, 0, 0, 1, 1, 1, 1, 1, 1, 1, 1, 0, 1, 1, 0, 0, 1, 1, 0, 0, 1, 1, 1, 0, 1, 0, 1, 1, 1, 1, 1, 0, 0, 0, 0, 0, 0, 1, 0, 1, 1, 1, 1, 0, 0, 0, 1, 1, 0, 1, 0, 1, 0, 0, 1, 1, 1, 0, 0, 0, 1, 0, 1, 0, 0, 1, 1, 1, 0, 1, 0, 0, 1, 1, 1, 0]\n"
     ]
    }
   ],
   "source": [
    "def build_in_randomizer(n):\n",
    "    return(generate_bit_seq(n))\n",
    "print(build_in_randomizer(1000))"
   ]
  },
  {
   "cell_type": "markdown",
   "metadata": {},
   "source": [
    "## Lehmer low/high\n",
    "\n"
   ]
  },
  {
   "cell_type": "code",
   "execution_count": 657,
   "metadata": {},
   "outputs": [
    {
     "name": "stdout",
     "output_type": "stream",
     "text": [
      "131073\n",
      "32\n",
      "[0, 0, 0, 0, 0, 0, 0, 0, 0, 0, 0, 0, 0, 0, 0, 1, 0, 0, 0, 0, 0, 0, 0, 0, 0, 0, 0, 0, 0, 0, 0, 1]\n"
     ]
    }
   ],
   "source": [
    "#constants\n",
    "a = [0, 0, 0, 0, 0, 0, 0, 0, 0, 0, 0, 0, 0, 0, 0, 1, 0, 0, 0, 0, 0, 0, 0, 0, 0, 0, 0, 0, 0, 0, 0, 1]\n",
    "c = [0, 0, 0, 0, 0, 0, 0, 0, 0, 0, 0, 0, 0, 0, 0, 0, 0, 0, 0, 0, 0, 0, 0, 0, 0, 1, 1, 1, 0, 1, 1, 1]\n",
    "m = [1, 0, 0, 0, 0, 0, 0, 0, 0, 0, 0, 0, 0, 0, 0, 0, 0, 0, 0, 0, 0, 0, 0, 0, 0, 0, 0, 0, 0, 0, 0, 0, 0]\n",
    "print(bin_to_dec(bin_mul(a,a)))\n",
    "print(len(a))\n",
    "print(a)"
   ]
  },
  {
   "cell_type": "code",
   "execution_count": 658,
   "metadata": {},
   "outputs": [],
   "source": [
    "def lehmer_low(x0,n):\n",
    "    res = [0]*8\n",
    "    for i in range(n):\n",
    "        x0 = bin_add((bin_mul(a,x0)),c)\n",
    "    len = 8\n",
    "    for j in range(len):\n",
    "        res[len-1-j] = x0[32-len+j]\n",
    "    return res\n",
    "\n",
    "def lehmer_high(x0,n):\n",
    "    res = [0]*8\n",
    "    for i in range(n):\n",
    "        x0 = bin_add((bin_mul(a,x0)),c)\n",
    "    len = 8\n",
    "    for j in range(len):\n",
    "        res[j] = x0[j]\n",
    "    return res\n"
   ]
  },
  {
   "cell_type": "markdown",
   "metadata": {},
   "source": [
    "## define $x_0$ , n"
   ]
  },
  {
   "cell_type": "code",
   "execution_count": 659,
   "metadata": {},
   "outputs": [
    {
     "name": "stdout",
     "output_type": "stream",
     "text": [
      "[0, 0, 0, 1, 1, 1, 1, 0]\n",
      "[0, 0, 0, 0, 0, 0, 0, 0]\n"
     ]
    }
   ],
   "source": [
    "x0 = [0, 0, 0, 0, 0, 0, 0, 0, 0, 0, 0, 0, 0, 0, 0, 0, 0, 0, 0, 0, 0, 0, 0, 0, 0, 0, 0, 0, 0, 0, 0, 1]\n",
    "n=1\n",
    "print(lehmer_low(x0,n))\n",
    "print(lehmer_high(x0,n))"
   ]
  },
  {
   "cell_type": "markdown",
   "metadata": {},
   "source": [
    "## L20\n"
   ]
  },
  {
   "cell_type": "code",
   "execution_count": 660,
   "metadata": {},
   "outputs": [],
   "source": [
    "def L20(n):\n",
    "    seq = generate_bit_seq(20)\n",
    "    result = [0]*n\n",
    "    for i in range(20):\n",
    "        result[i] = seq[i]\n",
    "    for i in range(20,n):\n",
    "        result[i] = result[i-3]^result[i-5]^result[i-9]^result[i-20]\n",
    "    return result"
   ]
  },
  {
   "cell_type": "markdown",
   "metadata": {},
   "source": [
    "## L89"
   ]
  },
  {
   "cell_type": "code",
   "execution_count": 661,
   "metadata": {},
   "outputs": [],
   "source": [
    "def L89(n):\n",
    "    seq = generate_bit_seq(89)\n",
    "    result = [0]*n\n",
    "    for i in range(89):\n",
    "        result[i] = seq[i]\n",
    "    for i in range(89,n):\n",
    "        result[i] = result[i-38]^result[i-89]\n",
    "    return result"
   ]
  },
  {
   "cell_type": "markdown",
   "metadata": {},
   "source": []
  },
  {
   "cell_type": "markdown",
   "metadata": {},
   "source": [
    "## Geffe"
   ]
  },
  {
   "cell_type": "code",
   "execution_count": 662,
   "metadata": {},
   "outputs": [],
   "source": [
    "def L11(n):\n",
    "    seq = generate_bit_seq(11)\n",
    "    result = [0]*n\n",
    "    for i in range(11):\n",
    "        result[i] = seq[i]\n",
    "    for i in range(11,n):\n",
    "        result[i] = result[i-11]^result[i-9]\n",
    "    return result\n",
    "\n",
    "def L9(n):\n",
    "    seq = generate_bit_seq(9)\n",
    "    result = [0]*n\n",
    "    for i in range(9):\n",
    "        result[i] = seq[i]\n",
    "    for i in range(9,n):\n",
    "        result[i] = result[i-9]^result[i-8]^result[i-6]^result[i-5]\n",
    "    return result\n",
    "\n",
    "def L10(n):\n",
    "    seq = generate_bit_seq(10)\n",
    "    result = [0]*n\n",
    "    for i in range(10):\n",
    "        result[i] = seq[i]\n",
    "    for i in range(10,n):\n",
    "        result[i] = result[i-10]^result[i-7]\n",
    "    return result\n",
    "\n",
    "def geffe(n):\n",
    "    result = [0]*n\n",
    "    x = L11(n)\n",
    "    y = L9(n)\n",
    "    s = L10(n)\n",
    "    for i in range(n):\n",
    "        result[i]=s[i]&x[i]^(1^s[i])&y[i]\n",
    "    return result\n"
   ]
  },
  {
   "cell_type": "markdown",
   "metadata": {},
   "source": [
    "## Бібліотекар"
   ]
  },
  {
   "cell_type": "code",
   "execution_count": 663,
   "metadata": {},
   "outputs": [],
   "source": [
    "import io\n",
    "\n",
    "def Librarian(n):\n",
    "    file = io.open(\"long_book.txt\", mode='r', encoding='utf-8')\n",
    "    text = file.read()\n",
    "    \n",
    "    max_bytes = len(text)\n",
    "    if n > max_bytes:\n",
    "        print(\"Sorry, the maximum bytes here is: \", max_bytes, \", please try again.\")\n",
    "        return 1\n",
    "    \n",
    "    result = [0]*n\n",
    "    for i in range(n):\n",
    "        result[i] = f'{(ord(text[i]) % 256):08b}'\n",
    "        \n",
    "    return result"
   ]
  },
  {
   "cell_type": "markdown",
   "metadata": {},
   "source": [
    "## Вольфрам"
   ]
  },
  {
   "cell_type": "code",
   "execution_count": 664,
   "metadata": {},
   "outputs": [],
   "source": [
    "import numpy as np\n",
    "\n",
    "def cycle_shift_l(n, n_bits, shift):\n",
    "    shift = shift % n_bits\n",
    "    return (n << shift) | (n >> (n_bits - shift))\n",
    "\n",
    "def cycle_shift_r(n, n_bits, shift):\n",
    "    shift = shift % n_bits\n",
    "    return (n >> shift) | (n << (n_bits - shift))\n",
    "\n",
    "    \n",
    "\n",
    "def Wolfram(n):\n",
    "    r = np.uint32(rand.randint(0, 2**32-1))\n",
    "    result = [0]*n\n",
    "\n",
    "    for i in range(n):\n",
    "        result[i] = r % 2\n",
    "        r = cycle_shift_l(r, 32, 1) ^ (r | cycle_shift_r(r, 32, 1))\n",
    "    return result\n"
   ]
  },
  {
   "cell_type": "markdown",
   "metadata": {},
   "source": [
    "## BM"
   ]
  },
  {
   "cell_type": "code",
   "execution_count": 665,
   "metadata": {},
   "outputs": [],
   "source": [
    "p1 = int(\"CEA42B987C44FA642D80AD9F51F10457690DEF10C83D0BC1BCEE12FC3B6093E3\",16)\n",
    "a1 = int(\"5B88C41246790891C095E2878880342E88C79974303BD0400B090FE38A688356\",16)\n",
    "q1 = \"675215CC3E227D3216C056CFA8F8822BB486F788641E85E0DE77097E1DB049F1\"\n",
    "\n",
    "def BM(n):\n",
    "    comparing_number = (p1-1)/2\n",
    "    t = rand.randrange(0,a1-1)\n",
    "    result = [0]*n\n",
    "    for i in range(n):\n",
    "        t = pow(a1,t,p1)\n",
    "        if(t<comparing_number):\n",
    "            result[i]=1\n",
    "    return result"
   ]
  },
  {
   "cell_type": "markdown",
   "metadata": {},
   "source": [
    "## BM bytes"
   ]
  },
  {
   "cell_type": "code",
   "execution_count": 666,
   "metadata": {},
   "outputs": [],
   "source": [
    "p1 = int(\"CEA42B987C44FA642D80AD9F51F10457690DEF10C83D0BC1BCEE12FC3B6093E3\",16)\n",
    "a1 = int(\"5B88C41246790891C095E2878880342E88C79974303BD0400B090FE38A688356\",16)\n",
    "q1 = \"675215CC3E227D3216C056CFA8F8822BB486F788641E85E0DE77097E1DB049F1\"\n",
    "\n",
    "def BM_bytes(n):\n",
    "    t = rand.randrange(0,a1-1)\n",
    "    result = [0]*n \n",
    "    for i in range(n):\n",
    "        t = pow(a1,t,p1)\n",
    "        result[i]=f'{(t*256 //(p1-1)):08b}'\n",
    "    return result"
   ]
  },
  {
   "cell_type": "markdown",
   "metadata": {},
   "source": [
    "## BBS"
   ]
  },
  {
   "cell_type": "code",
   "execution_count": 667,
   "metadata": {},
   "outputs": [],
   "source": [
    "p2 = int(\"D5BBB96D30086EC484EBA3D7F9CAEB07\",16)\n",
    "q2 = int(\"425D2B9BFDB25B9CF6C416CC6E37B59C1F\",16)\n",
    "n2 = p2*q2\n",
    "def bbs(n):\n",
    "    r = int(rand.randrange(2,n2))\n",
    "    result = [0]*n\n",
    "    for i in range(n):\n",
    "        r = pow(r,2,n2)\n",
    "        result[i] = r%2\n",
    "    return result\n"
   ]
  },
  {
   "cell_type": "markdown",
   "metadata": {},
   "source": [
    "## BBS bytes"
   ]
  },
  {
   "cell_type": "code",
   "execution_count": 668,
   "metadata": {},
   "outputs": [],
   "source": [
    "p3 = int(\"D5BBB96D30086EC484EBA3D7F9CAEB07\",16)\n",
    "q3 = int(\"425D2B9BFDB25B9CF6C416CC6E37B59C1F\",16)\n",
    "n3 = p3*q3\n",
    "def bbs_bytes(n):\n",
    "    r = int(rand.randrange(2,n3))\n",
    "    result = [0]*n\n",
    "    for i in range(n):\n",
    "        r = pow(r,2,n3)\n",
    "        result[i] = f'{(r%256):08b}'\n",
    "    return result"
   ]
  },
  {
   "cell_type": "markdown",
   "metadata": {},
   "source": [
    "## Analysis\n"
   ]
  },
  {
   "cell_type": "code",
   "execution_count": 669,
   "metadata": {},
   "outputs": [],
   "source": [
    "#Критерій перевірки рівноімовірності знаків\n",
    "\n",
    "def test1(x):\n",
    "    freq = {}\n",
    "    for i in x:\n",
    "        if i in freq:\n",
    "            freq[i] += 1\n",
    "        else:\n",
    "            freq[i] = 1\n",
    "\n",
    "    lenght = len(x)/len(freq)\n",
    "    print(lenght)\n",
    "\n",
    "    xi = 0\n",
    "    for i in freq:\n",
    "        xi = xi + (freq[i]-lenght)**2/lenght\n",
    "    #use scipy\n",
    "    #return true/false\n",
    "    return xi\n"
   ]
  },
  {
   "cell_type": "code",
   "execution_count": 670,
   "metadata": {},
   "outputs": [],
   "source": [
    "#Критерій перевірки незалежності знаків\n",
    "def test2(x):\n",
    "    pairs = np.zeros((2**8, 2**8), dtype=int)\n",
    "    sum = 0\n",
    "    for i in range(0, len(x), 2):\n",
    "        pairs[int(x[i],2)][int(x[i+1],2)] = pairs[int(x[i],2)][int(x[i+1],2)] + 1\n",
    "    for i in range(2**8):\n",
    "        for j in range(2**8):\n",
    "            dilnuk = np.sum(pairs[i,:])*np.sum(pairs[:,j])\n",
    "            if dilnuk != 0:\n",
    "                sum += (pairs[i,j]**2)/dilnuk\n",
    "    xi = (len(x)/2)*(sum-1)\n",
    "\n",
    "    #use scipy\n",
    "    #return true/false\n",
    "    return xi\n",
    "\n",
    "\n"
   ]
  },
  {
   "cell_type": "code",
   "execution_count": 671,
   "metadata": {},
   "outputs": [],
   "source": [
    "#Критерій перевірки однорідності двійкової послідовності\n",
    "def test3(x):\n",
    "    sum = 0   \n",
    "    r = 128\n",
    "    pairs = np.zeros((2**8, r), dtype=int)\n",
    "    #розбиття на інтервали\n",
    "    for j in range(0, r):\n",
    "        for i in range(0, len(x) // r):\n",
    "            c = int(x[r*j + i],2)\n",
    "            pairs[c, j] += 1\n",
    "    #хі квадрат\n",
    "    for i in range(2**8):\n",
    "        for j in range(r):\n",
    "            dilnuk = np.sum(pairs[i,:])*np.sum(pairs[:,j])\n",
    "            if dilnuk != 0:\n",
    "                sum += (pairs[i,j]**2)/dilnuk\n",
    "    xi = (len(x))*(sum-1)\n",
    "    #use scipy\n",
    "    #return true/false\n",
    "    return xi\n"
   ]
  }
 ],
 "metadata": {
  "kernelspec": {
   "display_name": "Python 3",
   "language": "python",
   "name": "python3"
  },
  "language_info": {
   "codemirror_mode": {
    "name": "ipython",
    "version": 3
   },
   "file_extension": ".py",
   "mimetype": "text/x-python",
   "name": "python",
   "nbconvert_exporter": "python",
   "pygments_lexer": "ipython3",
   "version": "3.10.10"
  },
  "orig_nbformat": 4
 },
 "nbformat": 4,
 "nbformat_minor": 2
}
