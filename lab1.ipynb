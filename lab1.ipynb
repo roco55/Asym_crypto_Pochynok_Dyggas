{
 "cells": [
  {
   "cell_type": "markdown",
   "metadata": {},
   "source": [
    "## Additional functional\n"
   ]
  },
  {
   "cell_type": "code",
   "execution_count": 46,
   "metadata": {},
   "outputs": [],
   "source": [
    "import random as rand"
   ]
  },
  {
   "cell_type": "code",
   "execution_count": 47,
   "metadata": {},
   "outputs": [],
   "source": [
    "def bin_to_dec(bin_n):\n",
    "    dec_n = 0\n",
    "    res = 0\n",
    "    for i in range(len(bin_n)):\n",
    "        res = bin_n[len(bin_n) - i - 1] * 2 ** i\n",
    "        dec_n += res\n",
    "    return dec_n\n",
    "\n",
    "def bin_add(a, b):\n",
    "    len_a = len(a)\n",
    "    result = [0]*32\n",
    "    carry = 0\n",
    "    for i in range(len_a):\n",
    "        result[len_a - i - 1] = a[len_a - i - 1] + b[len_a - i - 1] + carry\n",
    "        carry = int(result[len_a - i - 1] / 2)\n",
    "        result[len_a - i - 1] = result[len_a - i - 1] % 2\n",
    "    return result\n",
    "\n",
    "\n",
    "def bin_mul(a,b):\n",
    "    len_a = len(a)\n",
    "    res_add = [0]*32\n",
    "    for i in range(len_a):\n",
    "        res_mul = [0]*32\n",
    "        for j in range(len_a-i):\n",
    "            res_mul[len_a-1-i-j] = a[len_a-1-i] & b[len_a-1-j]\n",
    "        res_add = bin_add(res_add, res_mul)\n",
    "        res_add\n",
    "    return res_add\n",
    "\n",
    "def generate_bit_seq(n):\n",
    "    seq = [0]*n\n",
    "    for i in range(n):\n",
    "        seq[i] = rand.randint(0, 1)\n",
    "    return seq"
   ]
  },
  {
   "cell_type": "code",
   "execution_count": null,
   "metadata": {},
   "outputs": [],
   "source": []
  },
  {
   "cell_type": "markdown",
   "metadata": {},
   "source": [
    "## Lehmer low/high\n",
    "\n"
   ]
  },
  {
   "cell_type": "code",
   "execution_count": 48,
   "metadata": {},
   "outputs": [
    {
     "name": "stdout",
     "output_type": "stream",
     "text": [
      "131073\n",
      "32\n",
      "[0, 0, 0, 0, 0, 0, 0, 0, 0, 0, 0, 0, 0, 0, 0, 1, 0, 0, 0, 0, 0, 0, 0, 0, 0, 0, 0, 0, 0, 0, 0, 1]\n"
     ]
    }
   ],
   "source": [
    "#constants\n",
    "a = [0, 0, 0, 0, 0, 0, 0, 0, 0, 0, 0, 0, 0, 0, 0, 1, 0, 0, 0, 0, 0, 0, 0, 0, 0, 0, 0, 0, 0, 0, 0, 1]\n",
    "c = [0, 0, 0, 0, 0, 0, 0, 0, 0, 0, 0, 0, 0, 0, 0, 0, 0, 0, 0, 0, 0, 0, 0, 0, 0, 1, 1, 1, 0, 1, 1, 1]\n",
    "m = [1, 0, 0, 0, 0, 0, 0, 0, 0, 0, 0, 0, 0, 0, 0, 0, 0, 0, 0, 0, 0, 0, 0, 0, 0, 0, 0, 0, 0, 0, 0, 0, 0]\n",
    "print(bin_to_dec(bin_mul(a,a)))\n",
    "print(len(a))\n",
    "print(a)"
   ]
  },
  {
   "cell_type": "code",
   "execution_count": 49,
   "metadata": {},
   "outputs": [],
   "source": [
    "def lehmer_low(x0,n):\n",
    "    res = [0]*8\n",
    "    for i in range(n):\n",
    "        x0 = bin_add((bin_mul(a,x0)),c)\n",
    "    len = 8\n",
    "    for j in range(len):\n",
    "        res[len-1-j] = x0[32-len+j]\n",
    "    return res\n",
    "\n",
    "def lehmer_high(x0,n):\n",
    "    res = [0]*8\n",
    "    for i in range(n):\n",
    "        x0 = bin_add((bin_mul(a,x0)),c)\n",
    "    len = 8\n",
    "    for j in range(len):\n",
    "        res[j] = x0[j]\n",
    "    return res\n"
   ]
  },
  {
   "cell_type": "markdown",
   "metadata": {},
   "source": [
    "## define $x_0$ , n"
   ]
  },
  {
   "cell_type": "code",
   "execution_count": 50,
   "metadata": {},
   "outputs": [
    {
     "name": "stdout",
     "output_type": "stream",
     "text": [
      "[0, 0, 0, 1, 1, 1, 1, 0]\n",
      "[0, 0, 0, 0, 0, 0, 0, 0]\n"
     ]
    }
   ],
   "source": [
    "x0 = [0, 0, 0, 0, 0, 0, 0, 0, 0, 0, 0, 0, 0, 0, 0, 0, 0, 0, 0, 0, 0, 0, 0, 0, 0, 0, 0, 0, 0, 0, 0, 1]\n",
    "n=1\n",
    "print(lehmer_low(x0,n))\n",
    "print(lehmer_high(x0,n))"
   ]
  },
  {
   "cell_type": "code",
   "execution_count": null,
   "metadata": {},
   "outputs": [],
   "source": []
  },
  {
   "cell_type": "markdown",
   "metadata": {},
   "source": [
    "## L20\n"
   ]
  },
  {
   "cell_type": "code",
   "execution_count": 51,
   "metadata": {},
   "outputs": [],
   "source": [
    "def L20(n):\n",
    "    seq = generate_bit_seq(20)\n",
    "    result = [0]*n\n",
    "    for i in range(20):\n",
    "        result[i] = seq[i]\n",
    "    for i in range(20,n):\n",
    "        result[i] = result[i-3]^result[i-5]^result[i-9]^result[i-20]\n",
    "    return result"
   ]
  },
  {
   "cell_type": "markdown",
   "metadata": {},
   "source": [
    "## L89"
   ]
  },
  {
   "cell_type": "code",
   "execution_count": 52,
   "metadata": {},
   "outputs": [],
   "source": [
    "def L89(n):\n",
    "    seq = generate_bit_seq(89)\n",
    "    result = [0]*n\n",
    "    for i in range(89):\n",
    "        result[i] = seq[i]\n",
    "    for i in range(89,n):\n",
    "        result[i] = result[i-38]^result[i-89]\n",
    "    return result"
   ]
  },
  {
   "cell_type": "markdown",
   "metadata": {},
   "source": []
  },
  {
   "cell_type": "markdown",
   "metadata": {},
   "source": [
    "## Geffe"
   ]
  },
  {
   "cell_type": "code",
   "execution_count": 53,
   "metadata": {},
   "outputs": [],
   "source": [
    "def L11(n):\n",
    "    seq = generate_bit_seq(11)\n",
    "    result = [0]*n\n",
    "    for i in range(11):\n",
    "        result[i] = seq[i]\n",
    "    for i in range(11,n):\n",
    "        result[i] = result[i-11]^result[i-9]\n",
    "    return result\n",
    "\n",
    "def L9(n):\n",
    "    seq = generate_bit_seq(9)\n",
    "    result = [0]*n\n",
    "    for i in range(9):\n",
    "        result[i] = seq[i]\n",
    "    for i in range(9,n):\n",
    "        result[i] = result[i-9]^result[i-8]^result[i-6]^result[i-5]\n",
    "    return result\n",
    "\n",
    "def L10(n):\n",
    "    seq = generate_bit_seq(10)\n",
    "    result = [0]*n\n",
    "    for i in range(10):\n",
    "        result[i] = seq[i]\n",
    "    for i in range(10,n):\n",
    "        result[i] = result[i-10]^result[i-7]\n",
    "    return result\n",
    "\n",
    "def geffe(n):\n",
    "    result = [0]*n\n",
    "    x = L11(n)\n",
    "    y = L9(n)\n",
    "    s = L10(n)\n",
    "    for i in range(n):\n",
    "        result[i]=s[i]&x[i]^(1^s[i])&y[i]\n",
    "    return result\n"
   ]
  },
  {
   "cell_type": "markdown",
   "metadata": {},
   "source": [
    "## Бібліотекар"
   ]
  },
  {
   "cell_type": "code",
   "execution_count": null,
   "metadata": {},
   "outputs": [],
   "source": []
  },
  {
   "cell_type": "markdown",
   "metadata": {},
   "source": [
    "## Вольфрам"
   ]
  },
  {
   "cell_type": "code",
   "execution_count": 76,
   "metadata": {},
   "outputs": [
    {
     "name": "stdout",
     "output_type": "stream",
     "text": [
      "34\n"
     ]
    }
   ],
   "source": [
    "import numpy as np\n",
    "\n",
    "def cycle_shift_l(n, n_bits, shift):\n",
    "    shift = shift % n_bits\n",
    "    return (n << shift) | (n >> (n_bits - shift))\n",
    "\n",
    "def cycle_shift_r(n, n_bits, shift):\n",
    "    shift = shift % n_bits\n",
    "    return (n >> shift) | (n << (n_bits - shift))\n",
    "\n",
    "    \n",
    "\n",
    "def Wolfram(n):\n",
    "    r = np.uint32(rand.randint(0, 2**32-1))\n",
    "    result = [0]*n\n",
    "\n",
    "    for i in range(n):\n",
    "        result[i] = r % 2\n",
    "        r = cycle_shift_l(r, 32, 1) ^ (r | cycle_shift_r(r, 32, 1))\n",
    "    return result\n"
   ]
  },
  {
   "cell_type": "markdown",
   "metadata": {},
   "source": [
    "## BM"
   ]
  },
  {
   "cell_type": "code",
   "execution_count": 55,
   "metadata": {},
   "outputs": [],
   "source": [
    "p1 = int(\"CEA42B987C44FA642D80AD9F51F10457690DEF10C83D0BC1BCEE12FC3B6093E3\",16)\n",
    "a1 = int(\"5B88C41246790891C095E2878880342E88C79974303BD0400B090FE38A688356\",16)\n",
    "q1 = \"675215CC3E227D3216C056CFA8F8822BB486F788641E85E0DE77097E1DB049F1\"\n",
    "\n",
    "def BM(n):\n",
    "    comparing_number = (p1-1)/2\n",
    "    t = rand.randrange(0,a1-1)\n",
    "    result = [0]*n\n",
    "    for i in range(n):\n",
    "        t = pow(a1,t,p1)\n",
    "        if(t<comparing_number):\n",
    "            result[i]=1\n",
    "    return result"
   ]
  },
  {
   "cell_type": "markdown",
   "metadata": {},
   "source": [
    "## BM bytes"
   ]
  },
  {
   "cell_type": "code",
   "execution_count": 56,
   "metadata": {},
   "outputs": [],
   "source": [
    "p1 = int(\"CEA42B987C44FA642D80AD9F51F10457690DEF10C83D0BC1BCEE12FC3B6093E3\",16)\n",
    "a1 = int(\"5B88C41246790891C095E2878880342E88C79974303BD0400B090FE38A688356\",16)\n",
    "q1 = \"675215CC3E227D3216C056CFA8F8822BB486F788641E85E0DE77097E1DB049F1\"\n",
    "\n",
    "def BM_bytes(n):\n",
    "    t = rand.randrange(0,a1-1)\n",
    "    result = [0]*n \n",
    "    for i in range(n):\n",
    "        t = pow(a1,t,p1)\n",
    "        result[i]=f'{(t*256 //(p1-1)):08b}'\n",
    "    return result"
   ]
  },
  {
   "cell_type": "markdown",
   "metadata": {},
   "source": [
    "## BBS"
   ]
  },
  {
   "cell_type": "code",
   "execution_count": 57,
   "metadata": {},
   "outputs": [],
   "source": [
    "p2 = int(\"D5BBB96D30086EC484EBA3D7F9CAEB07\",16)\n",
    "q2 = int(\"425D2B9BFDB25B9CF6C416CC6E37B59C1F\",16)\n",
    "n2 = p2*q2\n",
    "def bbs(n):\n",
    "    r = int(rand.randrange(2,n2))\n",
    "    result = [0]*n\n",
    "    for i in range(n):\n",
    "        r = pow(r,2,n2)\n",
    "        result[i] = r%2\n",
    "    return result\n"
   ]
  },
  {
   "cell_type": "markdown",
   "metadata": {},
   "source": [
    "## BBS bytes"
   ]
  },
  {
   "cell_type": "code",
   "execution_count": 58,
   "metadata": {},
   "outputs": [],
   "source": [
    "p3 = int(\"D5BBB96D30086EC484EBA3D7F9CAEB07\",16)\n",
    "q3 = int(\"425D2B9BFDB25B9CF6C416CC6E37B59C1F\",16)\n",
    "n3 = p3*q3\n",
    "def bbs(n):\n",
    "    r = int(rand.randrange(2,n3))\n",
    "    result = [0]*n\n",
    "    for i in range(n):\n",
    "        r = pow(r,2,n3)\n",
    "        result[i] = f'{(r%256):08b}'\n",
    "    return result"
   ]
  }
 ],
 "metadata": {
  "kernelspec": {
   "display_name": "Python 3",
   "language": "python",
   "name": "python3"
  },
  "language_info": {
   "codemirror_mode": {
    "name": "ipython",
    "version": 3
   },
   "file_extension": ".py",
   "mimetype": "text/x-python",
   "name": "python",
   "nbconvert_exporter": "python",
   "pygments_lexer": "ipython3",
   "version": "3.11.4"
  },
  "orig_nbformat": 4
 },
 "nbformat": 4,
 "nbformat_minor": 2
}
