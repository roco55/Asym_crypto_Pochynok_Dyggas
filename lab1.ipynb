{
 "cells": [
  {
   "cell_type": "markdown",
   "metadata": {},
   "source": [
    "## Additional functional\n"
   ]
  },
  {
   "cell_type": "code",
   "execution_count": 238,
   "metadata": {},
   "outputs": [],
   "source": [
    "def bin_to_dec(bin_n):\n",
    "    dec_n = 0\n",
    "    res = 0\n",
    "    for i in range(len(bin_n)):\n",
    "        res = bin_n[len(bin_n) - i - 1] * 2 ** i\n",
    "        dec_n += res\n",
    "    return dec_n\n",
    "\n",
    "def bin_add(a, b):\n",
    "    len_a = len(a)\n",
    "    result = [0]*32\n",
    "    carry = 0\n",
    "    for i in range(len_a):\n",
    "        result[len_a - i - 1] = a[len_a - i - 1] + b[len_a - i - 1] + carry\n",
    "        carry = int(result[len_a - i - 1] / 2)\n",
    "        result[len_a - i - 1] = result[len_a - i - 1] % 2\n",
    "    return result\n",
    "\n",
    "\n",
    "def bin_mul(a,b):\n",
    "    len_a = len(a)\n",
    "    res_add = [0]*32\n",
    "    for i in range(len_a):\n",
    "        res_mul = [0]*32\n",
    "        for j in range(len_a-i):\n",
    "            res_mul[len_a-1-i-j] = a[len_a-1-i] & b[len_a-1-j]\n",
    "        res_add = bin_add(res_add, res_mul)\n",
    "        res_add\n",
    "    return res_add"
   ]
  },
  {
   "cell_type": "code",
   "execution_count": null,
   "metadata": {},
   "outputs": [],
   "source": [
    "\n"
   ]
  },
  {
   "cell_type": "markdown",
   "metadata": {},
   "source": [
    "## Lehmer low/high\n",
    "\n"
   ]
  },
  {
   "cell_type": "code",
   "execution_count": 239,
   "metadata": {},
   "outputs": [
    {
     "name": "stdout",
     "output_type": "stream",
     "text": [
      "131073\n",
      "32\n",
      "[0, 0, 0, 0, 0, 0, 0, 0, 0, 0, 0, 0, 0, 0, 0, 1, 0, 0, 0, 0, 0, 0, 0, 0, 0, 0, 0, 0, 0, 0, 0, 1]\n"
     ]
    }
   ],
   "source": [
    "#constants\n",
    "a = [0, 0, 0, 0, 0, 0, 0, 0, 0, 0, 0, 0, 0, 0, 0, 1, 0, 0, 0, 0, 0, 0, 0, 0, 0, 0, 0, 0, 0, 0, 0, 1]\n",
    "c = [0, 0, 0, 0, 0, 0, 0, 0, 0, 0, 0, 0, 0, 0, 0, 0, 0, 0, 0, 0, 0, 0, 0, 0, 0, 1, 1, 1, 0, 1, 1, 1]\n",
    "m = [1, 0, 0, 0, 0, 0, 0, 0, 0, 0, 0, 0, 0, 0, 0, 0, 0, 0, 0, 0, 0, 0, 0, 0, 0, 0, 0, 0, 0, 0, 0, 0, 0]\n",
    "print(bin_to_dec(bin_mul(a,a)))\n",
    "print(len(a))\n",
    "print(a)"
   ]
  },
  {
   "cell_type": "code",
   "execution_count": 240,
   "metadata": {},
   "outputs": [],
   "source": [
    "def lehmer_low(x0,n):\n",
    "    res = [0]*8\n",
    "    for i in range(n):\n",
    "        x0 = bin_add((bin_mul(a,x0)),c)\n",
    "    len = 8\n",
    "    for j in range(len):\n",
    "        res[len-1-j] = x0[32-len+j]\n",
    "    return res\n",
    "\n",
    "def lehmer_high(x0,n):\n",
    "    res = [0]*8\n",
    "    for i in range(n):\n",
    "        x0 = bin_add((bin_mul(a,x0)),c)\n",
    "    len = 8\n",
    "    for j in range(len):\n",
    "        res[j] = x0[j]\n",
    "    return res\n"
   ]
  },
  {
   "cell_type": "markdown",
   "metadata": {},
   "source": [
    "## define $x_0$ , n"
   ]
  },
  {
   "cell_type": "code",
   "execution_count": 241,
   "metadata": {},
   "outputs": [
    {
     "name": "stdout",
     "output_type": "stream",
     "text": [
      "[0, 0, 0, 1, 1, 1, 1, 0]\n",
      "[0, 0, 0, 0, 0, 0, 0, 0]\n"
     ]
    }
   ],
   "source": [
    "x0 = [0, 0, 0, 0, 0, 0, 0, 0, 0, 0, 0, 0, 0, 0, 0, 0, 0, 0, 0, 0, 0, 0, 0, 0, 0, 0, 0, 0, 0, 0, 0, 1]\n",
    "n=1\n",
    "print(lehmer_low(x0,n))\n",
    "print(lehmer_high(x0,n))"
   ]
  },
  {
   "cell_type": "markdown",
   "metadata": {},
   "source": []
  }
 ],
 "metadata": {
  "kernelspec": {
   "display_name": "Python 3",
   "language": "python",
   "name": "python3"
  },
  "language_info": {
   "codemirror_mode": {
    "name": "ipython",
    "version": 3
   },
   "file_extension": ".py",
   "mimetype": "text/x-python",
   "name": "python",
   "nbconvert_exporter": "python",
   "pygments_lexer": "ipython3",
   "version": "3.10.10"
  },
  "orig_nbformat": 4
 },
 "nbformat": 4,
 "nbformat_minor": 2
}
